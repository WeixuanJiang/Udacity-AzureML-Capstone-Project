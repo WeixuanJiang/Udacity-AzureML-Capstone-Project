{
 "cells": [
  {
   "cell_type": "markdown",
   "metadata": {},
   "source": [
    "# Automated ML\n",
    "\n",
    "TODO: Import Dependencies. In the cell below, import all the dependencies that you will need to complete the project."
   ]
  },
  {
   "cell_type": "code",
   "execution_count": 1,
   "metadata": {
    "gather": {
     "logged": 1598423888013
    },
    "jupyter": {
     "outputs_hidden": false,
     "source_hidden": false
    },
    "nteract": {
     "transient": {
      "deleting": false
     }
    }
   },
   "outputs": [
    {
     "name": "stderr",
     "output_type": "stream",
     "text": [
      "Failure while loading azureml_run_type_providers. Failed to load entrypoint automl = azureml.train.automl.run:AutoMLRun._from_run_dto with exception (azureml-dataprep-rslex 1.2.3 (c:\\users\\long8\\appdata\\roaming\\python\\python38\\site-packages), Requirement.parse('azureml-dataprep-rslex<1.10.0a,>=1.9.0dev0'), {'azureml-dataprep'}).\n"
     ]
    }
   ],
   "source": [
    "from azureml.train.automl import AutoMLConfig\n",
    "import numpy as np\n",
    "import pandas as pd\n",
    "import matplotlib.pyplot as plt\n",
    "import azureml.core\n",
    "from azureml.core import Workspace, Experiment\n",
    "from azureml.core.compute import AmlCompute, ComputeTarget\n",
    "from azureml.widgets import RunDetails\n",
    "from azureml.core.dataset import Dataset\n",
    "import os"
   ]
  },
  {
   "cell_type": "markdown",
   "metadata": {},
   "source": [
    "## Dataset\n",
    "\n",
    "### Overview\n",
    "TODO: In this markdown cell, give an overview of the dataset you are using. Also mention the task you will be performing.\n",
    "\n",
    "\n",
    "TODO: Get data. In the cell below, write code to access the data you will be using in this project. Remember that the dataset needs to be external."
   ]
  },
  {
   "cell_type": "code",
   "execution_count": 2,
   "metadata": {},
   "outputs": [],
   "source": [
    "def compute_target(ws,compute_name='cpu-cluster-1',vm_size=\"STANDARD_D2_V2\",compute_min_nodes=0,compute_max_nodes=4):\n",
    "    if compute_name in ws.compute_targets:\n",
    "        compute_target = ws.compute_targets[compute_name]\n",
    "        if compute_target and type(compute_target) is AmlCompute:\n",
    "            print('found compute target. just use it. ' + compute_name)\n",
    "    else:\n",
    "        print('Creating a new compute target')\n",
    "        config = AmlCompute.provisioning_configuration(vm_size=vm_size,\n",
    "                                                       min_nodes=compute_min_nodes,\n",
    "                                                       max_nodes=compute_max_nodes)\n",
    "        # create a cluster\n",
    "        compute_target = ComputeTarget.create(ws,compute_name,config)\n",
    "        compute_target.wait_for_completion(show_output=True)\n",
    "    return compute_target"
   ]
  },
  {
   "cell_type": "code",
   "execution_count": 3,
   "metadata": {
    "gather": {
     "logged": 1598423890461
    },
    "jupyter": {
     "outputs_hidden": false,
     "source_hidden": false
    },
    "nteract": {
     "transient": {
      "deleting": false
     }
    }
   },
   "outputs": [
    {
     "name": "stderr",
     "output_type": "stream",
     "text": [
      "Warning: Falling back to use azure cli login credentials.\n",
      "If you run your code in unattended mode, i.e., where you can't give a user input, then we recommend to use ServicePrincipalAuthentication or MsiAuthentication.\n",
      "Please refer to aka.ms/aml-notebook-auth for different authentication mechanisms in azureml-sdk.\n"
     ]
    },
    {
     "name": "stdout",
     "output_type": "stream",
     "text": [
      "found compute target. just use it. cpu-cluster\n"
     ]
    }
   ],
   "source": [
    "ws = Workspace.from_config('.')\n",
    "\n",
    "# choose a name for experiment\n",
    "experiment_name = 'project-automl-1'\n",
    "\n",
    "experiment=Experiment(ws, experiment_name)\n",
    "\n",
    "# create compute target\n",
    "compute_target = compute_target(ws,compute_name='cpu-cluster',\n",
    "                                vm_size=\"STANDARD_D2_V2\",\n",
    "                                compute_min_nodes=0,\n",
    "                                compute_max_nodes=4)"
   ]
  },
  {
   "cell_type": "code",
   "execution_count": 6,
   "metadata": {},
   "outputs": [],
   "source": [
    "# load data set\n",
    "workspace = Workspace.from_config('.')\n",
    "dataset = Dataset.get_by_name(workspace, name='adult')"
   ]
  },
  {
   "cell_type": "markdown",
   "metadata": {},
   "source": [
    "## AutoML Configuration\n",
    "\n",
    "TODO: Explain why you chose the automl settings and cofiguration you used below."
   ]
  },
  {
   "cell_type": "code",
   "execution_count": 7,
   "metadata": {
    "gather": {
     "logged": 1598429217746
    },
    "jupyter": {
     "outputs_hidden": false,
     "source_hidden": false
    },
    "nteract": {
     "transient": {
      "deleting": false
     }
    }
   },
   "outputs": [],
   "source": [
    "# TODO: Put your automl config here\n",
    "automl_config = AutoMLConfig(\n",
    "    training_data= dataset,\n",
    "    validation_size = 0.2,\n",
    "    label_column_name='class-label',\n",
    "    experiment_timeout_minutes=30,\n",
    "    compute_target=compute_target,\n",
    "    task='classification',\n",
    "    primary_metric='accuracy',\n",
    "    n_cross_validations=3,\n",
    "    enable_onnx_compatible_models=True,\n",
    "    iterations=10)"
   ]
  },
  {
   "cell_type": "code",
   "execution_count": 8,
   "metadata": {
    "gather": {
     "logged": 1598431107951
    },
    "jupyter": {
     "outputs_hidden": false,
     "source_hidden": false
    },
    "nteract": {
     "transient": {
      "deleting": false
     }
    }
   },
   "outputs": [
    {
     "name": "stdout",
     "output_type": "stream",
     "text": [
      "Submitting remote run.\n"
     ]
    },
    {
     "data": {
      "text/html": [
       "<table style=\"width:100%\"><tr><th>Experiment</th><th>Id</th><th>Type</th><th>Status</th><th>Details Page</th><th>Docs Page</th></tr><tr><td>project-automl-1</td><td>AutoML_6134171f-7acb-4c71-92b5-5f171357441d</td><td>automl</td><td>NotStarted</td><td><a href=\"https://ml.azure.com/runs/AutoML_6134171f-7acb-4c71-92b5-5f171357441d?wsid=/subscriptions/c8eb054b-91b3-425d-acbc-fe49c970c7c4/resourcegroups/udacity/workspaces/azProject3&amp;tid=3c3cb7bb-3b39-461c-a638-72ab2edec2c9\" target=\"_blank\" rel=\"noopener\">Link to Azure Machine Learning studio</a></td><td><a href=\"https://docs.microsoft.com/en-us/python/api/overview/azure/ml/intro?view=azure-ml-py\" target=\"_blank\" rel=\"noopener\">Link to Documentation</a></td></tr></table>"
      ],
      "text/plain": [
       "<IPython.core.display.HTML object>"
      ]
     },
     "metadata": {},
     "output_type": "display_data"
    }
   ],
   "source": [
    "# TODO: Submit your experiment\n",
    "remote_run = experiment.submit(automl_config)"
   ]
  },
  {
   "cell_type": "markdown",
   "metadata": {},
   "source": [
    "## Run Details\n",
    "\n",
    "OPTIONAL: Write about the different models trained and their performance. Why do you think some models did better than others?\n",
    "\n",
    "TODO: In the cell below, use the `RunDetails` widget to show the different experiments."
   ]
  },
  {
   "cell_type": "code",
   "execution_count": 9,
   "metadata": {
    "gather": {
     "logged": 1598431121770
    },
    "jupyter": {
     "outputs_hidden": false,
     "source_hidden": false
    },
    "nteract": {
     "transient": {
      "deleting": false
     }
    },
    "scrolled": false
   },
   "outputs": [
    {
     "data": {
      "application/vnd.jupyter.widget-view+json": {
       "model_id": "f36144fdfdb44c6d8e9c83879115d256",
       "version_major": 2,
       "version_minor": 0
      },
      "text/plain": [
       "_AutoMLWidget(widget_settings={'childWidgetDisplay': 'popup', 'send_telemetry': False, 'log_level': 'INFO', 's…"
      ]
     },
     "metadata": {},
     "output_type": "display_data"
    },
    {
     "data": {
      "application/aml.mini.widget.v1": "{\"status\": \"Completed\", \"workbench_run_details_uri\": \"https://ml.azure.com/runs/AutoML_6134171f-7acb-4c71-92b5-5f171357441d?wsid=/subscriptions/c8eb054b-91b3-425d-acbc-fe49c970c7c4/resourcegroups/udacity/workspaces/azProject3&tid=3c3cb7bb-3b39-461c-a638-72ab2edec2c9\", \"run_id\": \"AutoML_6134171f-7acb-4c71-92b5-5f171357441d\", \"run_properties\": {\"run_id\": \"AutoML_6134171f-7acb-4c71-92b5-5f171357441d\", \"created_utc\": \"2021-04-03T05:28:28.987573Z\", \"properties\": {\"num_iterations\": \"10\", \"training_type\": \"TrainFull\", \"acquisition_function\": \"EI\", \"primary_metric\": \"accuracy\", \"train_split\": \"0.2\", \"acquisition_parameter\": \"0\", \"num_cross_validation\": \"3\", \"target\": \"cpu-cluster\", \"AMLSettingsJsonString\": \"{\\\"path\\\":null,\\\"name\\\":\\\"project-automl-1\\\",\\\"subscription_id\\\":\\\"c8eb054b-91b3-425d-acbc-fe49c970c7c4\\\",\\\"resource_group\\\":\\\"udacity\\\",\\\"workspace_name\\\":\\\"azProject3\\\",\\\"region\\\":\\\"australiaeast\\\",\\\"compute_target\\\":\\\"cpu-cluster\\\",\\\"spark_service\\\":null,\\\"azure_service\\\":\\\"remote\\\",\\\"many_models\\\":false,\\\"pipeline_fetch_max_batch_size\\\":1,\\\"enable_batch_run\\\":false,\\\"enable_run_restructure\\\":false,\\\"iterations\\\":10,\\\"primary_metric\\\":\\\"accuracy\\\",\\\"task_type\\\":\\\"classification\\\",\\\"data_script\\\":null,\\\"test_size\\\":0.0,\\\"validation_size\\\":0.2,\\\"n_cross_validations\\\":3,\\\"y_min\\\":null,\\\"y_max\\\":null,\\\"num_classes\\\":null,\\\"featurization\\\":\\\"auto\\\",\\\"_ignore_package_version_incompatibilities\\\":false,\\\"is_timeseries\\\":false,\\\"max_cores_per_iteration\\\":1,\\\"max_concurrent_iterations\\\":1,\\\"iteration_timeout_minutes\\\":null,\\\"mem_in_mb\\\":null,\\\"enforce_time_on_windows\\\":true,\\\"experiment_timeout_minutes\\\":30,\\\"experiment_exit_score\\\":null,\\\"whitelist_models\\\":null,\\\"blacklist_algos\\\":[\\\"TensorFlowLinearClassifier\\\",\\\"TensorFlowDNN\\\"],\\\"supported_models\\\":[\\\"SVM\\\",\\\"DecisionTree\\\",\\\"TensorFlowLinearClassifier\\\",\\\"AveragedPerceptronClassifier\\\",\\\"SGD\\\",\\\"KNN\\\",\\\"LogisticRegression\\\",\\\"BernoulliNaiveBayes\\\",\\\"ExtremeRandomTrees\\\",\\\"LightGBM\\\",\\\"MultinomialNaiveBayes\\\",\\\"LinearSVM\\\",\\\"XGBoostClassifier\\\",\\\"GradientBoosting\\\",\\\"RandomForest\\\",\\\"TensorFlowDNN\\\"],\\\"private_models\\\":[],\\\"auto_blacklist\\\":true,\\\"blacklist_samples_reached\\\":false,\\\"exclude_nan_labels\\\":true,\\\"verbosity\\\":20,\\\"_debug_log\\\":\\\"azureml_automl.log\\\",\\\"show_warnings\\\":false,\\\"model_explainability\\\":true,\\\"service_url\\\":null,\\\"sdk_url\\\":null,\\\"sdk_packages\\\":null,\\\"enable_onnx_compatible_models\\\":true,\\\"enable_split_onnx_featurizer_estimator_models\\\":false,\\\"vm_type\\\":\\\"STANDARD_DS3_V2\\\",\\\"telemetry_verbosity\\\":20,\\\"send_telemetry\\\":true,\\\"enable_dnn\\\":false,\\\"scenario\\\":\\\"SDK-1.13.0\\\",\\\"environment_label\\\":null,\\\"save_mlflow\\\":false,\\\"force_text_dnn\\\":false,\\\"enable_feature_sweeping\\\":false,\\\"enable_early_stopping\\\":false,\\\"early_stopping_n_iters\\\":10,\\\"metrics\\\":null,\\\"enable_metric_confidence\\\":false,\\\"enable_ensembling\\\":true,\\\"enable_stack_ensembling\\\":false,\\\"ensemble_iterations\\\":10,\\\"enable_tf\\\":false,\\\"enable_subsampling\\\":false,\\\"subsample_seed\\\":null,\\\"enable_nimbusml\\\":false,\\\"enable_streaming\\\":false,\\\"force_streaming\\\":false,\\\"track_child_runs\\\":true,\\\"allowed_private_models\\\":[],\\\"label_column_name\\\":\\\"class-label\\\",\\\"weight_column_name\\\":null,\\\"cv_split_column_names\\\":null,\\\"enable_local_managed\\\":false,\\\"_local_managed_run_id\\\":null,\\\"cost_mode\\\":1,\\\"lag_length\\\":0,\\\"metric_operation\\\":\\\"maximize\\\",\\\"preprocess\\\":true}\", \"DataPrepJsonString\": \"{\\\\\\\"training_data\\\\\\\": \\\\\\\"{\\\\\\\\\\\\\\\"blocks\\\\\\\\\\\\\\\": [{\\\\\\\\\\\\\\\"id\\\\\\\\\\\\\\\": \\\\\\\\\\\\\\\"26f508c8-cd28-4b24-8b4f-adcdd0f519f2\\\\\\\\\\\\\\\", \\\\\\\\\\\\\\\"type\\\\\\\\\\\\\\\": \\\\\\\\\\\\\\\"Microsoft.DPrep.GetDatastoreFilesBlock\\\\\\\\\\\\\\\", \\\\\\\\\\\\\\\"arguments\\\\\\\\\\\\\\\": {\\\\\\\\\\\\\\\"datastores\\\\\\\\\\\\\\\": [{\\\\\\\\\\\\\\\"datastoreName\\\\\\\\\\\\\\\": \\\\\\\\\\\\\\\"workspaceblobstore\\\\\\\\\\\\\\\", \\\\\\\\\\\\\\\"path\\\\\\\\\\\\\\\": \\\\\\\\\\\\\\\"UI/04-03-2021_050520_UTC/Adult_Data_Set.csv\\\\\\\\\\\\\\\", \\\\\\\\\\\\\\\"resourceGroup\\\\\\\\\\\\\\\": \\\\\\\\\\\\\\\"udacity\\\\\\\\\\\\\\\", \\\\\\\\\\\\\\\"subscription\\\\\\\\\\\\\\\": \\\\\\\\\\\\\\\"c8eb054b-91b3-425d-acbc-fe49c970c7c4\\\\\\\\\\\\\\\", \\\\\\\\\\\\\\\"workspaceName\\\\\\\\\\\\\\\": \\\\\\\\\\\\\\\"azProject3\\\\\\\\\\\\\\\"}]}, \\\\\\\\\\\\\\\"localData\\\\\\\\\\\\\\\": {}, \\\\\\\\\\\\\\\"isEnabled\\\\\\\\\\\\\\\": true, \\\\\\\\\\\\\\\"name\\\\\\\\\\\\\\\": null, \\\\\\\\\\\\\\\"annotation\\\\\\\\\\\\\\\": null}, {\\\\\\\\\\\\\\\"id\\\\\\\\\\\\\\\": \\\\\\\\\\\\\\\"b13ddaf3-e859-4e80-9cc4-61f25a34e9bf\\\\\\\\\\\\\\\", \\\\\\\\\\\\\\\"type\\\\\\\\\\\\\\\": \\\\\\\\\\\\\\\"Microsoft.DPrep.ParseDelimitedBlock\\\\\\\\\\\\\\\", \\\\\\\\\\\\\\\"arguments\\\\\\\\\\\\\\\": {\\\\\\\\\\\\\\\"columnHeadersMode\\\\\\\\\\\\\\\": 1, \\\\\\\\\\\\\\\"fileEncoding\\\\\\\\\\\\\\\": 0, \\\\\\\\\\\\\\\"handleQuotedLineBreaks\\\\\\\\\\\\\\\": false, \\\\\\\\\\\\\\\"preview\\\\\\\\\\\\\\\": false, \\\\\\\\\\\\\\\"separator\\\\\\\\\\\\\\\": \\\\\\\\\\\\\\\",\\\\\\\\\\\\\\\", \\\\\\\\\\\\\\\"skipRows\\\\\\\\\\\\\\\": 0, \\\\\\\\\\\\\\\"skipRowsMode\\\\\\\\\\\\\\\": 0}, \\\\\\\\\\\\\\\"localData\\\\\\\\\\\\\\\": {}, \\\\\\\\\\\\\\\"isEnabled\\\\\\\\\\\\\\\": true, \\\\\\\\\\\\\\\"name\\\\\\\\\\\\\\\": null, \\\\\\\\\\\\\\\"annotation\\\\\\\\\\\\\\\": null}, {\\\\\\\\\\\\\\\"id\\\\\\\\\\\\\\\": \\\\\\\\\\\\\\\"5b91e456-24d0-4b3c-b923-842a9699a63b\\\\\\\\\\\\\\\", \\\\\\\\\\\\\\\"type\\\\\\\\\\\\\\\": \\\\\\\\\\\\\\\"Microsoft.DPrep.DropColumnsBlock\\\\\\\\\\\\\\\", \\\\\\\\\\\\\\\"arguments\\\\\\\\\\\\\\\": {\\\\\\\\\\\\\\\"columns\\\\\\\\\\\\\\\": {\\\\\\\\\\\\\\\"type\\\\\\\\\\\\\\\": 0, \\\\\\\\\\\\\\\"details\\\\\\\\\\\\\\\": {\\\\\\\\\\\\\\\"selectedColumns\\\\\\\\\\\\\\\": [\\\\\\\\\\\\\\\"Path\\\\\\\\\\\\\\\"]}}}, \\\\\\\\\\\\\\\"localData\\\\\\\\\\\\\\\": {}, \\\\\\\\\\\\\\\"isEnabled\\\\\\\\\\\\\\\": true, \\\\\\\\\\\\\\\"name\\\\\\\\\\\\\\\": null, \\\\\\\\\\\\\\\"annotation\\\\\\\\\\\\\\\": null}, {\\\\\\\\\\\\\\\"id\\\\\\\\\\\\\\\": \\\\\\\\\\\\\\\"487cfc38-3c07-4f54-b294-a88845d0d482\\\\\\\\\\\\\\\", \\\\\\\\\\\\\\\"type\\\\\\\\\\\\\\\": \\\\\\\\\\\\\\\"Microsoft.DPrep.SetColumnTypesBlock\\\\\\\\\\\\\\\", \\\\\\\\\\\\\\\"arguments\\\\\\\\\\\\\\\": {\\\\\\\\\\\\\\\"columnConversion\\\\\\\\\\\\\\\": [{\\\\\\\\\\\\\\\"column\\\\\\\\\\\\\\\": {\\\\\\\\\\\\\\\"type\\\\\\\\\\\\\\\": 2, \\\\\\\\\\\\\\\"details\\\\\\\\\\\\\\\": {\\\\\\\\\\\\\\\"selectedColumn\\\\\\\\\\\\\\\": \\\\\\\\\\\\\\\"Path\\\\\\\\\\\\\\\"}}, \\\\\\\\\\\\\\\"typeProperty\\\\\\\\\\\\\\\": 0}, {\\\\\\\\\\\\\\\"column\\\\\\\\\\\\\\\": {\\\\\\\\\\\\\\\"type\\\\\\\\\\\\\\\": 2, \\\\\\\\\\\\\\\"details\\\\\\\\\\\\\\\": {\\\\\\\\\\\\\\\"selectedColumn\\\\\\\\\\\\\\\": \\\\\\\\\\\\\\\"age\\\\\\\\\\\\\\\"}}, \\\\\\\\\\\\\\\"typeProperty\\\\\\\\\\\\\\\": 2}, {\\\\\\\\\\\\\\\"column\\\\\\\\\\\\\\\": {\\\\\\\\\\\\\\\"type\\\\\\\\\\\\\\\": 2, \\\\\\\\\\\\\\\"details\\\\\\\\\\\\\\\": {\\\\\\\\\\\\\\\"selectedColumn\\\\\\\\\\\\\\\": \\\\\\\\\\\\\\\"workclass\\\\\\\\\\\\\\\"}}, \\\\\\\\\\\\\\\"typeProperty\\\\\\\\\\\\\\\": 0}, {\\\\\\\\\\\\\\\"column\\\\\\\\\\\\\\\": {\\\\\\\\\\\\\\\"type\\\\\\\\\\\\\\\": 2, \\\\\\\\\\\\\\\"details\\\\\\\\\\\\\\\": {\\\\\\\\\\\\\\\"selectedColumn\\\\\\\\\\\\\\\": \\\\\\\\\\\\\\\"fnlwgt\\\\\\\\\\\\\\\"}}, \\\\\\\\\\\\\\\"typeProperty\\\\\\\\\\\\\\\": 2}, {\\\\\\\\\\\\\\\"column\\\\\\\\\\\\\\\": {\\\\\\\\\\\\\\\"type\\\\\\\\\\\\\\\": 2, \\\\\\\\\\\\\\\"details\\\\\\\\\\\\\\\": {\\\\\\\\\\\\\\\"selectedColumn\\\\\\\\\\\\\\\": \\\\\\\\\\\\\\\"education\\\\\\\\\\\\\\\"}}, \\\\\\\\\\\\\\\"typeProperty\\\\\\\\\\\\\\\": 0}, {\\\\\\\\\\\\\\\"column\\\\\\\\\\\\\\\": {\\\\\\\\\\\\\\\"type\\\\\\\\\\\\\\\": 2, \\\\\\\\\\\\\\\"details\\\\\\\\\\\\\\\": {\\\\\\\\\\\\\\\"selectedColumn\\\\\\\\\\\\\\\": \\\\\\\\\\\\\\\"education-num\\\\\\\\\\\\\\\"}}, \\\\\\\\\\\\\\\"typeProperty\\\\\\\\\\\\\\\": 2}, {\\\\\\\\\\\\\\\"column\\\\\\\\\\\\\\\": {\\\\\\\\\\\\\\\"type\\\\\\\\\\\\\\\": 2, \\\\\\\\\\\\\\\"details\\\\\\\\\\\\\\\": {\\\\\\\\\\\\\\\"selectedColumn\\\\\\\\\\\\\\\": \\\\\\\\\\\\\\\"marital-status\\\\\\\\\\\\\\\"}}, \\\\\\\\\\\\\\\"typeProperty\\\\\\\\\\\\\\\": 0}, {\\\\\\\\\\\\\\\"column\\\\\\\\\\\\\\\": {\\\\\\\\\\\\\\\"type\\\\\\\\\\\\\\\": 2, \\\\\\\\\\\\\\\"details\\\\\\\\\\\\\\\": {\\\\\\\\\\\\\\\"selectedColumn\\\\\\\\\\\\\\\": \\\\\\\\\\\\\\\"occupation\\\\\\\\\\\\\\\"}}, \\\\\\\\\\\\\\\"typeProperty\\\\\\\\\\\\\\\": 0}, {\\\\\\\\\\\\\\\"column\\\\\\\\\\\\\\\": {\\\\\\\\\\\\\\\"type\\\\\\\\\\\\\\\": 2, \\\\\\\\\\\\\\\"details\\\\\\\\\\\\\\\": {\\\\\\\\\\\\\\\"selectedColumn\\\\\\\\\\\\\\\": \\\\\\\\\\\\\\\"relationship\\\\\\\\\\\\\\\"}}, \\\\\\\\\\\\\\\"typeProperty\\\\\\\\\\\\\\\": 0}, {\\\\\\\\\\\\\\\"column\\\\\\\\\\\\\\\": {\\\\\\\\\\\\\\\"type\\\\\\\\\\\\\\\": 2, \\\\\\\\\\\\\\\"details\\\\\\\\\\\\\\\": {\\\\\\\\\\\\\\\"selectedColumn\\\\\\\\\\\\\\\": \\\\\\\\\\\\\\\"race\\\\\\\\\\\\\\\"}}, \\\\\\\\\\\\\\\"typeProperty\\\\\\\\\\\\\\\": 0}, {\\\\\\\\\\\\\\\"column\\\\\\\\\\\\\\\": {\\\\\\\\\\\\\\\"type\\\\\\\\\\\\\\\": 2, \\\\\\\\\\\\\\\"details\\\\\\\\\\\\\\\": {\\\\\\\\\\\\\\\"selectedColumn\\\\\\\\\\\\\\\": \\\\\\\\\\\\\\\"sex\\\\\\\\\\\\\\\"}}, \\\\\\\\\\\\\\\"typeProperty\\\\\\\\\\\\\\\": 0}, {\\\\\\\\\\\\\\\"column\\\\\\\\\\\\\\\": {\\\\\\\\\\\\\\\"type\\\\\\\\\\\\\\\": 2, \\\\\\\\\\\\\\\"details\\\\\\\\\\\\\\\": {\\\\\\\\\\\\\\\"selectedColumn\\\\\\\\\\\\\\\": \\\\\\\\\\\\\\\"capital-gain\\\\\\\\\\\\\\\"}}, \\\\\\\\\\\\\\\"typeProperty\\\\\\\\\\\\\\\": 2}, {\\\\\\\\\\\\\\\"column\\\\\\\\\\\\\\\": {\\\\\\\\\\\\\\\"type\\\\\\\\\\\\\\\": 2, \\\\\\\\\\\\\\\"details\\\\\\\\\\\\\\\": {\\\\\\\\\\\\\\\"selectedColumn\\\\\\\\\\\\\\\": \\\\\\\\\\\\\\\"capital-loss\\\\\\\\\\\\\\\"}}, \\\\\\\\\\\\\\\"typeProperty\\\\\\\\\\\\\\\": 2}, {\\\\\\\\\\\\\\\"column\\\\\\\\\\\\\\\": {\\\\\\\\\\\\\\\"type\\\\\\\\\\\\\\\": 2, \\\\\\\\\\\\\\\"details\\\\\\\\\\\\\\\": {\\\\\\\\\\\\\\\"selectedColumn\\\\\\\\\\\\\\\": \\\\\\\\\\\\\\\"hours-per-week\\\\\\\\\\\\\\\"}}, \\\\\\\\\\\\\\\"typeProperty\\\\\\\\\\\\\\\": 2}, {\\\\\\\\\\\\\\\"column\\\\\\\\\\\\\\\": {\\\\\\\\\\\\\\\"type\\\\\\\\\\\\\\\": 2, \\\\\\\\\\\\\\\"details\\\\\\\\\\\\\\\": {\\\\\\\\\\\\\\\"selectedColumn\\\\\\\\\\\\\\\": \\\\\\\\\\\\\\\"native-country\\\\\\\\\\\\\\\"}}, \\\\\\\\\\\\\\\"typeProperty\\\\\\\\\\\\\\\": 0}, {\\\\\\\\\\\\\\\"column\\\\\\\\\\\\\\\": {\\\\\\\\\\\\\\\"type\\\\\\\\\\\\\\\": 2, \\\\\\\\\\\\\\\"details\\\\\\\\\\\\\\\": {\\\\\\\\\\\\\\\"selectedColumn\\\\\\\\\\\\\\\": \\\\\\\\\\\\\\\"class-label\\\\\\\\\\\\\\\"}}, \\\\\\\\\\\\\\\"typeProperty\\\\\\\\\\\\\\\": 0}]}, \\\\\\\\\\\\\\\"localData\\\\\\\\\\\\\\\": {}, \\\\\\\\\\\\\\\"isEnabled\\\\\\\\\\\\\\\": true, \\\\\\\\\\\\\\\"name\\\\\\\\\\\\\\\": null, \\\\\\\\\\\\\\\"annotation\\\\\\\\\\\\\\\": null}], \\\\\\\\\\\\\\\"inspectors\\\\\\\\\\\\\\\": [], \\\\\\\\\\\\\\\"meta\\\\\\\\\\\\\\\": {\\\\\\\\\\\\\\\"savedDatasetId\\\\\\\\\\\\\\\": \\\\\\\\\\\\\\\"312ef190-1be0-446e-9b84-d49e1f0b22a9\\\\\\\\\\\\\\\", \\\\\\\\\\\\\\\"datasetType\\\\\\\\\\\\\\\": \\\\\\\\\\\\\\\"tabular\\\\\\\\\\\\\\\", \\\\\\\\\\\\\\\"subscriptionId\\\\\\\\\\\\\\\": \\\\\\\\\\\\\\\"c8eb054b-91b3-425d-acbc-fe49c970c7c4\\\\\\\\\\\\\\\", \\\\\\\\\\\\\\\"workspaceId\\\\\\\\\\\\\\\": \\\\\\\\\\\\\\\"5395abde-07a5-41c1-b115-2f533dd360b4\\\\\\\\\\\\\\\", \\\\\\\\\\\\\\\"workspaceLocation\\\\\\\\\\\\\\\": \\\\\\\\\\\\\\\"australiaeast\\\\\\\\\\\\\\\"}}\\\\\\\", \\\\\\\"activities\\\\\\\": 0}\", \"EnableSubsampling\": \"False\", \"runTemplate\": \"AutoML\", \"azureml.runsource\": \"automl\", \"display_task_type\": \"classification\", \"dependencies_versions\": \"{\\\"azureml\\\": \\\"0.2.7\\\", \\\"azureml-widgets\\\": \\\"1.25.0\\\", \\\"azureml-train\\\": \\\"1.25.0\\\", \\\"azureml-train-restclients-hyperdrive\\\": \\\"1.25.0\\\", \\\"azureml-train-core\\\": \\\"1.25.0\\\", \\\"azureml-train-automl-client\\\": \\\"1.25.0\\\", \\\"azureml-telemetry\\\": \\\"1.25.0\\\", \\\"azureml-sdk\\\": \\\"1.25.0\\\", \\\"azureml-pipeline\\\": \\\"1.25.0\\\", \\\"azureml-pipeline-steps\\\": \\\"1.25.0\\\", \\\"azureml-pipeline-core\\\": \\\"1.25.0\\\", \\\"azureml-dataset-runtime\\\": \\\"1.25.0\\\", \\\"azureml-dataprep\\\": \\\"2.11.2\\\", \\\"azureml-dataprep-rslex\\\": \\\"1.2.3\\\", \\\"azureml-dataprep-native\\\": \\\"24.0.0\\\", \\\"azureml-core\\\": \\\"1.25.0\\\", \\\"azureml-automl-core\\\": \\\"1.25.0\\\"}\", \"_aml_system_scenario_identification\": \"Remote.Parent\", \"ClientType\": \"SDK\", \"environment_cpu_name\": \"AzureML-AutoML\", \"environment_cpu_label\": \"prod\", \"environment_gpu_name\": \"AzureML-AutoML-GPU\", \"environment_gpu_label\": \"prod\", \"root_attribution\": \"automl\", \"attribution\": \"AutoML\", \"Orchestrator\": \"AutoML\", \"CancelUri\": \"https://australiaeast.experiments.azureml.net/jasmine/v1.0/subscriptions/c8eb054b-91b3-425d-acbc-fe49c970c7c4/resourceGroups/udacity/providers/Microsoft.MachineLearningServices/workspaces/azProject3/experimentids/ba52476a-d46a-481c-b81b-df97f93a9139/cancel/AutoML_6134171f-7acb-4c71-92b5-5f171357441d\", \"ClientSdkVersion\": \"1.24.0\", \"snapshotId\": \"00000000-0000-0000-0000-000000000000\", \"SetupRunId\": \"AutoML_6134171f-7acb-4c71-92b5-5f171357441d_setup\", \"SetupRunContainerId\": \"dcid.AutoML_6134171f-7acb-4c71-92b5-5f171357441d_setup\", \"FeaturizationRunJsonPath\": \"featurizer_container.json\", \"FeaturizationRunId\": \"AutoML_6134171f-7acb-4c71-92b5-5f171357441d_featurize\", \"ProblemInfoJsonString\": \"{\\\"dataset_num_categorical\\\": 0, \\\"is_sparse\\\": true, \\\"subsampling\\\": false, \\\"dataset_classes\\\": 2, \\\"dataset_features\\\": 117, \\\"dataset_samples\\\": 13678, \\\"single_frequency_class_detected\\\": false}\", \"ModelExplainRunId\": \"AutoML_6134171f-7acb-4c71-92b5-5f171357441d_ModelExplain\"}, \"tags\": {\"model_explain_run\": \"best_run\", \"_aml_system_azureml.automlComponent\": \"AutoML\", \"pipeline_id\": \"\", \"score\": \"\", \"predicted_cost\": \"\", \"fit_time\": \"\", \"training_percent\": \"\", \"iteration\": \"\", \"run_preprocessor\": \"\", \"run_algorithm\": \"\", \"automl_best_child_run_id\": \"AutoML_6134171f-7acb-4c71-92b5-5f171357441d_9\", \"model_explain_best_run_child_id\": \"AutoML_6134171f-7acb-4c71-92b5-5f171357441d_9\"}, \"end_time_utc\": \"2021-04-03T05:51:38.536984Z\", \"status\": \"Completed\", \"log_files\": {}, \"log_groups\": [], \"run_duration\": \"0:23:09\", \"run_number\": \"1\", \"run_queued_details\": {\"status\": \"Completed\", \"details\": null}}, \"child_runs\": [{\"run_id\": \"AutoML_6134171f-7acb-4c71-92b5-5f171357441d_0\", \"run_number\": 5, \"metric\": null, \"status\": \"Completed\", \"run_type\": \"azureml.scriptrun\", \"training_percent\": \"100\", \"start_time\": \"2021-04-03T05:33:13.542737Z\", \"end_time\": \"2021-04-03T05:34:01.54167Z\", \"created_time\": \"2021-04-03T05:33:01.465933Z\", \"created_time_dt\": \"2021-04-03T05:33:01.465933Z\", \"duration\": \"0:01:00\", \"iteration\": \"0\", \"goal\": \"accuracy_max\", \"run_name\": \"MaxAbsScaler, LightGBM\", \"run_properties\": \"copy=True\", \"primary_metric\": 0.85769981, \"best_metric\": 0.85769981}, {\"run_id\": \"AutoML_6134171f-7acb-4c71-92b5-5f171357441d_1\", \"run_number\": 6, \"metric\": null, \"status\": \"Completed\", \"run_type\": \"azureml.scriptrun\", \"training_percent\": \"100\", \"start_time\": \"2021-04-03T05:34:20.471333Z\", \"end_time\": \"2021-04-03T05:35:07.490165Z\", \"created_time\": \"2021-04-03T05:34:02.917146Z\", \"created_time_dt\": \"2021-04-03T05:34:02.917146Z\", \"duration\": \"0:01:04\", \"iteration\": \"1\", \"goal\": \"accuracy_max\", \"run_name\": \"MaxAbsScaler, XGBoostClassifier\", \"run_properties\": \"copy=True\", \"primary_metric\": 0.85307018, \"best_metric\": 0.85769981}, {\"run_id\": \"AutoML_6134171f-7acb-4c71-92b5-5f171357441d_2\", \"run_number\": 7, \"metric\": null, \"status\": \"Completed\", \"run_type\": \"azureml.scriptrun\", \"training_percent\": \"100\", \"start_time\": \"2021-04-03T05:35:23.829815Z\", \"end_time\": \"2021-04-03T05:36:09.803806Z\", \"created_time\": \"2021-04-03T05:35:09.814285Z\", \"created_time_dt\": \"2021-04-03T05:35:09.814285Z\", \"duration\": \"0:00:59\", \"iteration\": \"2\", \"goal\": \"accuracy_max\", \"run_name\": \"MaxAbsScaler, RandomForest\", \"run_properties\": \"copy=True\", \"primary_metric\": 0.82249025, \"best_metric\": 0.85769981}, {\"run_id\": \"AutoML_6134171f-7acb-4c71-92b5-5f171357441d_3\", \"run_number\": 8, \"metric\": null, \"status\": \"Completed\", \"run_type\": \"azureml.scriptrun\", \"training_percent\": \"100\", \"start_time\": \"2021-04-03T05:38:59.980339Z\", \"end_time\": \"2021-04-03T05:39:44.078168Z\", \"created_time\": \"2021-04-03T05:36:12.600536Z\", \"created_time_dt\": \"2021-04-03T05:36:12.600536Z\", \"duration\": \"0:03:31\", \"iteration\": \"3\", \"goal\": \"accuracy_max\", \"run_name\": \"MaxAbsScaler, RandomForest\", \"run_properties\": \"copy=True\", \"primary_metric\": 0.76133041, \"best_metric\": 0.85769981}, {\"run_id\": \"AutoML_6134171f-7acb-4c71-92b5-5f171357441d_4\", \"run_number\": 9, \"metric\": null, \"status\": \"Completed\", \"run_type\": \"azureml.scriptrun\", \"training_percent\": \"100\", \"start_time\": \"2021-04-03T05:40:52.748273Z\", \"end_time\": \"2021-04-03T05:42:42.63442Z\", \"created_time\": \"2021-04-03T05:39:46.968575Z\", \"created_time_dt\": \"2021-04-03T05:39:46.968575Z\", \"duration\": \"0:02:55\", \"iteration\": \"4\", \"goal\": \"accuracy_max\", \"run_name\": \"MaxAbsScaler, RandomForest\", \"run_properties\": \"copy=True\", \"primary_metric\": 0.73903509, \"best_metric\": 0.85769981}, {\"run_id\": \"AutoML_6134171f-7acb-4c71-92b5-5f171357441d_5\", \"run_number\": 10, \"metric\": null, \"status\": \"Completed\", \"run_type\": \"azureml.scriptrun\", \"training_percent\": \"100\", \"start_time\": \"2021-04-03T05:44:34.307847Z\", \"end_time\": \"2021-04-03T05:45:18.416705Z\", \"created_time\": \"2021-04-03T05:42:44.950961Z\", \"created_time_dt\": \"2021-04-03T05:42:44.950961Z\", \"duration\": \"0:02:33\", \"iteration\": \"5\", \"goal\": \"accuracy_max\", \"run_name\": \"MaxAbsScaler, RandomForest\", \"run_properties\": \"copy=True\", \"primary_metric\": 0.73854776, \"best_metric\": 0.85769981}, {\"run_id\": \"AutoML_6134171f-7acb-4c71-92b5-5f171357441d_6\", \"run_number\": 11, \"metric\": null, \"status\": \"Completed\", \"run_type\": \"azureml.scriptrun\", \"training_percent\": \"100\", \"start_time\": \"2021-04-03T05:46:28.984089Z\", \"end_time\": \"2021-04-03T05:47:24.16987Z\", \"created_time\": \"2021-04-03T05:45:20.630749Z\", \"created_time_dt\": \"2021-04-03T05:45:20.630749Z\", \"duration\": \"0:02:03\", \"iteration\": \"6\", \"goal\": \"accuracy_max\", \"run_name\": \"SparseNormalizer, XGBoostClassifier\", \"run_properties\": \"<azureml.automl.runtime.shared.model_wrappers.SparseNormalizer object at 0x7f8896a37160\", \"primary_metric\": 0.83528265, \"best_metric\": 0.85769981}, {\"run_id\": \"AutoML_6134171f-7acb-4c71-92b5-5f171357441d_7\", \"run_number\": 12, \"metric\": null, \"status\": \"Completed\", \"run_type\": \"azureml.scriptrun\", \"training_percent\": \"100\", \"start_time\": \"2021-04-03T05:48:34.14769Z\", \"end_time\": \"2021-04-03T05:49:28.914265Z\", \"created_time\": \"2021-04-03T05:47:26.771287Z\", \"created_time_dt\": \"2021-04-03T05:47:26.771287Z\", \"duration\": \"0:02:02\", \"iteration\": \"7\", \"goal\": \"accuracy_max\", \"run_name\": \"MaxAbsScaler, RandomForest\", \"run_properties\": \"copy=True\", \"primary_metric\": 0.76120858, \"best_metric\": 0.85769981}, {\"run_id\": \"AutoML_6134171f-7acb-4c71-92b5-5f171357441d_8\", \"run_number\": 13, \"metric\": null, \"status\": \"Completed\", \"run_type\": \"azureml.scriptrun\", \"training_percent\": \"100\", \"start_time\": \"2021-04-03T05:49:42.572555Z\", \"end_time\": \"2021-04-03T05:50:27.924362Z\", \"created_time\": \"2021-04-03T05:49:31.370434Z\", \"created_time_dt\": \"2021-04-03T05:49:31.370434Z\", \"duration\": \"0:00:56\", \"iteration\": \"8\", \"goal\": \"accuracy_max\", \"run_name\": \"SparseNormalizer, LightGBM\", \"run_properties\": \"<azureml.automl.runtime.shared.model_wrappers.SparseNormalizer object at 0x7fd9d12b66d8\", \"primary_metric\": 0.79495614, \"best_metric\": 0.85769981}, {\"run_id\": \"AutoML_6134171f-7acb-4c71-92b5-5f171357441d_9\", \"run_number\": 14, \"metric\": null, \"status\": \"Completed\", \"run_type\": \"azureml.scriptrun\", \"training_percent\": \"100\", \"start_time\": \"2021-04-03T05:50:39.574126Z\", \"end_time\": \"2021-04-03T05:51:33.053903Z\", \"created_time\": \"2021-04-03T05:50:28.852343Z\", \"created_time_dt\": \"2021-04-03T05:50:28.852343Z\", \"duration\": \"0:01:04\", \"iteration\": \"9\", \"goal\": \"accuracy_max\", \"run_name\": \"VotingEnsemble\", \"run_properties\": \"classification_labels=None,\\n                              estimators=[('0',\\n                                           Pipeline(memory=None,\\n                                                    steps=[('maxabsscaler',\\n                                                            MaxAbsScaler(copy=True\", \"primary_metric\": 0.85867446, \"best_metric\": 0.85867446}], \"children_metrics\": {\"categories\": [0], \"series\": {\"recall_score_weighted\": [{\"categories\": [\"0\", \"1\", \"2\", \"3\", \"4\", \"5\", \"6\", \"7\", \"8\", \"9\"], \"mode\": \"markers\", \"name\": \"recall_score_weighted\", \"stepped\": false, \"type\": \"scatter\", \"data\": [0.8576998050682262, 0.8530701754385964, 0.822490253411306, 0.7613304093567251, 0.7390350877192983, 0.7385477582846004, 0.8352826510721248, 0.7612085769980507, 0.7949561403508772, 0.8586744639376219]}, {\"categories\": [\"0\", \"1\", \"2\", \"3\", \"4\", \"5\", \"6\", \"7\", \"8\", \"9\"], \"mode\": \"lines\", \"name\": \"recall_score_weighted_max\", \"stepped\": true, \"type\": \"scatter\", \"data\": [0.8576998050682262, 0.8576998050682262, 0.8576998050682262, 0.8576998050682262, 0.8576998050682262, 0.8576998050682262, 0.8576998050682262, 0.8576998050682262, 0.8576998050682262, 0.8586744639376219]}], \"AUC_micro\": [{\"categories\": [\"0\", \"1\", \"2\", \"3\", \"4\", \"5\", \"6\", \"7\", \"8\", \"9\"], \"mode\": \"markers\", \"name\": \"AUC_micro\", \"stepped\": false, \"type\": \"scatter\", \"data\": [0.9411466437678829, 0.937154496611493, 0.9087631931619985, 0.8762734064184992, 0.8619631806225277, 0.8538064240564048, 0.9215080779841092, 0.8819204431135507, 0.8915271650536347, 0.9370878361433147]}, {\"categories\": [\"0\", \"1\", \"2\", \"3\", \"4\", \"5\", \"6\", \"7\", \"8\", \"9\"], \"mode\": \"lines\", \"name\": \"AUC_micro_max\", \"stepped\": true, \"type\": \"scatter\", \"data\": [0.9411466437678829, 0.9411466437678829, 0.9411466437678829, 0.9411466437678829, 0.9411466437678829, 0.9411466437678829, 0.9411466437678829, 0.9411466437678829, 0.9411466437678829, 0.9411466437678829]}], \"recall_score_micro\": [{\"categories\": [\"0\", \"1\", \"2\", \"3\", \"4\", \"5\", \"6\", \"7\", \"8\", \"9\"], \"mode\": \"markers\", \"name\": \"recall_score_micro\", \"stepped\": false, \"type\": \"scatter\", \"data\": [0.8576998050682262, 0.8530701754385964, 0.822490253411306, 0.7613304093567251, 0.7390350877192983, 0.7385477582846004, 0.8352826510721248, 0.7612085769980507, 0.7949561403508772, 0.8586744639376219]}, {\"categories\": [\"0\", \"1\", \"2\", \"3\", \"4\", \"5\", \"6\", \"7\", \"8\", \"9\"], \"mode\": \"lines\", \"name\": \"recall_score_micro_max\", \"stepped\": true, \"type\": \"scatter\", \"data\": [0.8576998050682262, 0.8576998050682262, 0.8576998050682262, 0.8576998050682262, 0.8576998050682262, 0.8576998050682262, 0.8576998050682262, 0.8576998050682262, 0.8576998050682262, 0.8586744639376219]}], \"recall_score_macro\": [{\"categories\": [\"0\", \"1\", \"2\", \"3\", \"4\", \"5\", \"6\", \"7\", \"8\", \"9\"], \"mode\": \"markers\", \"name\": \"recall_score_macro\", \"stepped\": false, \"type\": \"scatter\", \"data\": [0.7830544207151565, 0.7614787582656476, 0.6975131913086754, 0.5467436594290831, 0.7801867535988262, 0.7796465745990222, 0.7463491357679132, 0.536044787953592, 0.670024441817298, 0.7720700621831522]}, {\"categories\": [\"0\", \"1\", \"2\", \"3\", \"4\", \"5\", \"6\", \"7\", \"8\", \"9\"], \"mode\": \"lines\", \"name\": \"recall_score_macro_max\", \"stepped\": true, \"type\": \"scatter\", \"data\": [0.7830544207151565, 0.7830544207151565, 0.7830544207151565, 0.7830544207151565, 0.7830544207151565, 0.7830544207151565, 0.7830544207151565, 0.7830544207151565, 0.7830544207151565, 0.7830544207151565]}], \"precision_score_weighted\": [{\"categories\": [\"0\", \"1\", \"2\", \"3\", \"4\", \"5\", \"6\", \"7\", \"8\", \"9\"], \"mode\": \"markers\", \"name\": \"precision_score_weighted\", \"stepped\": false, \"type\": \"scatter\", \"data\": [0.8526846122798574, 0.8482209249699947, 0.8162848004935923, 0.7002395895782044, 0.8238393029928082, 0.8236517589195178, 0.8278064649498372, 0.8044626222664281, 0.7797507977765806, 0.8542112725005474]}, {\"categories\": [\"0\", \"1\", \"2\", \"3\", \"4\", \"5\", \"6\", \"7\", \"8\", \"9\"], \"mode\": \"lines\", \"name\": \"precision_score_weighted_max\", \"stepped\": true, \"type\": \"scatter\", \"data\": [0.8526846122798574, 0.8526846122798574, 0.8526846122798574, 0.8526846122798574, 0.8526846122798574, 0.8526846122798574, 0.8526846122798574, 0.8526846122798574, 0.8526846122798574, 0.8542112725005474]}], \"balanced_accuracy\": [{\"categories\": [\"0\", \"1\", \"2\", \"3\", \"4\", \"5\", \"6\", \"7\", \"8\", \"9\"], \"mode\": \"markers\", \"name\": \"balanced_accuracy\", \"stepped\": false, \"type\": \"scatter\", \"data\": [0.7830544207151565, 0.7614787582656476, 0.6975131913086754, 0.5467436594290831, 0.7801867535988262, 0.7796465745990222, 0.7463491357679132, 0.536044787953592, 0.670024441817298, 0.7720700621831522]}, {\"categories\": [\"0\", \"1\", \"2\", \"3\", \"4\", \"5\", \"6\", \"7\", \"8\", \"9\"], \"mode\": \"lines\", \"name\": \"balanced_accuracy_max\", \"stepped\": true, \"type\": \"scatter\", \"data\": [0.7830544207151565, 0.7830544207151565, 0.7830544207151565, 0.7830544207151565, 0.7830544207151565, 0.7830544207151565, 0.7830544207151565, 0.7830544207151565, 0.7830544207151565, 0.7830544207151565]}], \"average_precision_score_weighted\": [{\"categories\": [\"0\", \"1\", \"2\", \"3\", \"4\", \"5\", \"6\", \"7\", \"8\", \"9\"], \"mode\": \"markers\", \"name\": \"average_precision_score_weighted\", \"stepped\": false, \"type\": \"scatter\", \"data\": [0.9293011651377022, 0.9256329514367744, 0.8965210488032206, 0.8561015579125123, 0.892051914079465, 0.881219917395887, 0.9035621535401476, 0.8792481729870857, 0.8662763224226816, 0.9274256651311404]}, {\"categories\": [\"0\", \"1\", \"2\", \"3\", \"4\", \"5\", \"6\", \"7\", \"8\", \"9\"], \"mode\": \"lines\", \"name\": \"average_precision_score_weighted_max\", \"stepped\": true, \"type\": \"scatter\", \"data\": [0.9293011651377022, 0.9293011651377022, 0.9293011651377022, 0.9293011651377022, 0.9293011651377022, 0.9293011651377022, 0.9293011651377022, 0.9293011651377022, 0.9293011651377022, 0.9293011651377022]}], \"accuracy\": [{\"categories\": [\"0\", \"1\", \"2\", \"3\", \"4\", \"5\", \"6\", \"7\", \"8\", \"9\"], \"mode\": \"markers\", \"name\": \"accuracy\", \"stepped\": false, \"type\": \"scatter\", \"data\": [0.8576998050682262, 0.8530701754385964, 0.822490253411306, 0.7613304093567251, 0.7390350877192983, 0.7385477582846004, 0.8352826510721248, 0.7612085769980507, 0.7949561403508772, 0.8586744639376219]}, {\"categories\": [\"0\", \"1\", \"2\", \"3\", \"4\", \"5\", \"6\", \"7\", \"8\", \"9\"], \"mode\": \"lines\", \"name\": \"accuracy_max\", \"stepped\": true, \"type\": \"scatter\", \"data\": [0.8576998050682262, 0.8576998050682262, 0.8576998050682262, 0.8576998050682262, 0.8576998050682262, 0.8576998050682262, 0.8576998050682262, 0.8576998050682262, 0.8576998050682262, 0.8586744639376219]}], \"f1_score_micro\": [{\"categories\": [\"0\", \"1\", \"2\", \"3\", \"4\", \"5\", \"6\", \"7\", \"8\", \"9\"], \"mode\": \"markers\", \"name\": \"f1_score_micro\", \"stepped\": false, \"type\": \"scatter\", \"data\": [0.8576998050682262, 0.8530701754385964, 0.822490253411306, 0.7613304093567251, 0.7390350877192983, 0.7385477582846004, 0.8352826510721248, 0.7612085769980506, 0.7949561403508772, 0.8586744639376219]}, {\"categories\": [\"0\", \"1\", \"2\", \"3\", \"4\", \"5\", \"6\", \"7\", \"8\", \"9\"], \"mode\": \"lines\", \"name\": \"f1_score_micro_max\", \"stepped\": true, \"type\": \"scatter\", \"data\": [0.8576998050682262, 0.8576998050682262, 0.8576998050682262, 0.8576998050682262, 0.8576998050682262, 0.8576998050682262, 0.8576998050682262, 0.8576998050682262, 0.8576998050682262, 0.8586744639376219]}], \"precision_score_macro\": [{\"categories\": [\"0\", \"1\", \"2\", \"3\", \"4\", \"5\", \"6\", \"7\", \"8\", \"9\"], \"mode\": \"markers\", \"name\": \"precision_score_macro\", \"stepped\": false, \"type\": \"scatter\", \"data\": [0.8265342645590921, 0.8312564265396261, 0.8010635808515109, 0.635707249401177, 0.715902611596461, 0.7156017018898176, 0.7963186034880626, 0.8482128419650582, 0.7402177332313503, 0.8374161855765948]}, {\"categories\": [\"0\", \"1\", \"2\", \"3\", \"4\", \"5\", \"6\", \"7\", \"8\", \"9\"], \"mode\": \"lines\", \"name\": \"precision_score_macro_max\", \"stepped\": true, \"type\": \"scatter\", \"data\": [0.8265342645590921, 0.8312564265396261, 0.8312564265396261, 0.8312564265396261, 0.8312564265396261, 0.8312564265396261, 0.8312564265396261, 0.8482128419650582, 0.8482128419650582, 0.8482128419650582]}], \"f1_score_macro\": [{\"categories\": [\"0\", \"1\", \"2\", \"3\", \"4\", \"5\", \"6\", \"7\", \"8\", \"9\"], \"mode\": \"markers\", \"name\": \"f1_score_macro\", \"stepped\": false, \"type\": \"scatter\", \"data\": [0.8006623171142401, 0.7862084718337692, 0.7239434162720503, 0.5130341927238475, 0.71393187000115, 0.7133821531167133, 0.7651448942665361, 0.4989837676457333, 0.6893776681501973, 0.7960020419862558]}, {\"categories\": [\"0\", \"1\", \"2\", \"3\", \"4\", \"5\", \"6\", \"7\", \"8\", \"9\"], \"mode\": \"lines\", \"name\": \"f1_score_macro_max\", \"stepped\": true, \"type\": \"scatter\", \"data\": [0.8006623171142401, 0.8006623171142401, 0.8006623171142401, 0.8006623171142401, 0.8006623171142401, 0.8006623171142401, 0.8006623171142401, 0.8006623171142401, 0.8006623171142401, 0.8006623171142401]}], \"norm_macro_recall\": [{\"categories\": [\"0\", \"1\", \"2\", \"3\", \"4\", \"5\", \"6\", \"7\", \"8\", \"9\"], \"mode\": \"markers\", \"name\": \"norm_macro_recall\", \"stepped\": false, \"type\": \"scatter\", \"data\": [0.5661088414303131, 0.5229575165312951, 0.39502638261735074, 0.09348731885816619, 0.5603735071976522, 0.5592931491980443, 0.4926982715358263, 0.07208957590718394, 0.34004888363459607, 0.5441401243663043]}, {\"categories\": [\"0\", \"1\", \"2\", \"3\", \"4\", \"5\", \"6\", \"7\", \"8\", \"9\"], \"mode\": \"lines\", \"name\": \"norm_macro_recall_max\", \"stepped\": true, \"type\": \"scatter\", \"data\": [0.5661088414303131, 0.5661088414303131, 0.5661088414303131, 0.5661088414303131, 0.5661088414303131, 0.5661088414303131, 0.5661088414303131, 0.5661088414303131, 0.5661088414303131, 0.5661088414303131]}], \"weighted_accuracy\": [{\"categories\": [\"0\", \"1\", \"2\", \"3\", \"4\", \"5\", \"6\", \"7\", \"8\", \"9\"], \"mode\": \"markers\", \"name\": \"weighted_accuracy\", \"stepped\": false, \"type\": \"scatter\", \"data\": [0.9036667288189468, 0.9094943627731754, 0.899478021510272, 0.8932071874458091, 0.713733822447623, 0.7131823489252239, 0.8900566982519501, 0.899807694588218, 0.8718430505822763, 0.9120226063616871]}, {\"categories\": [\"0\", \"1\", \"2\", \"3\", \"4\", \"5\", \"6\", \"7\", \"8\", \"9\"], \"mode\": \"lines\", \"name\": \"weighted_accuracy_max\", \"stepped\": true, \"type\": \"scatter\", \"data\": [0.9036667288189468, 0.9094943627731754, 0.9094943627731754, 0.9094943627731754, 0.9094943627731754, 0.9094943627731754, 0.9094943627731754, 0.9094943627731754, 0.9094943627731754, 0.9120226063616871]}], \"precision_score_micro\": [{\"categories\": [\"0\", \"1\", \"2\", \"3\", \"4\", \"5\", \"6\", \"7\", \"8\", \"9\"], \"mode\": \"markers\", \"name\": \"precision_score_micro\", \"stepped\": false, \"type\": \"scatter\", \"data\": [0.8576998050682262, 0.8530701754385964, 0.822490253411306, 0.7613304093567251, 0.7390350877192983, 0.7385477582846004, 0.8352826510721248, 0.7612085769980507, 0.7949561403508772, 0.8586744639376219]}, {\"categories\": [\"0\", \"1\", \"2\", \"3\", \"4\", \"5\", \"6\", \"7\", \"8\", \"9\"], \"mode\": \"lines\", \"name\": \"precision_score_micro_max\", \"stepped\": true, \"type\": \"scatter\", \"data\": [0.8576998050682262, 0.8576998050682262, 0.8576998050682262, 0.8576998050682262, 0.8576998050682262, 0.8576998050682262, 0.8576998050682262, 0.8576998050682262, 0.8576998050682262, 0.8586744639376219]}], \"matthews_correlation\": [{\"categories\": [\"0\", \"1\", \"2\", \"3\", \"4\", \"5\", \"6\", \"7\", \"8\", \"9\"], \"mode\": \"markers\", \"name\": \"matthews_correlation\", \"stepped\": false, \"type\": \"scatter\", \"data\": [0.6080228404494435, 0.5885765500658866, 0.4871990614596344, 0.17195281430899154, 0.4918878771139066, 0.49107946767984245, 0.5403356229128766, 0.2218143379019866, 0.4041574184747896, 0.6059407028954847]}, {\"categories\": [\"0\", \"1\", \"2\", \"3\", \"4\", \"5\", \"6\", \"7\", \"8\", \"9\"], \"mode\": \"lines\", \"name\": \"matthews_correlation_max\", \"stepped\": true, \"type\": \"scatter\", \"data\": [0.6080228404494435, 0.6080228404494435, 0.6080228404494435, 0.6080228404494435, 0.6080228404494435, 0.6080228404494435, 0.6080228404494435, 0.6080228404494435, 0.6080228404494435, 0.6080228404494435]}], \"f1_score_weighted\": [{\"categories\": [\"0\", \"1\", \"2\", \"3\", \"4\", \"5\", \"6\", \"7\", \"8\", \"9\"], \"mode\": \"markers\", \"name\": \"f1_score_weighted\", \"stepped\": false, \"type\": \"scatter\", \"data\": [0.852636731537812, 0.844466570424944, 0.8042592139308596, 0.6827067886856097, 0.7552832947157846, 0.7547774644988102, 0.827713013915193, 0.6755940318509864, 0.7777039264147002, 0.8511145711639676]}, {\"categories\": [\"0\", \"1\", \"2\", \"3\", \"4\", \"5\", \"6\", \"7\", \"8\", \"9\"], \"mode\": \"lines\", \"name\": \"f1_score_weighted_max\", \"stepped\": true, \"type\": \"scatter\", \"data\": [0.852636731537812, 0.852636731537812, 0.852636731537812, 0.852636731537812, 0.852636731537812, 0.852636731537812, 0.852636731537812, 0.852636731537812, 0.852636731537812, 0.852636731537812]}], \"average_precision_score_micro\": [{\"categories\": [\"0\", \"1\", \"2\", \"3\", \"4\", \"5\", \"6\", \"7\", \"8\", \"9\"], \"mode\": \"markers\", \"name\": \"average_precision_score_micro\", \"stepped\": false, \"type\": \"scatter\", \"data\": [0.9434003593005187, 0.9397177106081305, 0.911965477461209, 0.879488257212712, 0.8704678426192377, 0.8635956616123918, 0.9225465063460173, 0.8895377060631295, 0.895813526331389, 0.9390397518842275]}, {\"categories\": [\"0\", \"1\", \"2\", \"3\", \"4\", \"5\", \"6\", \"7\", \"8\", \"9\"], \"mode\": \"lines\", \"name\": \"average_precision_score_micro_max\", \"stepped\": true, \"type\": \"scatter\", \"data\": [0.9434003593005187, 0.9434003593005187, 0.9434003593005187, 0.9434003593005187, 0.9434003593005187, 0.9434003593005187, 0.9434003593005187, 0.9434003593005187, 0.9434003593005187, 0.9434003593005187]}], \"log_loss\": [{\"categories\": [\"0\", \"1\", \"2\", \"3\", \"4\", \"5\", \"6\", \"7\", \"8\", \"9\"], \"mode\": \"markers\", \"name\": \"log_loss\", \"stepped\": false, \"type\": \"scatter\", \"data\": [0.3076335884227355, 0.3183356558021852, 0.3880801972081311, 0.454019713141707, 0.4933110344522375, 0.5102499459418904, 0.3608845408945298, 0.43515543675796337, 0.4129337169135055, 0.3276420805872589]}, {\"categories\": [\"0\", \"1\", \"2\", \"3\", \"4\", \"5\", \"6\", \"7\", \"8\", \"9\"], \"mode\": \"lines\", \"name\": \"log_loss_min\", \"stepped\": true, \"type\": \"scatter\", \"data\": [0.3076335884227355, 0.3076335884227355, 0.3076335884227355, 0.3076335884227355, 0.3076335884227355, 0.3076335884227355, 0.3076335884227355, 0.3076335884227355, 0.3076335884227355, 0.3076335884227355]}], \"AUC_macro\": [{\"categories\": [\"0\", \"1\", \"2\", \"3\", \"4\", \"5\", \"6\", \"7\", \"8\", \"9\"], \"mode\": \"markers\", \"name\": \"AUC_macro\", \"stepped\": false, \"type\": \"scatter\", \"data\": [0.9164655822240008, 0.9119531775197566, 0.8802070583681436, 0.8404828426718621, 0.8745568420884032, 0.8642460867433112, 0.8876740814572154, 0.8601467932163086, 0.8468182200875946, 0.9137353870217185]}, {\"categories\": [\"0\", \"1\", \"2\", \"3\", \"4\", \"5\", \"6\", \"7\", \"8\", \"9\"], \"mode\": \"lines\", \"name\": \"AUC_macro_max\", \"stepped\": true, \"type\": \"scatter\", \"data\": [0.9164655822240008, 0.9164655822240008, 0.9164655822240008, 0.9164655822240008, 0.9164655822240008, 0.9164655822240008, 0.9164655822240008, 0.9164655822240008, 0.9164655822240008, 0.9164655822240008]}], \"average_precision_score_macro\": [{\"categories\": [\"0\", \"1\", \"2\", \"3\", \"4\", \"5\", \"6\", \"7\", \"8\", \"9\"], \"mode\": \"markers\", \"name\": \"average_precision_score_macro\", \"stepped\": false, \"type\": \"scatter\", \"data\": [0.8915977203642074, 0.8857092197747839, 0.8407870407618961, 0.779522290994073, 0.8335218269654875, 0.8166510787600121, 0.8539033839292203, 0.8125011518289559, 0.7929410328006578, 0.8889382241189946]}, {\"categories\": [\"0\", \"1\", \"2\", \"3\", \"4\", \"5\", \"6\", \"7\", \"8\", \"9\"], \"mode\": \"lines\", \"name\": \"average_precision_score_macro_max\", \"stepped\": true, \"type\": \"scatter\", \"data\": [0.8915977203642074, 0.8915977203642074, 0.8915977203642074, 0.8915977203642074, 0.8915977203642074, 0.8915977203642074, 0.8915977203642074, 0.8915977203642074, 0.8915977203642074, 0.8915977203642074]}], \"AUC_weighted\": [{\"categories\": [\"0\", \"1\", \"2\", \"3\", \"4\", \"5\", \"6\", \"7\", \"8\", \"9\"], \"mode\": \"markers\", \"name\": \"AUC_weighted\", \"stepped\": false, \"type\": \"scatter\", \"data\": [0.9164655822240007, 0.9119531775197567, 0.8802070583681436, 0.8404828426718621, 0.8745568420884035, 0.8642460867433112, 0.8876740814572154, 0.8601467932163084, 0.8468182200875946, 0.9137353870217185]}, {\"categories\": [\"0\", \"1\", \"2\", \"3\", \"4\", \"5\", \"6\", \"7\", \"8\", \"9\"], \"mode\": \"lines\", \"name\": \"AUC_weighted_max\", \"stepped\": true, \"type\": \"scatter\", \"data\": [0.9164655822240007, 0.9164655822240007, 0.9164655822240007, 0.9164655822240007, 0.9164655822240007, 0.9164655822240007, 0.9164655822240007, 0.9164655822240007, 0.9164655822240007, 0.9164655822240007]}]}, \"metricName\": null, \"primaryMetricName\": \"accuracy\", \"showLegend\": false}, \"run_metrics\": [{\"name\": \"experiment_status\", \"run_id\": \"AutoML_6134171f-7acb-4c71-92b5-5f171357441d\", \"categories\": [0, 1, 2, 3, 4, 5, 6, 7, 8, 9, 10, 11, 12, 13], \"series\": [{\"data\": [\"DatasetEvaluation\", \"FeaturesGeneration\", \"DatasetFeaturization\", \"DatasetFeaturizationCompleted\", \"DatasetCrossValidationSplit\", \"ModelSelection\", \"BestRunExplainModel\", \"ModelExplanationDataSetSetup\", \"PickSurrogateModel\", \"EngineeredFeatureExplanations\", \"EngineeredFeatureExplanations\", \"RawFeaturesExplanations\", \"RawFeaturesExplanations\", \"BestRunExplainModel\"]}]}, {\"name\": \"experiment_status_description\", \"run_id\": \"AutoML_6134171f-7acb-4c71-92b5-5f171357441d\", \"categories\": [0, 1, 2, 3, 4, 5, 6, 7, 8, 9, 10, 11, 12, 13], \"series\": [{\"data\": [\"Gathering dataset statistics.\", \"Generating features for the dataset.\", \"Beginning to fit featurizers and featurize the dataset.\", \"Completed fit featurizers and featurizing the dataset.\", \"Generating individually featurized CV splits.\", \"Beginning model selection.\", \"Best run model explanations started\", \"Model explanations data setup completed\", \"Choosing LightGBM as the surrogate model for explanations\", \"Computation of engineered features started\", \"Computation of engineered features completed\", \"Computation of raw features started\", \"Computation of raw features completed\", \"Best run model explanations completed\"]}]}, {\"name\": \"weighted_accuracy\", \"run_id\": \"AutoML_6134171f-7acb-4c71-92b5-5f171357441d\", \"categories\": [0], \"series\": [{\"data\": [0.9120226063616871]}]}, {\"name\": \"average_precision_score_macro\", \"run_id\": \"AutoML_6134171f-7acb-4c71-92b5-5f171357441d\", \"categories\": [0], \"series\": [{\"data\": [0.8889382241189946]}]}, {\"name\": \"AUC_weighted\", \"run_id\": \"AutoML_6134171f-7acb-4c71-92b5-5f171357441d\", \"categories\": [0], \"series\": [{\"data\": [0.9137353870217185]}]}, {\"name\": \"accuracy\", \"run_id\": \"AutoML_6134171f-7acb-4c71-92b5-5f171357441d\", \"categories\": [0], \"series\": [{\"data\": [0.8586744639376219]}]}, {\"name\": \"recall_score_micro\", \"run_id\": \"AutoML_6134171f-7acb-4c71-92b5-5f171357441d\", \"categories\": [0], \"series\": [{\"data\": [0.8586744639376219]}]}, {\"name\": \"precision_score_micro\", \"run_id\": \"AutoML_6134171f-7acb-4c71-92b5-5f171357441d\", \"categories\": [0], \"series\": [{\"data\": [0.8586744639376219]}]}, {\"name\": \"norm_macro_recall\", \"run_id\": \"AutoML_6134171f-7acb-4c71-92b5-5f171357441d\", \"categories\": [0], \"series\": [{\"data\": [0.5441401243663043]}]}, {\"name\": \"AUC_macro\", \"run_id\": \"AutoML_6134171f-7acb-4c71-92b5-5f171357441d\", \"categories\": [0], \"series\": [{\"data\": [0.9137353870217185]}]}, {\"name\": \"precision_score_weighted\", \"run_id\": \"AutoML_6134171f-7acb-4c71-92b5-5f171357441d\", \"categories\": [0], \"series\": [{\"data\": [0.8542112725005474]}]}, {\"name\": \"matthews_correlation\", \"run_id\": \"AutoML_6134171f-7acb-4c71-92b5-5f171357441d\", \"categories\": [0], \"series\": [{\"data\": [0.6059407028954847]}]}, {\"name\": \"balanced_accuracy\", \"run_id\": \"AutoML_6134171f-7acb-4c71-92b5-5f171357441d\", \"categories\": [0], \"series\": [{\"data\": [0.7720700621831522]}]}, {\"name\": \"log_loss\", \"run_id\": \"AutoML_6134171f-7acb-4c71-92b5-5f171357441d\", \"categories\": [0], \"series\": [{\"data\": [0.3276420805872589]}]}, {\"name\": \"AUC_micro\", \"run_id\": \"AutoML_6134171f-7acb-4c71-92b5-5f171357441d\", \"categories\": [0], \"series\": [{\"data\": [0.9370878361433147]}]}, {\"name\": \"f1_score_micro\", \"run_id\": \"AutoML_6134171f-7acb-4c71-92b5-5f171357441d\", \"categories\": [0], \"series\": [{\"data\": [0.8586744639376219]}]}, {\"name\": \"f1_score_macro\", \"run_id\": \"AutoML_6134171f-7acb-4c71-92b5-5f171357441d\", \"categories\": [0], \"series\": [{\"data\": [0.7960020419862558]}]}, {\"name\": \"recall_score_macro\", \"run_id\": \"AutoML_6134171f-7acb-4c71-92b5-5f171357441d\", \"categories\": [0], \"series\": [{\"data\": [0.7720700621831522]}]}, {\"name\": \"precision_score_macro\", \"run_id\": \"AutoML_6134171f-7acb-4c71-92b5-5f171357441d\", \"categories\": [0], \"series\": [{\"data\": [0.8374161855765948]}]}, {\"name\": \"average_precision_score_micro\", \"run_id\": \"AutoML_6134171f-7acb-4c71-92b5-5f171357441d\", \"categories\": [0], \"series\": [{\"data\": [0.9390397518842275]}]}, {\"name\": \"recall_score_weighted\", \"run_id\": \"AutoML_6134171f-7acb-4c71-92b5-5f171357441d\", \"categories\": [0], \"series\": [{\"data\": [0.8586744639376219]}]}, {\"name\": \"average_precision_score_weighted\", \"run_id\": \"AutoML_6134171f-7acb-4c71-92b5-5f171357441d\", \"categories\": [0], \"series\": [{\"data\": [0.9274256651311404]}]}, {\"name\": \"f1_score_weighted\", \"run_id\": \"AutoML_6134171f-7acb-4c71-92b5-5f171357441d\", \"categories\": [0], \"series\": [{\"data\": [0.8511145711639676]}]}], \"run_logs\": \"\\nRun is completed.\", \"graph\": {}, \"widget_settings\": {\"childWidgetDisplay\": \"popup\", \"send_telemetry\": false, \"log_level\": \"INFO\", \"sdk_version\": \"1.25.0\"}, \"loading\": false}"
     },
     "metadata": {},
     "output_type": "display_data"
    },
    {
     "data": {
      "text/html": [
       "<table style=\"width:100%\"><tr><th>Experiment</th><th>Id</th><th>Type</th><th>Status</th><th>Details Page</th><th>Docs Page</th></tr><tr><td>project-automl-1</td><td>AutoML_6134171f-7acb-4c71-92b5-5f171357441d</td><td>automl</td><td>NotStarted</td><td><a href=\"https://ml.azure.com/runs/AutoML_6134171f-7acb-4c71-92b5-5f171357441d?wsid=/subscriptions/c8eb054b-91b3-425d-acbc-fe49c970c7c4/resourcegroups/udacity/workspaces/azProject3&amp;tid=3c3cb7bb-3b39-461c-a638-72ab2edec2c9\" target=\"_blank\" rel=\"noopener\">Link to Azure Machine Learning studio</a></td><td><a href=\"https://docs.microsoft.com/en-us/python/api/overview/azure/ml/intro?view=azure-ml-py\" target=\"_blank\" rel=\"noopener\">Link to Documentation</a></td></tr></table>"
      ],
      "text/plain": [
       "<IPython.core.display.HTML object>"
      ]
     },
     "metadata": {},
     "output_type": "display_data"
    },
    {
     "name": "stdout",
     "output_type": "stream",
     "text": [
      "\n",
      "Current status: FeaturesGeneration. Generating features for the dataset.\n",
      "Current status: DatasetCrossValidationSplit. Generating individually featurized CV splits.\n",
      "Current status: ModelSelection. Beginning model selection.\n",
      "\n",
      "****************************************************************************************************\n",
      "DATA GUARDRAILS: \n",
      "\n",
      "TYPE:         Class balancing detection\n",
      "STATUS:       PASSED\n",
      "DESCRIPTION:  Your inputs were analyzed, and all classes are balanced in your training data.\n",
      "              Learn more about imbalanced data: https://aka.ms/AutomatedMLImbalancedData\n",
      "\n",
      "****************************************************************************************************\n",
      "\n",
      "TYPE:         Missing feature values imputation\n",
      "STATUS:       PASSED\n",
      "DESCRIPTION:  No feature missing values were detected in the training data.\n",
      "              Learn more about missing value imputation: https://aka.ms/AutomatedMLFeaturization\n",
      "\n",
      "****************************************************************************************************\n",
      "\n",
      "TYPE:         High cardinality feature detection\n",
      "STATUS:       PASSED\n",
      "DESCRIPTION:  Your inputs were analyzed, and no high cardinality features were detected.\n",
      "              Learn more about high cardinality feature handling: https://aka.ms/AutomatedMLFeaturization\n",
      "\n",
      "****************************************************************************************************\n",
      "\n",
      "****************************************************************************************************\n",
      "ITERATION: The iteration being evaluated.\n",
      "PIPELINE: A summary description of the pipeline being evaluated.\n",
      "DURATION: Time taken for the current iteration.\n",
      "METRIC: The result of computing score on the fitted pipeline.\n",
      "BEST: The best observed score thus far.\n",
      "****************************************************************************************************\n",
      "\n",
      " ITERATION   PIPELINE                                       DURATION      METRIC      BEST\n",
      "         0   MaxAbsScaler LightGBM                          0:00:48       0.8577    0.8577\n",
      "         1   MaxAbsScaler XGBoostClassifier                 0:00:47       0.8531    0.8577\n",
      "         2   MaxAbsScaler RandomForest                      0:00:46       0.8225    0.8577\n",
      "         3   MaxAbsScaler RandomForest                      0:00:44       0.7613    0.8577\n",
      "         4   MaxAbsScaler RandomForest                      0:01:50       0.7390    0.8577\n",
      "         5   MaxAbsScaler RandomForest                      0:00:44       0.7385    0.8577\n",
      "         6   SparseNormalizer XGBoostClassifier             0:00:55       0.8353    0.8577\n",
      "         7   MaxAbsScaler RandomForest                      0:00:55       0.7612    0.8577\n",
      "         8   SparseNormalizer LightGBM                      0:00:45       0.7950    0.8577\n",
      "         9    VotingEnsemble                                0:00:53       0.8587    0.8587\n"
     ]
    },
    {
     "data": {
      "text/plain": [
       "{'runId': 'AutoML_6134171f-7acb-4c71-92b5-5f171357441d',\n",
       " 'target': 'cpu-cluster',\n",
       " 'status': 'Completed',\n",
       " 'startTimeUtc': '2021-04-03T05:28:43.036356Z',\n",
       " 'endTimeUtc': '2021-04-03T05:51:38.536984Z',\n",
       " 'properties': {'num_iterations': '10',\n",
       "  'training_type': 'TrainFull',\n",
       "  'acquisition_function': 'EI',\n",
       "  'primary_metric': 'accuracy',\n",
       "  'train_split': '0.2',\n",
       "  'acquisition_parameter': '0',\n",
       "  'num_cross_validation': '3',\n",
       "  'target': 'cpu-cluster',\n",
       "  'AMLSettingsJsonString': '{\"path\":null,\"name\":\"project-automl-1\",\"subscription_id\":\"c8eb054b-91b3-425d-acbc-fe49c970c7c4\",\"resource_group\":\"udacity\",\"workspace_name\":\"azProject3\",\"region\":\"australiaeast\",\"compute_target\":\"cpu-cluster\",\"spark_service\":null,\"azure_service\":\"remote\",\"many_models\":false,\"pipeline_fetch_max_batch_size\":1,\"enable_batch_run\":false,\"enable_run_restructure\":false,\"iterations\":10,\"primary_metric\":\"accuracy\",\"task_type\":\"classification\",\"data_script\":null,\"test_size\":0.0,\"validation_size\":0.2,\"n_cross_validations\":3,\"y_min\":null,\"y_max\":null,\"num_classes\":null,\"featurization\":\"auto\",\"_ignore_package_version_incompatibilities\":false,\"is_timeseries\":false,\"max_cores_per_iteration\":1,\"max_concurrent_iterations\":1,\"iteration_timeout_minutes\":null,\"mem_in_mb\":null,\"enforce_time_on_windows\":true,\"experiment_timeout_minutes\":30,\"experiment_exit_score\":null,\"whitelist_models\":null,\"blacklist_algos\":[\"TensorFlowLinearClassifier\",\"TensorFlowDNN\"],\"supported_models\":[\"SVM\",\"DecisionTree\",\"TensorFlowLinearClassifier\",\"AveragedPerceptronClassifier\",\"SGD\",\"KNN\",\"LogisticRegression\",\"BernoulliNaiveBayes\",\"ExtremeRandomTrees\",\"LightGBM\",\"MultinomialNaiveBayes\",\"LinearSVM\",\"XGBoostClassifier\",\"GradientBoosting\",\"RandomForest\",\"TensorFlowDNN\"],\"private_models\":[],\"auto_blacklist\":true,\"blacklist_samples_reached\":false,\"exclude_nan_labels\":true,\"verbosity\":20,\"_debug_log\":\"azureml_automl.log\",\"show_warnings\":false,\"model_explainability\":true,\"service_url\":null,\"sdk_url\":null,\"sdk_packages\":null,\"enable_onnx_compatible_models\":true,\"enable_split_onnx_featurizer_estimator_models\":false,\"vm_type\":\"STANDARD_DS3_V2\",\"telemetry_verbosity\":20,\"send_telemetry\":true,\"enable_dnn\":false,\"scenario\":\"SDK-1.13.0\",\"environment_label\":null,\"save_mlflow\":false,\"force_text_dnn\":false,\"enable_feature_sweeping\":false,\"enable_early_stopping\":false,\"early_stopping_n_iters\":10,\"metrics\":null,\"enable_metric_confidence\":false,\"enable_ensembling\":true,\"enable_stack_ensembling\":false,\"ensemble_iterations\":10,\"enable_tf\":false,\"enable_subsampling\":false,\"subsample_seed\":null,\"enable_nimbusml\":false,\"enable_streaming\":false,\"force_streaming\":false,\"track_child_runs\":true,\"allowed_private_models\":[],\"label_column_name\":\"class-label\",\"weight_column_name\":null,\"cv_split_column_names\":null,\"enable_local_managed\":false,\"_local_managed_run_id\":null,\"cost_mode\":1,\"lag_length\":0,\"metric_operation\":\"maximize\",\"preprocess\":true}',\n",
       "  'DataPrepJsonString': '{\\\\\"training_data\\\\\": \\\\\"{\\\\\\\\\\\\\"blocks\\\\\\\\\\\\\": [{\\\\\\\\\\\\\"id\\\\\\\\\\\\\": \\\\\\\\\\\\\"26f508c8-cd28-4b24-8b4f-adcdd0f519f2\\\\\\\\\\\\\", \\\\\\\\\\\\\"type\\\\\\\\\\\\\": \\\\\\\\\\\\\"Microsoft.DPrep.GetDatastoreFilesBlock\\\\\\\\\\\\\", \\\\\\\\\\\\\"arguments\\\\\\\\\\\\\": {\\\\\\\\\\\\\"datastores\\\\\\\\\\\\\": [{\\\\\\\\\\\\\"datastoreName\\\\\\\\\\\\\": \\\\\\\\\\\\\"workspaceblobstore\\\\\\\\\\\\\", \\\\\\\\\\\\\"path\\\\\\\\\\\\\": \\\\\\\\\\\\\"UI/04-03-2021_050520_UTC/Adult_Data_Set.csv\\\\\\\\\\\\\", \\\\\\\\\\\\\"resourceGroup\\\\\\\\\\\\\": \\\\\\\\\\\\\"udacity\\\\\\\\\\\\\", \\\\\\\\\\\\\"subscription\\\\\\\\\\\\\": \\\\\\\\\\\\\"c8eb054b-91b3-425d-acbc-fe49c970c7c4\\\\\\\\\\\\\", \\\\\\\\\\\\\"workspaceName\\\\\\\\\\\\\": \\\\\\\\\\\\\"azProject3\\\\\\\\\\\\\"}]}, \\\\\\\\\\\\\"localData\\\\\\\\\\\\\": {}, \\\\\\\\\\\\\"isEnabled\\\\\\\\\\\\\": true, \\\\\\\\\\\\\"name\\\\\\\\\\\\\": null, \\\\\\\\\\\\\"annotation\\\\\\\\\\\\\": null}, {\\\\\\\\\\\\\"id\\\\\\\\\\\\\": \\\\\\\\\\\\\"b13ddaf3-e859-4e80-9cc4-61f25a34e9bf\\\\\\\\\\\\\", \\\\\\\\\\\\\"type\\\\\\\\\\\\\": \\\\\\\\\\\\\"Microsoft.DPrep.ParseDelimitedBlock\\\\\\\\\\\\\", \\\\\\\\\\\\\"arguments\\\\\\\\\\\\\": {\\\\\\\\\\\\\"columnHeadersMode\\\\\\\\\\\\\": 1, \\\\\\\\\\\\\"fileEncoding\\\\\\\\\\\\\": 0, \\\\\\\\\\\\\"handleQuotedLineBreaks\\\\\\\\\\\\\": false, \\\\\\\\\\\\\"preview\\\\\\\\\\\\\": false, \\\\\\\\\\\\\"separator\\\\\\\\\\\\\": \\\\\\\\\\\\\",\\\\\\\\\\\\\", \\\\\\\\\\\\\"skipRows\\\\\\\\\\\\\": 0, \\\\\\\\\\\\\"skipRowsMode\\\\\\\\\\\\\": 0}, \\\\\\\\\\\\\"localData\\\\\\\\\\\\\": {}, \\\\\\\\\\\\\"isEnabled\\\\\\\\\\\\\": true, \\\\\\\\\\\\\"name\\\\\\\\\\\\\": null, \\\\\\\\\\\\\"annotation\\\\\\\\\\\\\": null}, {\\\\\\\\\\\\\"id\\\\\\\\\\\\\": \\\\\\\\\\\\\"5b91e456-24d0-4b3c-b923-842a9699a63b\\\\\\\\\\\\\", \\\\\\\\\\\\\"type\\\\\\\\\\\\\": \\\\\\\\\\\\\"Microsoft.DPrep.DropColumnsBlock\\\\\\\\\\\\\", \\\\\\\\\\\\\"arguments\\\\\\\\\\\\\": {\\\\\\\\\\\\\"columns\\\\\\\\\\\\\": {\\\\\\\\\\\\\"type\\\\\\\\\\\\\": 0, \\\\\\\\\\\\\"details\\\\\\\\\\\\\": {\\\\\\\\\\\\\"selectedColumns\\\\\\\\\\\\\": [\\\\\\\\\\\\\"Path\\\\\\\\\\\\\"]}}}, \\\\\\\\\\\\\"localData\\\\\\\\\\\\\": {}, \\\\\\\\\\\\\"isEnabled\\\\\\\\\\\\\": true, \\\\\\\\\\\\\"name\\\\\\\\\\\\\": null, \\\\\\\\\\\\\"annotation\\\\\\\\\\\\\": null}, {\\\\\\\\\\\\\"id\\\\\\\\\\\\\": \\\\\\\\\\\\\"487cfc38-3c07-4f54-b294-a88845d0d482\\\\\\\\\\\\\", \\\\\\\\\\\\\"type\\\\\\\\\\\\\": \\\\\\\\\\\\\"Microsoft.DPrep.SetColumnTypesBlock\\\\\\\\\\\\\", \\\\\\\\\\\\\"arguments\\\\\\\\\\\\\": {\\\\\\\\\\\\\"columnConversion\\\\\\\\\\\\\": [{\\\\\\\\\\\\\"column\\\\\\\\\\\\\": {\\\\\\\\\\\\\"type\\\\\\\\\\\\\": 2, \\\\\\\\\\\\\"details\\\\\\\\\\\\\": {\\\\\\\\\\\\\"selectedColumn\\\\\\\\\\\\\": \\\\\\\\\\\\\"Path\\\\\\\\\\\\\"}}, \\\\\\\\\\\\\"typeProperty\\\\\\\\\\\\\": 0}, {\\\\\\\\\\\\\"column\\\\\\\\\\\\\": {\\\\\\\\\\\\\"type\\\\\\\\\\\\\": 2, \\\\\\\\\\\\\"details\\\\\\\\\\\\\": {\\\\\\\\\\\\\"selectedColumn\\\\\\\\\\\\\": \\\\\\\\\\\\\"age\\\\\\\\\\\\\"}}, \\\\\\\\\\\\\"typeProperty\\\\\\\\\\\\\": 2}, {\\\\\\\\\\\\\"column\\\\\\\\\\\\\": {\\\\\\\\\\\\\"type\\\\\\\\\\\\\": 2, \\\\\\\\\\\\\"details\\\\\\\\\\\\\": {\\\\\\\\\\\\\"selectedColumn\\\\\\\\\\\\\": \\\\\\\\\\\\\"workclass\\\\\\\\\\\\\"}}, \\\\\\\\\\\\\"typeProperty\\\\\\\\\\\\\": 0}, {\\\\\\\\\\\\\"column\\\\\\\\\\\\\": {\\\\\\\\\\\\\"type\\\\\\\\\\\\\": 2, \\\\\\\\\\\\\"details\\\\\\\\\\\\\": {\\\\\\\\\\\\\"selectedColumn\\\\\\\\\\\\\": \\\\\\\\\\\\\"fnlwgt\\\\\\\\\\\\\"}}, \\\\\\\\\\\\\"typeProperty\\\\\\\\\\\\\": 2}, {\\\\\\\\\\\\\"column\\\\\\\\\\\\\": {\\\\\\\\\\\\\"type\\\\\\\\\\\\\": 2, \\\\\\\\\\\\\"details\\\\\\\\\\\\\": {\\\\\\\\\\\\\"selectedColumn\\\\\\\\\\\\\": \\\\\\\\\\\\\"education\\\\\\\\\\\\\"}}, \\\\\\\\\\\\\"typeProperty\\\\\\\\\\\\\": 0}, {\\\\\\\\\\\\\"column\\\\\\\\\\\\\": {\\\\\\\\\\\\\"type\\\\\\\\\\\\\": 2, \\\\\\\\\\\\\"details\\\\\\\\\\\\\": {\\\\\\\\\\\\\"selectedColumn\\\\\\\\\\\\\": \\\\\\\\\\\\\"education-num\\\\\\\\\\\\\"}}, \\\\\\\\\\\\\"typeProperty\\\\\\\\\\\\\": 2}, {\\\\\\\\\\\\\"column\\\\\\\\\\\\\": {\\\\\\\\\\\\\"type\\\\\\\\\\\\\": 2, \\\\\\\\\\\\\"details\\\\\\\\\\\\\": {\\\\\\\\\\\\\"selectedColumn\\\\\\\\\\\\\": \\\\\\\\\\\\\"marital-status\\\\\\\\\\\\\"}}, \\\\\\\\\\\\\"typeProperty\\\\\\\\\\\\\": 0}, {\\\\\\\\\\\\\"column\\\\\\\\\\\\\": {\\\\\\\\\\\\\"type\\\\\\\\\\\\\": 2, \\\\\\\\\\\\\"details\\\\\\\\\\\\\": {\\\\\\\\\\\\\"selectedColumn\\\\\\\\\\\\\": \\\\\\\\\\\\\"occupation\\\\\\\\\\\\\"}}, \\\\\\\\\\\\\"typeProperty\\\\\\\\\\\\\": 0}, {\\\\\\\\\\\\\"column\\\\\\\\\\\\\": {\\\\\\\\\\\\\"type\\\\\\\\\\\\\": 2, \\\\\\\\\\\\\"details\\\\\\\\\\\\\": {\\\\\\\\\\\\\"selectedColumn\\\\\\\\\\\\\": \\\\\\\\\\\\\"relationship\\\\\\\\\\\\\"}}, \\\\\\\\\\\\\"typeProperty\\\\\\\\\\\\\": 0}, {\\\\\\\\\\\\\"column\\\\\\\\\\\\\": {\\\\\\\\\\\\\"type\\\\\\\\\\\\\": 2, \\\\\\\\\\\\\"details\\\\\\\\\\\\\": {\\\\\\\\\\\\\"selectedColumn\\\\\\\\\\\\\": \\\\\\\\\\\\\"race\\\\\\\\\\\\\"}}, \\\\\\\\\\\\\"typeProperty\\\\\\\\\\\\\": 0}, {\\\\\\\\\\\\\"column\\\\\\\\\\\\\": {\\\\\\\\\\\\\"type\\\\\\\\\\\\\": 2, \\\\\\\\\\\\\"details\\\\\\\\\\\\\": {\\\\\\\\\\\\\"selectedColumn\\\\\\\\\\\\\": \\\\\\\\\\\\\"sex\\\\\\\\\\\\\"}}, \\\\\\\\\\\\\"typeProperty\\\\\\\\\\\\\": 0}, {\\\\\\\\\\\\\"column\\\\\\\\\\\\\": {\\\\\\\\\\\\\"type\\\\\\\\\\\\\": 2, \\\\\\\\\\\\\"details\\\\\\\\\\\\\": {\\\\\\\\\\\\\"selectedColumn\\\\\\\\\\\\\": \\\\\\\\\\\\\"capital-gain\\\\\\\\\\\\\"}}, \\\\\\\\\\\\\"typeProperty\\\\\\\\\\\\\": 2}, {\\\\\\\\\\\\\"column\\\\\\\\\\\\\": {\\\\\\\\\\\\\"type\\\\\\\\\\\\\": 2, \\\\\\\\\\\\\"details\\\\\\\\\\\\\": {\\\\\\\\\\\\\"selectedColumn\\\\\\\\\\\\\": \\\\\\\\\\\\\"capital-loss\\\\\\\\\\\\\"}}, \\\\\\\\\\\\\"typeProperty\\\\\\\\\\\\\": 2}, {\\\\\\\\\\\\\"column\\\\\\\\\\\\\": {\\\\\\\\\\\\\"type\\\\\\\\\\\\\": 2, \\\\\\\\\\\\\"details\\\\\\\\\\\\\": {\\\\\\\\\\\\\"selectedColumn\\\\\\\\\\\\\": \\\\\\\\\\\\\"hours-per-week\\\\\\\\\\\\\"}}, \\\\\\\\\\\\\"typeProperty\\\\\\\\\\\\\": 2}, {\\\\\\\\\\\\\"column\\\\\\\\\\\\\": {\\\\\\\\\\\\\"type\\\\\\\\\\\\\": 2, \\\\\\\\\\\\\"details\\\\\\\\\\\\\": {\\\\\\\\\\\\\"selectedColumn\\\\\\\\\\\\\": \\\\\\\\\\\\\"native-country\\\\\\\\\\\\\"}}, \\\\\\\\\\\\\"typeProperty\\\\\\\\\\\\\": 0}, {\\\\\\\\\\\\\"column\\\\\\\\\\\\\": {\\\\\\\\\\\\\"type\\\\\\\\\\\\\": 2, \\\\\\\\\\\\\"details\\\\\\\\\\\\\": {\\\\\\\\\\\\\"selectedColumn\\\\\\\\\\\\\": \\\\\\\\\\\\\"class-label\\\\\\\\\\\\\"}}, \\\\\\\\\\\\\"typeProperty\\\\\\\\\\\\\": 0}]}, \\\\\\\\\\\\\"localData\\\\\\\\\\\\\": {}, \\\\\\\\\\\\\"isEnabled\\\\\\\\\\\\\": true, \\\\\\\\\\\\\"name\\\\\\\\\\\\\": null, \\\\\\\\\\\\\"annotation\\\\\\\\\\\\\": null}], \\\\\\\\\\\\\"inspectors\\\\\\\\\\\\\": [], \\\\\\\\\\\\\"meta\\\\\\\\\\\\\": {\\\\\\\\\\\\\"savedDatasetId\\\\\\\\\\\\\": \\\\\\\\\\\\\"312ef190-1be0-446e-9b84-d49e1f0b22a9\\\\\\\\\\\\\", \\\\\\\\\\\\\"datasetType\\\\\\\\\\\\\": \\\\\\\\\\\\\"tabular\\\\\\\\\\\\\", \\\\\\\\\\\\\"subscriptionId\\\\\\\\\\\\\": \\\\\\\\\\\\\"c8eb054b-91b3-425d-acbc-fe49c970c7c4\\\\\\\\\\\\\", \\\\\\\\\\\\\"workspaceId\\\\\\\\\\\\\": \\\\\\\\\\\\\"5395abde-07a5-41c1-b115-2f533dd360b4\\\\\\\\\\\\\", \\\\\\\\\\\\\"workspaceLocation\\\\\\\\\\\\\": \\\\\\\\\\\\\"australiaeast\\\\\\\\\\\\\"}}\\\\\", \\\\\"activities\\\\\": 0}',\n",
       "  'EnableSubsampling': 'False',\n",
       "  'runTemplate': 'AutoML',\n",
       "  'azureml.runsource': 'automl',\n",
       "  'display_task_type': 'classification',\n",
       "  'dependencies_versions': '{\"azureml\": \"0.2.7\", \"azureml-widgets\": \"1.25.0\", \"azureml-train\": \"1.25.0\", \"azureml-train-restclients-hyperdrive\": \"1.25.0\", \"azureml-train-core\": \"1.25.0\", \"azureml-train-automl-client\": \"1.25.0\", \"azureml-telemetry\": \"1.25.0\", \"azureml-sdk\": \"1.25.0\", \"azureml-pipeline\": \"1.25.0\", \"azureml-pipeline-steps\": \"1.25.0\", \"azureml-pipeline-core\": \"1.25.0\", \"azureml-dataset-runtime\": \"1.25.0\", \"azureml-dataprep\": \"2.11.2\", \"azureml-dataprep-rslex\": \"1.2.3\", \"azureml-dataprep-native\": \"24.0.0\", \"azureml-core\": \"1.25.0\", \"azureml-automl-core\": \"1.25.0\"}',\n",
       "  '_aml_system_scenario_identification': 'Remote.Parent',\n",
       "  'ClientType': 'SDK',\n",
       "  'environment_cpu_name': 'AzureML-AutoML',\n",
       "  'environment_cpu_label': 'prod',\n",
       "  'environment_gpu_name': 'AzureML-AutoML-GPU',\n",
       "  'environment_gpu_label': 'prod',\n",
       "  'root_attribution': 'automl',\n",
       "  'attribution': 'AutoML',\n",
       "  'Orchestrator': 'AutoML',\n",
       "  'CancelUri': 'https://australiaeast.experiments.azureml.net/jasmine/v1.0/subscriptions/c8eb054b-91b3-425d-acbc-fe49c970c7c4/resourceGroups/udacity/providers/Microsoft.MachineLearningServices/workspaces/azProject3/experimentids/ba52476a-d46a-481c-b81b-df97f93a9139/cancel/AutoML_6134171f-7acb-4c71-92b5-5f171357441d',\n",
       "  'ClientSdkVersion': '1.24.0',\n",
       "  'snapshotId': '00000000-0000-0000-0000-000000000000',\n",
       "  'SetupRunId': 'AutoML_6134171f-7acb-4c71-92b5-5f171357441d_setup',\n",
       "  'SetupRunContainerId': 'dcid.AutoML_6134171f-7acb-4c71-92b5-5f171357441d_setup',\n",
       "  'FeaturizationRunJsonPath': 'featurizer_container.json',\n",
       "  'FeaturizationRunId': 'AutoML_6134171f-7acb-4c71-92b5-5f171357441d_featurize',\n",
       "  'ProblemInfoJsonString': '{\"dataset_num_categorical\": 0, \"is_sparse\": true, \"subsampling\": false, \"dataset_classes\": 2, \"dataset_features\": 117, \"dataset_samples\": 13678, \"single_frequency_class_detected\": false}',\n",
       "  'ModelExplainRunId': 'AutoML_6134171f-7acb-4c71-92b5-5f171357441d_ModelExplain'},\n",
       " 'inputDatasets': [{'dataset': {'id': '312ef190-1be0-446e-9b84-d49e1f0b22a9'}, 'consumptionDetails': {'type': 'RunInput', 'inputName': 'training_data', 'mechanism': 'Direct'}}],\n",
       " 'outputDatasets': [],\n",
       " 'logFiles': {},\n",
       " 'submittedBy': 'Larry Jiang'}"
      ]
     },
     "execution_count": 9,
     "metadata": {},
     "output_type": "execute_result"
    }
   ],
   "source": [
    "RunDetails(remote_run).show()\n",
    "remote_run.wait_for_completion(show_output=True)"
   ]
  },
  {
   "cell_type": "markdown",
   "metadata": {},
   "source": [
    "## Best Model\n",
    "\n",
    "TODO: In the cell below, get the best model from the automl experiments and display all the properties of the model.\n",
    "\n"
   ]
  },
  {
   "cell_type": "code",
   "execution_count": 10,
   "metadata": {
    "gather": {
     "logged": 1598431426111
    },
    "jupyter": {
     "outputs_hidden": false,
     "source_hidden": false
    },
    "nteract": {
     "transient": {
      "deleting": false
     }
    }
   },
   "outputs": [
    {
     "name": "stderr",
     "output_type": "stream",
     "text": [
      "WARNING:root:The model you attempted to retrieve requires 'azureml-train-automl-runtime' to be installed at '==1.24.0'. Please install 'azureml-train-automl-runtime==1.24.0' (e.g. `pip install azureml-train-automl-runtime==1.24.0`) and then rerun the previous command.\n"
     ]
    },
    {
     "name": "stdout",
     "output_type": "stream",
     "text": [
      "Run ID: AutoML_6134171f-7acb-4c71-92b5-5f171357441d_9\n",
      "Metrics: 0.8586744639376219\n",
      "{'average_precision_score_weighted': 0.9274256651311404, 'f1_score_weighted': 0.8511145711639676, 'weighted_accuracy': 0.9120226063616871, 'f1_score_macro': 0.7960020419862558, 'AUC_micro': 0.9370878361433147, 'log_loss': 0.3276420805872589, 'norm_macro_recall': 0.5441401243663043, 'balanced_accuracy': 0.7720700621831522, 'accuracy': 0.8586744639376219, 'precision_score_weighted': 0.8542112725005474, 'AUC_macro': 0.9137353870217185, 'average_precision_score_micro': 0.9390397518842275, 'recall_score_weighted': 0.8586744639376219, 'precision_score_macro': 0.8374161855765948, 'matthews_correlation': 0.6059407028954847, 'f1_score_micro': 0.8586744639376219, 'average_precision_score_macro': 0.8889382241189946, 'AUC_weighted': 0.9137353870217185, 'recall_score_micro': 0.8586744639376219, 'precision_score_micro': 0.8586744639376219, 'recall_score_macro': 0.7720700621831522, 'accuracy_table': 'aml://artifactId/ExperimentRun/dcid.AutoML_6134171f-7acb-4c71-92b5-5f171357441d_9/accuracy_table', 'confusion_matrix': 'aml://artifactId/ExperimentRun/dcid.AutoML_6134171f-7acb-4c71-92b5-5f171357441d_9/confusion_matrix'}\n",
      "average_precision_score_weighted 0.9274256651311404\n",
      "f1_score_weighted 0.8511145711639676\n",
      "weighted_accuracy 0.9120226063616871\n",
      "f1_score_macro 0.7960020419862558\n",
      "AUC_micro 0.9370878361433147\n",
      "log_loss 0.3276420805872589\n",
      "norm_macro_recall 0.5441401243663043\n",
      "balanced_accuracy 0.7720700621831522\n",
      "accuracy 0.8586744639376219\n",
      "precision_score_weighted 0.8542112725005474\n",
      "AUC_macro 0.9137353870217185\n",
      "average_precision_score_micro 0.9390397518842275\n",
      "recall_score_weighted 0.8586744639376219\n",
      "precision_score_macro 0.8374161855765948\n",
      "matthews_correlation 0.6059407028954847\n",
      "f1_score_micro 0.8586744639376219\n",
      "average_precision_score_macro 0.8889382241189946\n",
      "AUC_weighted 0.9137353870217185\n",
      "recall_score_micro 0.8586744639376219\n",
      "precision_score_micro 0.8586744639376219\n",
      "recall_score_macro 0.7720700621831522\n",
      "accuracy_table aml://artifactId/ExperimentRun/dcid.AutoML_6134171f-7acb-4c71-92b5-5f171357441d_9/accuracy_table\n",
      "confusion_matrix aml://artifactId/ExperimentRun/dcid.AutoML_6134171f-7acb-4c71-92b5-5f171357441d_9/confusion_matrix\n"
     ]
    },
    {
     "data": {
      "text/plain": [
       "Model(workspace=Workspace.create(name='azProject3', subscription_id='c8eb054b-91b3-425d-acbc-fe49c970c7c4', resource_group='udacity'), name=model, id=model:1, version=1, tags={}, properties={})"
      ]
     },
     "execution_count": 10,
     "metadata": {},
     "output_type": "execute_result"
    }
   ],
   "source": [
    "#TODO: Save the best model\n",
    "best_run, model = remote_run.get_output()\n",
    "best_run_metrics = best_run.get_metrics()\n",
    "parameter_values = best_run.get_details()['runDefinition']\n",
    "print(\"Run ID:\",best_run.id)\n",
    "print('Metrics:',best_run_metrics['accuracy'])\n",
    "print(best_run_metrics)\n",
    "\n",
    "for metric_name in best_run_metrics:\n",
    "    metric = best_run_metrics[metric_name]\n",
    "    print(metric_name, metric)\n",
    "    \n",
    "model_name = 'model'\n",
    "best_run.register_model(model_path='outputs/model.pkl', model_name=model_name)"
   ]
  },
  {
   "cell_type": "markdown",
   "metadata": {},
   "source": [
    "## Model Deployment\n",
    "\n",
    "Remember you have to deploy only one of the two models you trained.. Perform the steps in the rest of this notebook only if you wish to deploy this model.\n",
    "\n",
    "TODO: In the cell below, register the model, create an inference config and deploy the model as a web service."
   ]
  },
  {
   "cell_type": "code",
   "execution_count": 11,
   "metadata": {
    "gather": {
     "logged": 1598431435189
    },
    "jupyter": {
     "outputs_hidden": false,
     "source_hidden": false
    },
    "nteract": {
     "transient": {
      "deleting": false
     }
    },
    "scrolled": false
   },
   "outputs": [
    {
     "name": "stdout",
     "output_type": "stream",
     "text": [
      "Tips: You can try get_logs(): https://aka.ms/debugimage#dockerlog or local deployment: https://aka.ms/debugimage#debug-locally to debug if deployment takes longer than 10 minutes.\n",
      "Running\n",
      "2021-04-03 16:54:25+11:00 Creating Container Registry if not exists.\n",
      "2021-04-03 16:54:27+11:00 Use the existing image.\n",
      "2021-04-03 16:54:27+11:00 Generating deployment configuration.\n",
      "2021-04-03 16:54:28+11:00 Submitting deployment to compute..\n",
      "2021-04-03 16:54:34+11:00 Checking the status of deployment automlclassifier..\n",
      "2021-04-03 16:55:12+11:00 Checking the status of inference endpoint automlclassifier.\n",
      "Succeeded\n",
      "ACI service creation operation finished, operation \"Succeeded\"\n"
     ]
    }
   ],
   "source": [
    "from azureml.core.conda_dependencies import CondaDependencies\n",
    "from azureml.core.compute import ComputeTarget\n",
    "from azureml.core.webservice import AciWebservice\n",
    "from azureml.core.model import InferenceConfig\n",
    "from azureml.core.model import Model\n",
    "from azureml.core import Environment\n",
    "import sklearn\n",
    "inference_config = InferenceConfig(entry_script='score.py')\n",
    "aci_config = AciWebservice.deploy_configuration(cpu_cores=1, memory_gb=1,auth_enabled=True)\n",
    "model = ws.models[model_name]\n",
    "service = Model.deploy(workspace=ws,\n",
    "                       name='automlclassifier',\n",
    "                       models=[model],\n",
    "                       inference_config=inference_config,\n",
    "                       deployment_config=aci_config)\n",
    "service.wait_for_deployment(show_output = True)"
   ]
  },
  {
   "cell_type": "markdown",
   "metadata": {
    "collapsed": true,
    "gather": {
     "logged": 1598431657736
    },
    "jupyter": {
     "outputs_hidden": false,
     "source_hidden": false
    },
    "nteract": {
     "transient": {
      "deleting": false
     }
    }
   },
   "source": [
    "TODO: In the cell below, send a request to the web service you deployed to test it."
   ]
  },
  {
   "cell_type": "code",
   "execution_count": 15,
   "metadata": {
    "gather": {
     "logged": 1598432707604
    },
    "jupyter": {
     "outputs_hidden": false,
     "source_hidden": false
    },
    "nteract": {
     "transient": {
      "deleting": false
     }
    }
   },
   "outputs": [
    {
     "name": "stdout",
     "output_type": "stream",
     "text": [
      "b'\"{\\\\\"result\\\\\": [\\\\\"Low\\\\\"]}\"'\n"
     ]
    }
   ],
   "source": [
    "import urllib.request\n",
    "import json\n",
    "import os\n",
    "import ssl\n",
    "\n",
    "def allowSelfSignedHttps(allowed):\n",
    "    # bypass the server certificate verification on client side\n",
    "    if allowed and not os.environ.get('PYTHONHTTPSVERIFY', '') and getattr(ssl, '_create_unverified_context', None):\n",
    "        ssl._create_default_https_context = ssl._create_unverified_context\n",
    "\n",
    "allowSelfSignedHttps(True) # this line is needed if you use self-signed certificate in your scoring service.\n",
    "\n",
    "data = {\n",
    "    \"data\":\n",
    "    [\n",
    "        {\n",
    "            'age': \"21\",\n",
    "            'workclass': \"Private\",\n",
    "            'fnlwgt': \"287436\",\n",
    "            'education': \" HS-grad\",\n",
    "            'education-num': \"9\",\n",
    "            'marital-status': \" Never-married\",\n",
    "            'occupation': \" Machine-op-inspct\",\n",
    "            'relationship': \" Husband\",\n",
    "            'race': \" Black\",\n",
    "            'sex': \" Male\",\n",
    "            'capital-gain': \"0\",\n",
    "            'capital-loss': \"0\",\n",
    "            'hours-per-week': \"38\",\n",
    "            'native-country': \"United-States\",\n",
    "        },\n",
    "    ],\n",
    "}\n",
    "\n",
    "\n",
    "body = str.encode(json.dumps(data))\n",
    "\n",
    "url = 'http://cc68f5c4-ea70-40c7-b67f-2f016ec72236.australiaeast.azurecontainer.io/score'\n",
    "api_key = 'gKKfZXDrLRvDCMMcnytt61Qs9hnHk6Sb' # Replace this with the API key for the web service\n",
    "headers = {'Content-Type':'application/json', 'Authorization':('Bearer '+ api_key)}\n",
    "\n",
    "req = urllib.request.Request(url, body, headers)\n",
    "\n",
    "try:\n",
    "    response = urllib.request.urlopen(req)\n",
    "\n",
    "    result = response.read()\n",
    "    print(result)\n",
    "except urllib.error.HTTPError as error:\n",
    "    print(\"The request failed with status code: \" + str(error.code))\n",
    "\n",
    "    # Print the headers - they include the requert ID and the timestamp, which are useful for debugging the failure\n",
    "    print(error.info())\n",
    "    print(json.loads(error.read().decode(\"utf8\", 'ignore')))\n"
   ]
  },
  {
   "cell_type": "markdown",
   "metadata": {
    "collapsed": true,
    "gather": {
     "logged": 1598432765711
    },
    "jupyter": {
     "outputs_hidden": false,
     "source_hidden": false
    },
    "nteract": {
     "transient": {
      "deleting": false
     }
    }
   },
   "source": [
    "TODO: In the cell below, print the logs of the web service and delete the service"
   ]
  },
  {
   "cell_type": "code",
   "execution_count": 16,
   "metadata": {
    "jupyter": {
     "outputs_hidden": false,
     "source_hidden": false
    },
    "nteract": {
     "transient": {
      "deleting": false
     }
    }
   },
   "outputs": [
    {
     "name": "stdout",
     "output_type": "stream",
     "text": [
      "2021-04-03T06:02:25,206565100+00:00 - iot-server/run \n",
      "2021-04-03T06:02:25,212742200+00:00 - nginx/run \n",
      "2021-04-03T06:02:25,223108300+00:00 - rsyslog/run \n",
      "2021-04-03T06:02:25,230220900+00:00 - gunicorn/run \n",
      "/usr/sbin/nginx: /azureml-envs/azureml_2b14f450572e78de640d54eaabed5e4d/lib/libcrypto.so.1.0.0: no version information available (required by /usr/sbin/nginx)\n",
      "/usr/sbin/nginx: /azureml-envs/azureml_2b14f450572e78de640d54eaabed5e4d/lib/libcrypto.so.1.0.0: no version information available (required by /usr/sbin/nginx)\n",
      "/usr/sbin/nginx: /azureml-envs/azureml_2b14f450572e78de640d54eaabed5e4d/lib/libssl.so.1.0.0: no version information available (required by /usr/sbin/nginx)\n",
      "/usr/sbin/nginx: /azureml-envs/azureml_2b14f450572e78de640d54eaabed5e4d/lib/libssl.so.1.0.0: no version information available (required by /usr/sbin/nginx)\n",
      "/usr/sbin/nginx: /azureml-envs/azureml_2b14f450572e78de640d54eaabed5e4d/lib/libssl.so.1.0.0: no version information available (required by /usr/sbin/nginx)\n",
      "rsyslogd: /azureml-envs/azureml_2b14f450572e78de640d54eaabed5e4d/lib/libuuid.so.1: no version information available (required by rsyslogd)\n",
      "EdgeHubConnectionString and IOTEDGE_IOTHUBHOSTNAME are not set. Exiting...\n",
      "2021-04-03T06:02:25,472950100+00:00 - iot-server/finish 1 0\n",
      "2021-04-03T06:02:25,476236800+00:00 - Exit code 1 is normal. Not restarting iot-server.\n",
      "Starting gunicorn 19.9.0\n",
      "Listening at: http://127.0.0.1:31311 (65)\n",
      "Using worker: sync\n",
      "worker timeout is set to 300\n",
      "Booting worker with pid: 94\n",
      "SPARK_HOME not set. Skipping PySpark Initialization.\n",
      "Generating new fontManager, this may take some time...\n",
      "Initializing logger\n",
      "2021-04-03 06:02:27,251 | root | INFO | Starting up app insights client\n",
      "2021-04-03 06:02:27,251 | root | INFO | Starting up request id generator\n",
      "2021-04-03 06:02:27,252 | root | INFO | Starting up app insight hooks\n",
      "2021-04-03 06:02:27,252 | root | INFO | Invoking user's init function\n",
      "2021-04-03 06:02:30,283 | azureml.core | WARNING | Failure while loading azureml_run_type_providers. Failed to load entrypoint automl = azureml.train.automl.run:AutoMLRun._from_run_dto with exception (cryptography 3.2 (/azureml-envs/azureml_2b14f450572e78de640d54eaabed5e4d/lib/python3.6/site-packages), Requirement.parse('cryptography<4.0.0,>=3.3.1; extra == \"crypto\"'), {'PyJWT'}).\n",
      "Failure while loading azureml_run_type_providers. Failed to load entrypoint automl = azureml.train.automl.run:AutoMLRun._from_run_dto with exception (cryptography 3.2 (/azureml-envs/azureml_2b14f450572e78de640d54eaabed5e4d/lib/python3.6/site-packages), Requirement.parse('cryptography<4.0.0,>=3.3.1; extra == \"crypto\"'), {'PyJWT'}).\n",
      "2021-04-03 06:02:30,893 | root | INFO | Users's init has completed successfully\n",
      "2021-04-03 06:02:30,897 | root | INFO | Skipping middleware: dbg_model_info as it's not enabled.\n",
      "2021-04-03 06:02:30,897 | root | INFO | Skipping middleware: dbg_resource_usage as it's not enabled.\n",
      "2021-04-03 06:02:30,899 | root | INFO | Scoring timeout is found from os.environ: 60000 ms\n",
      "2021-04-03 06:02:32,454 | root | INFO | 200\n",
      "127.0.0.1 - - [03/Apr/2021:06:02:32 +0000] \"GET /swagger.json HTTP/1.0\" 200 2904 \"-\" \"Go-http-client/1.1\"\n",
      "2021-04-03 06:04:47,732 | root | INFO | 200\n",
      "127.0.0.1 - - [03/Apr/2021:06:04:47 +0000] \"GET /swagger.json HTTP/1.0\" 200 2904 \"-\" \"Go-http-client/1.1\"\n",
      "2021-04-03 06:04:49,912 | root | INFO | 200\n",
      "127.0.0.1 - - [03/Apr/2021:06:04:49 +0000] \"GET /swagger.json HTTP/1.0\" 200 2904 \"-\" \"Go-http-client/1.1\"\n",
      "2021-04-03 06:08:53,425 | root | INFO | Validation Request Content-Type\n",
      "2021-04-03 06:08:53,428 | root | INFO | Scoring Timer is set to 60.0 seconds\n",
      "2021-04-03 06:08:53,654 | root | INFO | 200\n",
      "127.0.0.1 - - [03/Apr/2021:06:08:53 +0000] \"POST /score HTTP/1.0\" 200 25 \"-\" \"Python-urllib/3.8\"\n",
      "\n"
     ]
    }
   ],
   "source": [
    "print(service.get_logs())"
   ]
  },
  {
   "cell_type": "code",
   "execution_count": null,
   "metadata": {},
   "outputs": [],
   "source": [
    "compute_target.delete()"
   ]
  }
 ],
 "metadata": {
  "kernel_info": {
   "name": "python3-azureml"
  },
  "kernelspec": {
   "display_name": "Python 3",
   "language": "python",
   "name": "python3"
  },
  "language_info": {
   "codemirror_mode": {
    "name": "ipython",
    "version": 3
   },
   "file_extension": ".py",
   "mimetype": "text/x-python",
   "name": "python",
   "nbconvert_exporter": "python",
   "pygments_lexer": "ipython3",
   "version": "3.8.5"
  },
  "nteract": {
   "version": "nteract-front-end@1.0.0"
  }
 },
 "nbformat": 4,
 "nbformat_minor": 2
}
