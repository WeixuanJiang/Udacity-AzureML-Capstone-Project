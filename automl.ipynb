{
 "cells": [
  {
   "cell_type": "markdown",
   "metadata": {},
   "source": [
    "# Automated ML\n",
    "\n",
    "TODO: Import Dependencies. In the cell below, import all the dependencies that you will need to complete the project."
   ]
  },
  {
   "cell_type": "code",
   "execution_count": 1,
   "metadata": {
    "gather": {
     "logged": 1598423888013
    },
    "jupyter": {
     "outputs_hidden": false,
     "source_hidden": false
    },
    "nteract": {
     "transient": {
      "deleting": false
     }
    }
   },
   "outputs": [
    {
     "name": "stderr",
     "output_type": "stream",
     "text": [
      "Failure while loading azureml_run_type_providers. Failed to load entrypoint automl = azureml.train.automl.run:AutoMLRun._from_run_dto with exception (azureml-dataprep-native 24.0.0 (c:\\users\\long8\\appdata\\roaming\\python\\python38\\site-packages), Requirement.parse('azureml-dataprep-native<31.0.0,>=30.0.0'), {'azureml-dataprep'}).\n"
     ]
    }
   ],
   "source": [
    "from azureml.train.automl import AutoMLConfig\n",
    "import numpy as np\n",
    "import pandas as pd\n",
    "import matplotlib.pyplot as plt\n",
    "import azureml.core\n",
    "from azureml.core import Workspace, Experiment\n",
    "from azureml.core.compute import AmlCompute, ComputeTarget\n",
    "from azureml.widgets import RunDetails\n",
    "from azureml.core.dataset import Dataset\n",
    "from sklearn.model_selection import train_test_split\n",
    "import os"
   ]
  },
  {
   "cell_type": "markdown",
   "metadata": {},
   "source": [
    "## Dataset\n",
    "\n",
    "### Overview\n",
    "TODO: In this markdown cell, give an overview of the dataset you are using. Also mention the task you will be performing.\n",
    "\n",
    "\n",
    "TODO: Get data. In the cell below, write code to access the data you will be using in this project. Remember that the dataset needs to be external."
   ]
  },
  {
   "cell_type": "code",
   "execution_count": 2,
   "metadata": {},
   "outputs": [],
   "source": [
    "def compute_target(ws,compute_name='cpu-cluster-1',vm_size=\"STANDARD_D2_V2\",compute_min_nodes=0,compute_max_nodes=4):\n",
    "    if compute_name in ws.compute_targets:\n",
    "        compute_target = ws.compute_targets[compute_name]\n",
    "        if compute_target and type(compute_target) is AmlCompute:\n",
    "            print('found compute target. just use it. ' + compute_name)\n",
    "    else:\n",
    "        print('Creating a new compute target')\n",
    "        config = AmlCompute.provisioning_configuration(vm_size=vm_size,\n",
    "                                                       min_nodes=compute_min_nodes,\n",
    "                                                       max_nodes=compute_max_nodes)\n",
    "        # create a cluster\n",
    "        compute_target = ComputeTarget.create(ws,compute_name,config)\n",
    "        compute_target.wait_for_completion(show_output=True)\n",
    "    return compute_target"
   ]
  },
  {
   "cell_type": "code",
   "execution_count": 3,
   "metadata": {
    "gather": {
     "logged": 1598423890461
    },
    "jupyter": {
     "outputs_hidden": false,
     "source_hidden": false
    },
    "nteract": {
     "transient": {
      "deleting": false
     }
    }
   },
   "outputs": [
    {
     "name": "stderr",
     "output_type": "stream",
     "text": [
      "Warning: Falling back to use azure cli login credentials.\n",
      "If you run your code in unattended mode, i.e., where you can't give a user input, then we recommend to use ServicePrincipalAuthentication or MsiAuthentication.\n",
      "Please refer to aka.ms/aml-notebook-auth for different authentication mechanisms in azureml-sdk.\n"
     ]
    },
    {
     "name": "stdout",
     "output_type": "stream",
     "text": [
      "Creating a new compute target\n",
      "Creating...\n",
      "SucceededProvisioning operation finished, operation \"Succeeded\"\n",
      "Succeeded\n",
      "AmlCompute wait for completion finished\n",
      "\n",
      "Minimum number of nodes requested have been provisioned\n"
     ]
    }
   ],
   "source": [
    "ws = Workspace.from_config('.')\n",
    "\n",
    "# choose a name for experiment\n",
    "experiment_name = 'project-automl-1'\n",
    "\n",
    "experiment=Experiment(ws, experiment_name)\n",
    "\n",
    "# create compute target\n",
    "compute_target = compute_target(ws,compute_name='cpu-cluster-1',\n",
    "                                vm_size=\"STANDARD_D2_V2\",\n",
    "                                compute_min_nodes=0,\n",
    "                                compute_max_nodes=4)"
   ]
  },
  {
   "cell_type": "code",
   "execution_count": 4,
   "metadata": {},
   "outputs": [],
   "source": [
    "# load data set\n",
    "workspace = Workspace.from_config('.')\n",
    "dataset = Dataset.get_by_name(workspace, name='adult')"
   ]
  },
  {
   "cell_type": "markdown",
   "metadata": {},
   "source": [
    "## AutoML Configuration\n",
    "\n",
    "TODO: Explain why you chose the automl settings and cofiguration you used below."
   ]
  },
  {
   "cell_type": "code",
   "execution_count": 5,
   "metadata": {
    "gather": {
     "logged": 1598429217746
    },
    "jupyter": {
     "outputs_hidden": false,
     "source_hidden": false
    },
    "nteract": {
     "transient": {
      "deleting": false
     }
    }
   },
   "outputs": [],
   "source": [
    "# TODO: Put your automl config here\n",
    "automl_config = AutoMLConfig(\n",
    "    training_data= dataset,\n",
    "    validation_size = 0.2,\n",
    "    label_column_name='class-label',\n",
    "    experiment_timeout_minutes=30,\n",
    "    compute_target=compute_target,\n",
    "    task='classification',\n",
    "    primary_metric='accuracy',\n",
    "    n_cross_validations=3,\n",
    "    enable_onnx_compatible_models=True,\n",
    "    iterations=10)"
   ]
  },
  {
   "cell_type": "code",
   "execution_count": 6,
   "metadata": {
    "gather": {
     "logged": 1598431107951
    },
    "jupyter": {
     "outputs_hidden": false,
     "source_hidden": false
    },
    "nteract": {
     "transient": {
      "deleting": false
     }
    }
   },
   "outputs": [
    {
     "name": "stdout",
     "output_type": "stream",
     "text": [
      "Submitting remote run.\n"
     ]
    },
    {
     "data": {
      "text/html": [
       "<table style=\"width:100%\"><tr><th>Experiment</th><th>Id</th><th>Type</th><th>Status</th><th>Details Page</th><th>Docs Page</th></tr><tr><td>project-automl-1</td><td>AutoML_756df04b-5af5-4597-9a92-cb4d8f8c6019</td><td>automl</td><td>NotStarted</td><td><a href=\"https://ml.azure.com/runs/AutoML_756df04b-5af5-4597-9a92-cb4d8f8c6019?wsid=/subscriptions/c8eb054b-91b3-425d-acbc-fe49c970c7c4/resourcegroups/udacityProject/workspaces/azProject3&amp;tid=3c3cb7bb-3b39-461c-a638-72ab2edec2c9\" target=\"_blank\" rel=\"noopener\">Link to Azure Machine Learning studio</a></td><td><a href=\"https://docs.microsoft.com/en-us/python/api/overview/azure/ml/intro?view=azure-ml-py\" target=\"_blank\" rel=\"noopener\">Link to Documentation</a></td></tr></table>"
      ],
      "text/plain": [
       "<IPython.core.display.HTML object>"
      ]
     },
     "metadata": {},
     "output_type": "display_data"
    }
   ],
   "source": [
    "# TODO: Submit your experiment\n",
    "remote_run = experiment.submit(automl_config)"
   ]
  },
  {
   "cell_type": "markdown",
   "metadata": {},
   "source": [
    "## Run Details\n",
    "\n",
    "OPTIONAL: Write about the different models trained and their performance. Why do you think some models did better than others?\n",
    "\n",
    "TODO: In the cell below, use the `RunDetails` widget to show the different experiments."
   ]
  },
  {
   "cell_type": "code",
   "execution_count": 7,
   "metadata": {
    "gather": {
     "logged": 1598431121770
    },
    "jupyter": {
     "outputs_hidden": false,
     "source_hidden": false
    },
    "nteract": {
     "transient": {
      "deleting": false
     }
    },
    "scrolled": false
   },
   "outputs": [
    {
     "data": {
      "application/vnd.jupyter.widget-view+json": {
       "model_id": "d7f7b5c520154ee2aa8a075874f93edf",
       "version_major": 2,
       "version_minor": 0
      },
      "text/plain": [
       "_AutoMLWidget(widget_settings={'childWidgetDisplay': 'popup', 'send_telemetry': False, 'log_level': 'INFO', 's…"
      ]
     },
     "metadata": {},
     "output_type": "display_data"
    },
    {
     "data": {
      "application/aml.mini.widget.v1": "{\"status\": \"Completed\", \"workbench_run_details_uri\": \"https://ml.azure.com/runs/AutoML_756df04b-5af5-4597-9a92-cb4d8f8c6019?wsid=/subscriptions/c8eb054b-91b3-425d-acbc-fe49c970c7c4/resourcegroups/udacityProject/workspaces/azProject3&tid=3c3cb7bb-3b39-461c-a638-72ab2edec2c9\", \"run_id\": \"AutoML_756df04b-5af5-4597-9a92-cb4d8f8c6019\", \"run_properties\": {\"run_id\": \"AutoML_756df04b-5af5-4597-9a92-cb4d8f8c6019\", \"created_utc\": \"2021-04-02T22:08:02.497863Z\", \"properties\": {\"num_iterations\": \"10\", \"training_type\": \"TrainFull\", \"acquisition_function\": \"EI\", \"primary_metric\": \"accuracy\", \"train_split\": \"0.2\", \"acquisition_parameter\": \"0\", \"num_cross_validation\": \"3\", \"target\": \"cpu-cluster-1\", \"AMLSettingsJsonString\": \"{\\\"path\\\":null,\\\"name\\\":\\\"project-automl-1\\\",\\\"subscription_id\\\":\\\"c8eb054b-91b3-425d-acbc-fe49c970c7c4\\\",\\\"resource_group\\\":\\\"udacityProject\\\",\\\"workspace_name\\\":\\\"azProject3\\\",\\\"region\\\":\\\"eastus\\\",\\\"compute_target\\\":\\\"cpu-cluster-1\\\",\\\"spark_service\\\":null,\\\"azure_service\\\":\\\"remote\\\",\\\"many_models\\\":false,\\\"pipeline_fetch_max_batch_size\\\":1,\\\"enable_batch_run\\\":false,\\\"enable_run_restructure\\\":false,\\\"iterations\\\":10,\\\"primary_metric\\\":\\\"accuracy\\\",\\\"task_type\\\":\\\"classification\\\",\\\"data_script\\\":null,\\\"test_size\\\":0.0,\\\"validation_size\\\":0.2,\\\"n_cross_validations\\\":3,\\\"y_min\\\":null,\\\"y_max\\\":null,\\\"num_classes\\\":null,\\\"featurization\\\":\\\"auto\\\",\\\"_ignore_package_version_incompatibilities\\\":false,\\\"is_timeseries\\\":false,\\\"max_cores_per_iteration\\\":1,\\\"max_concurrent_iterations\\\":1,\\\"iteration_timeout_minutes\\\":null,\\\"mem_in_mb\\\":null,\\\"enforce_time_on_windows\\\":true,\\\"experiment_timeout_minutes\\\":30,\\\"experiment_exit_score\\\":null,\\\"whitelist_models\\\":null,\\\"blacklist_algos\\\":[\\\"TensorFlowLinearClassifier\\\",\\\"TensorFlowDNN\\\"],\\\"supported_models\\\":[\\\"XGBoostClassifier\\\",\\\"RandomForest\\\",\\\"DecisionTree\\\",\\\"LogisticRegression\\\",\\\"SVM\\\",\\\"TensorFlowDNN\\\",\\\"BernoulliNaiveBayes\\\",\\\"ExtremeRandomTrees\\\",\\\"MultinomialNaiveBayes\\\",\\\"LinearSVM\\\",\\\"AveragedPerceptronClassifier\\\",\\\"SGD\\\",\\\"KNN\\\",\\\"LightGBM\\\",\\\"GradientBoosting\\\",\\\"TensorFlowLinearClassifier\\\"],\\\"private_models\\\":[],\\\"auto_blacklist\\\":true,\\\"blacklist_samples_reached\\\":false,\\\"exclude_nan_labels\\\":true,\\\"verbosity\\\":20,\\\"_debug_log\\\":\\\"azureml_automl.log\\\",\\\"show_warnings\\\":false,\\\"model_explainability\\\":true,\\\"service_url\\\":null,\\\"sdk_url\\\":null,\\\"sdk_packages\\\":null,\\\"enable_onnx_compatible_models\\\":true,\\\"enable_split_onnx_featurizer_estimator_models\\\":false,\\\"vm_type\\\":\\\"STANDARD_D2_V2\\\",\\\"telemetry_verbosity\\\":20,\\\"send_telemetry\\\":true,\\\"enable_dnn\\\":false,\\\"scenario\\\":\\\"SDK-1.13.0\\\",\\\"environment_label\\\":null,\\\"save_mlflow\\\":false,\\\"force_text_dnn\\\":false,\\\"enable_feature_sweeping\\\":false,\\\"enable_early_stopping\\\":false,\\\"early_stopping_n_iters\\\":10,\\\"metrics\\\":null,\\\"enable_metric_confidence\\\":false,\\\"enable_ensembling\\\":true,\\\"enable_stack_ensembling\\\":false,\\\"ensemble_iterations\\\":10,\\\"enable_tf\\\":false,\\\"enable_subsampling\\\":false,\\\"subsample_seed\\\":null,\\\"enable_nimbusml\\\":false,\\\"enable_streaming\\\":false,\\\"force_streaming\\\":false,\\\"track_child_runs\\\":true,\\\"allowed_private_models\\\":[],\\\"label_column_name\\\":\\\"class-label\\\",\\\"weight_column_name\\\":null,\\\"cv_split_column_names\\\":null,\\\"enable_local_managed\\\":false,\\\"_local_managed_run_id\\\":null,\\\"cost_mode\\\":1,\\\"lag_length\\\":0,\\\"metric_operation\\\":\\\"maximize\\\",\\\"preprocess\\\":true}\", \"DataPrepJsonString\": \"{\\\\\\\"training_data\\\\\\\": \\\\\\\"{\\\\\\\\\\\\\\\"blocks\\\\\\\\\\\\\\\": [{\\\\\\\\\\\\\\\"id\\\\\\\\\\\\\\\": \\\\\\\\\\\\\\\"21f8d2d3-f0d3-43bf-8550-73836fb578e6\\\\\\\\\\\\\\\", \\\\\\\\\\\\\\\"type\\\\\\\\\\\\\\\": \\\\\\\\\\\\\\\"Microsoft.DPrep.GetDatastoreFilesBlock\\\\\\\\\\\\\\\", \\\\\\\\\\\\\\\"arguments\\\\\\\\\\\\\\\": {\\\\\\\\\\\\\\\"datastores\\\\\\\\\\\\\\\": [{\\\\\\\\\\\\\\\"datastoreName\\\\\\\\\\\\\\\": \\\\\\\\\\\\\\\"workspaceblobstore\\\\\\\\\\\\\\\", \\\\\\\\\\\\\\\"path\\\\\\\\\\\\\\\": \\\\\\\\\\\\\\\"UI/04-02-2021_123341_UTC/Adult_Data_Set.csv\\\\\\\\\\\\\\\", \\\\\\\\\\\\\\\"resourceGroup\\\\\\\\\\\\\\\": \\\\\\\\\\\\\\\"udacityProject\\\\\\\\\\\\\\\", \\\\\\\\\\\\\\\"subscription\\\\\\\\\\\\\\\": \\\\\\\\\\\\\\\"c8eb054b-91b3-425d-acbc-fe49c970c7c4\\\\\\\\\\\\\\\", \\\\\\\\\\\\\\\"workspaceName\\\\\\\\\\\\\\\": \\\\\\\\\\\\\\\"azProject3\\\\\\\\\\\\\\\"}]}, \\\\\\\\\\\\\\\"localData\\\\\\\\\\\\\\\": {}, \\\\\\\\\\\\\\\"isEnabled\\\\\\\\\\\\\\\": true, \\\\\\\\\\\\\\\"name\\\\\\\\\\\\\\\": null, \\\\\\\\\\\\\\\"annotation\\\\\\\\\\\\\\\": null}, {\\\\\\\\\\\\\\\"id\\\\\\\\\\\\\\\": \\\\\\\\\\\\\\\"51df2d5d-5744-4e15-9461-0ace3d5dd9ef\\\\\\\\\\\\\\\", \\\\\\\\\\\\\\\"type\\\\\\\\\\\\\\\": \\\\\\\\\\\\\\\"Microsoft.DPrep.ParseDelimitedBlock\\\\\\\\\\\\\\\", \\\\\\\\\\\\\\\"arguments\\\\\\\\\\\\\\\": {\\\\\\\\\\\\\\\"columnHeadersMode\\\\\\\\\\\\\\\": 1, \\\\\\\\\\\\\\\"fileEncoding\\\\\\\\\\\\\\\": 0, \\\\\\\\\\\\\\\"handleQuotedLineBreaks\\\\\\\\\\\\\\\": false, \\\\\\\\\\\\\\\"preview\\\\\\\\\\\\\\\": false, \\\\\\\\\\\\\\\"separator\\\\\\\\\\\\\\\": \\\\\\\\\\\\\\\",\\\\\\\\\\\\\\\", \\\\\\\\\\\\\\\"skipRows\\\\\\\\\\\\\\\": 0, \\\\\\\\\\\\\\\"skipRowsMode\\\\\\\\\\\\\\\": 0}, \\\\\\\\\\\\\\\"localData\\\\\\\\\\\\\\\": {}, \\\\\\\\\\\\\\\"isEnabled\\\\\\\\\\\\\\\": true, \\\\\\\\\\\\\\\"name\\\\\\\\\\\\\\\": null, \\\\\\\\\\\\\\\"annotation\\\\\\\\\\\\\\\": null}, {\\\\\\\\\\\\\\\"id\\\\\\\\\\\\\\\": \\\\\\\\\\\\\\\"2d186138-f97c-4518-a5ae-bfa607477e1e\\\\\\\\\\\\\\\", \\\\\\\\\\\\\\\"type\\\\\\\\\\\\\\\": \\\\\\\\\\\\\\\"Microsoft.DPrep.DropColumnsBlock\\\\\\\\\\\\\\\", \\\\\\\\\\\\\\\"arguments\\\\\\\\\\\\\\\": {\\\\\\\\\\\\\\\"columns\\\\\\\\\\\\\\\": {\\\\\\\\\\\\\\\"type\\\\\\\\\\\\\\\": 0, \\\\\\\\\\\\\\\"details\\\\\\\\\\\\\\\": {\\\\\\\\\\\\\\\"selectedColumns\\\\\\\\\\\\\\\": [\\\\\\\\\\\\\\\"Path\\\\\\\\\\\\\\\"]}}}, \\\\\\\\\\\\\\\"localData\\\\\\\\\\\\\\\": {}, \\\\\\\\\\\\\\\"isEnabled\\\\\\\\\\\\\\\": true, \\\\\\\\\\\\\\\"name\\\\\\\\\\\\\\\": null, \\\\\\\\\\\\\\\"annotation\\\\\\\\\\\\\\\": null}, {\\\\\\\\\\\\\\\"id\\\\\\\\\\\\\\\": \\\\\\\\\\\\\\\"05124936-b902-4fce-9e40-a3c3e7f5bced\\\\\\\\\\\\\\\", \\\\\\\\\\\\\\\"type\\\\\\\\\\\\\\\": \\\\\\\\\\\\\\\"Microsoft.DPrep.SetColumnTypesBlock\\\\\\\\\\\\\\\", \\\\\\\\\\\\\\\"arguments\\\\\\\\\\\\\\\": {\\\\\\\\\\\\\\\"columnConversion\\\\\\\\\\\\\\\": [{\\\\\\\\\\\\\\\"column\\\\\\\\\\\\\\\": {\\\\\\\\\\\\\\\"type\\\\\\\\\\\\\\\": 2, \\\\\\\\\\\\\\\"details\\\\\\\\\\\\\\\": {\\\\\\\\\\\\\\\"selectedColumn\\\\\\\\\\\\\\\": \\\\\\\\\\\\\\\"Path\\\\\\\\\\\\\\\"}}, \\\\\\\\\\\\\\\"typeProperty\\\\\\\\\\\\\\\": 0}, {\\\\\\\\\\\\\\\"column\\\\\\\\\\\\\\\": {\\\\\\\\\\\\\\\"type\\\\\\\\\\\\\\\": 2, \\\\\\\\\\\\\\\"details\\\\\\\\\\\\\\\": {\\\\\\\\\\\\\\\"selectedColumn\\\\\\\\\\\\\\\": \\\\\\\\\\\\\\\"age\\\\\\\\\\\\\\\"}}, \\\\\\\\\\\\\\\"typeProperty\\\\\\\\\\\\\\\": 2}, {\\\\\\\\\\\\\\\"column\\\\\\\\\\\\\\\": {\\\\\\\\\\\\\\\"type\\\\\\\\\\\\\\\": 2, \\\\\\\\\\\\\\\"details\\\\\\\\\\\\\\\": {\\\\\\\\\\\\\\\"selectedColumn\\\\\\\\\\\\\\\": \\\\\\\\\\\\\\\"workclass\\\\\\\\\\\\\\\"}}, \\\\\\\\\\\\\\\"typeProperty\\\\\\\\\\\\\\\": 0}, {\\\\\\\\\\\\\\\"column\\\\\\\\\\\\\\\": {\\\\\\\\\\\\\\\"type\\\\\\\\\\\\\\\": 2, \\\\\\\\\\\\\\\"details\\\\\\\\\\\\\\\": {\\\\\\\\\\\\\\\"selectedColumn\\\\\\\\\\\\\\\": \\\\\\\\\\\\\\\"fnlwgt\\\\\\\\\\\\\\\"}}, \\\\\\\\\\\\\\\"typeProperty\\\\\\\\\\\\\\\": 2}, {\\\\\\\\\\\\\\\"column\\\\\\\\\\\\\\\": {\\\\\\\\\\\\\\\"type\\\\\\\\\\\\\\\": 2, \\\\\\\\\\\\\\\"details\\\\\\\\\\\\\\\": {\\\\\\\\\\\\\\\"selectedColumn\\\\\\\\\\\\\\\": \\\\\\\\\\\\\\\"education\\\\\\\\\\\\\\\"}}, \\\\\\\\\\\\\\\"typeProperty\\\\\\\\\\\\\\\": 0}, {\\\\\\\\\\\\\\\"column\\\\\\\\\\\\\\\": {\\\\\\\\\\\\\\\"type\\\\\\\\\\\\\\\": 2, \\\\\\\\\\\\\\\"details\\\\\\\\\\\\\\\": {\\\\\\\\\\\\\\\"selectedColumn\\\\\\\\\\\\\\\": \\\\\\\\\\\\\\\"education-num\\\\\\\\\\\\\\\"}}, \\\\\\\\\\\\\\\"typeProperty\\\\\\\\\\\\\\\": 2}, {\\\\\\\\\\\\\\\"column\\\\\\\\\\\\\\\": {\\\\\\\\\\\\\\\"type\\\\\\\\\\\\\\\": 2, \\\\\\\\\\\\\\\"details\\\\\\\\\\\\\\\": {\\\\\\\\\\\\\\\"selectedColumn\\\\\\\\\\\\\\\": \\\\\\\\\\\\\\\"marital-status\\\\\\\\\\\\\\\"}}, \\\\\\\\\\\\\\\"typeProperty\\\\\\\\\\\\\\\": 0}, {\\\\\\\\\\\\\\\"column\\\\\\\\\\\\\\\": {\\\\\\\\\\\\\\\"type\\\\\\\\\\\\\\\": 2, \\\\\\\\\\\\\\\"details\\\\\\\\\\\\\\\": {\\\\\\\\\\\\\\\"selectedColumn\\\\\\\\\\\\\\\": \\\\\\\\\\\\\\\"occupation\\\\\\\\\\\\\\\"}}, \\\\\\\\\\\\\\\"typeProperty\\\\\\\\\\\\\\\": 0}, {\\\\\\\\\\\\\\\"column\\\\\\\\\\\\\\\": {\\\\\\\\\\\\\\\"type\\\\\\\\\\\\\\\": 2, \\\\\\\\\\\\\\\"details\\\\\\\\\\\\\\\": {\\\\\\\\\\\\\\\"selectedColumn\\\\\\\\\\\\\\\": \\\\\\\\\\\\\\\"relationship\\\\\\\\\\\\\\\"}}, \\\\\\\\\\\\\\\"typeProperty\\\\\\\\\\\\\\\": 0}, {\\\\\\\\\\\\\\\"column\\\\\\\\\\\\\\\": {\\\\\\\\\\\\\\\"type\\\\\\\\\\\\\\\": 2, \\\\\\\\\\\\\\\"details\\\\\\\\\\\\\\\": {\\\\\\\\\\\\\\\"selectedColumn\\\\\\\\\\\\\\\": \\\\\\\\\\\\\\\"race\\\\\\\\\\\\\\\"}}, \\\\\\\\\\\\\\\"typeProperty\\\\\\\\\\\\\\\": 0}, {\\\\\\\\\\\\\\\"column\\\\\\\\\\\\\\\": {\\\\\\\\\\\\\\\"type\\\\\\\\\\\\\\\": 2, \\\\\\\\\\\\\\\"details\\\\\\\\\\\\\\\": {\\\\\\\\\\\\\\\"selectedColumn\\\\\\\\\\\\\\\": \\\\\\\\\\\\\\\"sex\\\\\\\\\\\\\\\"}}, \\\\\\\\\\\\\\\"typeProperty\\\\\\\\\\\\\\\": 0}, {\\\\\\\\\\\\\\\"column\\\\\\\\\\\\\\\": {\\\\\\\\\\\\\\\"type\\\\\\\\\\\\\\\": 2, \\\\\\\\\\\\\\\"details\\\\\\\\\\\\\\\": {\\\\\\\\\\\\\\\"selectedColumn\\\\\\\\\\\\\\\": \\\\\\\\\\\\\\\"capital-gain\\\\\\\\\\\\\\\"}}, \\\\\\\\\\\\\\\"typeProperty\\\\\\\\\\\\\\\": 2}, {\\\\\\\\\\\\\\\"column\\\\\\\\\\\\\\\": {\\\\\\\\\\\\\\\"type\\\\\\\\\\\\\\\": 2, \\\\\\\\\\\\\\\"details\\\\\\\\\\\\\\\": {\\\\\\\\\\\\\\\"selectedColumn\\\\\\\\\\\\\\\": \\\\\\\\\\\\\\\"capital-loss\\\\\\\\\\\\\\\"}}, \\\\\\\\\\\\\\\"typeProperty\\\\\\\\\\\\\\\": 2}, {\\\\\\\\\\\\\\\"column\\\\\\\\\\\\\\\": {\\\\\\\\\\\\\\\"type\\\\\\\\\\\\\\\": 2, \\\\\\\\\\\\\\\"details\\\\\\\\\\\\\\\": {\\\\\\\\\\\\\\\"selectedColumn\\\\\\\\\\\\\\\": \\\\\\\\\\\\\\\"hours-per-week\\\\\\\\\\\\\\\"}}, \\\\\\\\\\\\\\\"typeProperty\\\\\\\\\\\\\\\": 2}, {\\\\\\\\\\\\\\\"column\\\\\\\\\\\\\\\": {\\\\\\\\\\\\\\\"type\\\\\\\\\\\\\\\": 2, \\\\\\\\\\\\\\\"details\\\\\\\\\\\\\\\": {\\\\\\\\\\\\\\\"selectedColumn\\\\\\\\\\\\\\\": \\\\\\\\\\\\\\\"native-country\\\\\\\\\\\\\\\"}}, \\\\\\\\\\\\\\\"typeProperty\\\\\\\\\\\\\\\": 0}, {\\\\\\\\\\\\\\\"column\\\\\\\\\\\\\\\": {\\\\\\\\\\\\\\\"type\\\\\\\\\\\\\\\": 2, \\\\\\\\\\\\\\\"details\\\\\\\\\\\\\\\": {\\\\\\\\\\\\\\\"selectedColumn\\\\\\\\\\\\\\\": \\\\\\\\\\\\\\\"class-label\\\\\\\\\\\\\\\"}}, \\\\\\\\\\\\\\\"typeProperty\\\\\\\\\\\\\\\": 0}]}, \\\\\\\\\\\\\\\"localData\\\\\\\\\\\\\\\": {}, \\\\\\\\\\\\\\\"isEnabled\\\\\\\\\\\\\\\": true, \\\\\\\\\\\\\\\"name\\\\\\\\\\\\\\\": null, \\\\\\\\\\\\\\\"annotation\\\\\\\\\\\\\\\": null}], \\\\\\\\\\\\\\\"inspectors\\\\\\\\\\\\\\\": [], \\\\\\\\\\\\\\\"meta\\\\\\\\\\\\\\\": {\\\\\\\\\\\\\\\"savedDatasetId\\\\\\\\\\\\\\\": \\\\\\\\\\\\\\\"e447788c-91b9-4e7e-aeac-7f9712814a3c\\\\\\\\\\\\\\\", \\\\\\\\\\\\\\\"datasetType\\\\\\\\\\\\\\\": \\\\\\\\\\\\\\\"tabular\\\\\\\\\\\\\\\", \\\\\\\\\\\\\\\"subscriptionId\\\\\\\\\\\\\\\": \\\\\\\\\\\\\\\"c8eb054b-91b3-425d-acbc-fe49c970c7c4\\\\\\\\\\\\\\\", \\\\\\\\\\\\\\\"workspaceId\\\\\\\\\\\\\\\": \\\\\\\\\\\\\\\"7a4724ad-aa7f-4974-909c-4782a918f841\\\\\\\\\\\\\\\", \\\\\\\\\\\\\\\"workspaceLocation\\\\\\\\\\\\\\\": \\\\\\\\\\\\\\\"eastus\\\\\\\\\\\\\\\"}}\\\\\\\", \\\\\\\"activities\\\\\\\": 0}\", \"EnableSubsampling\": \"False\", \"runTemplate\": \"AutoML\", \"azureml.runsource\": \"automl\", \"display_task_type\": \"classification\", \"dependencies_versions\": \"{\\\"azureml\\\": \\\"0.2.7\\\", \\\"azureml-widgets\\\": \\\"1.25.0\\\", \\\"azureml-train\\\": \\\"1.25.0\\\", \\\"azureml-train-restclients-hyperdrive\\\": \\\"1.25.0\\\", \\\"azureml-train-core\\\": \\\"1.25.0\\\", \\\"azureml-train-automl-client\\\": \\\"1.25.0\\\", \\\"azureml-telemetry\\\": \\\"1.25.0\\\", \\\"azureml-sdk\\\": \\\"1.25.0\\\", \\\"azureml-pipeline\\\": \\\"1.25.0\\\", \\\"azureml-pipeline-steps\\\": \\\"1.25.0\\\", \\\"azureml-pipeline-core\\\": \\\"1.25.0\\\", \\\"azureml-dataset-runtime\\\": \\\"1.25.0\\\", \\\"azureml-dataprep\\\": \\\"2.11.2\\\", \\\"azureml-dataprep-rslex\\\": \\\"1.2.3\\\", \\\"azureml-dataprep-native\\\": \\\"24.0.0\\\", \\\"azureml-core\\\": \\\"1.25.0\\\", \\\"azureml-automl-core\\\": \\\"1.25.0\\\"}\", \"_aml_system_scenario_identification\": \"Remote.Parent\", \"ClientType\": \"SDK\", \"environment_cpu_name\": \"AzureML-AutoML\", \"environment_cpu_label\": \"prod\", \"environment_gpu_name\": \"AzureML-AutoML-GPU\", \"environment_gpu_label\": \"prod\", \"root_attribution\": \"automl\", \"attribution\": \"AutoML\", \"Orchestrator\": \"AutoML\", \"CancelUri\": \"https://eastus.experiments.azureml.net/jasmine/v1.0/subscriptions/c8eb054b-91b3-425d-acbc-fe49c970c7c4/resourceGroups/udacityProject/providers/Microsoft.MachineLearningServices/workspaces/azProject3/experimentids/ee46afb5-f2d6-4d44-a70f-d8263fed4913/cancel/AutoML_756df04b-5af5-4597-9a92-cb4d8f8c6019\", \"ClientSdkVersion\": \"1.25.0\", \"snapshotId\": \"00000000-0000-0000-0000-000000000000\", \"SetupRunId\": \"AutoML_756df04b-5af5-4597-9a92-cb4d8f8c6019_setup\", \"SetupRunContainerId\": \"dcid.AutoML_756df04b-5af5-4597-9a92-cb4d8f8c6019_setup\", \"FeaturizationRunJsonPath\": \"featurizer_container.json\", \"FeaturizationRunId\": \"AutoML_756df04b-5af5-4597-9a92-cb4d8f8c6019_featurize\", \"ProblemInfoJsonString\": \"{\\\"dataset_num_categorical\\\": 0, \\\"is_sparse\\\": true, \\\"subsampling\\\": false, \\\"dataset_classes\\\": 2, \\\"dataset_features\\\": 117, \\\"dataset_samples\\\": 13678, \\\"single_frequency_class_detected\\\": false}\", \"ModelExplainRunId\": \"AutoML_756df04b-5af5-4597-9a92-cb4d8f8c6019_ModelExplain\"}, \"tags\": {\"model_explain_run\": \"best_run\", \"_aml_system_azureml.automlComponent\": \"AutoML\", \"pipeline_id\": \"\", \"score\": \"\", \"predicted_cost\": \"\", \"fit_time\": \"\", \"training_percent\": \"\", \"iteration\": \"\", \"run_preprocessor\": \"\", \"run_algorithm\": \"\", \"automl_best_child_run_id\": \"AutoML_756df04b-5af5-4597-9a92-cb4d8f8c6019_9\", \"model_explain_best_run_child_id\": \"AutoML_756df04b-5af5-4597-9a92-cb4d8f8c6019_9\"}, \"end_time_utc\": \"2021-04-02T22:39:09.777584Z\", \"status\": \"Completed\", \"log_files\": {}, \"log_groups\": [], \"run_duration\": \"0:31:07\", \"run_number\": \"1\", \"run_queued_details\": {\"status\": \"Completed\", \"details\": null}}, \"child_runs\": [{\"run_id\": \"AutoML_756df04b-5af5-4597-9a92-cb4d8f8c6019_0\", \"run_number\": 5, \"metric\": null, \"status\": \"Completed\", \"run_type\": \"azureml.scriptrun\", \"training_percent\": \"100\", \"start_time\": \"2021-04-02T22:22:02.271007Z\", \"end_time\": \"2021-04-02T22:23:22.283343Z\", \"created_time\": \"2021-04-02T22:21:41.280825Z\", \"created_time_dt\": \"2021-04-02T22:21:41.280825Z\", \"duration\": \"0:01:41\", \"iteration\": \"0\", \"goal\": \"accuracy_max\", \"run_name\": \"MaxAbsScaler, LightGBM\", \"run_properties\": \"copy=True\", \"primary_metric\": 0.85769981, \"best_metric\": 0.85769981}, {\"run_id\": \"AutoML_756df04b-5af5-4597-9a92-cb4d8f8c6019_1\", \"run_number\": 6, \"metric\": null, \"status\": \"Completed\", \"run_type\": \"azureml.scriptrun\", \"training_percent\": \"100\", \"start_time\": \"2021-04-02T22:23:39.489328Z\", \"end_time\": \"2021-04-02T22:25:04.980395Z\", \"created_time\": \"2021-04-02T22:23:24.343785Z\", \"created_time_dt\": \"2021-04-02T22:23:24.343785Z\", \"duration\": \"0:01:40\", \"iteration\": \"1\", \"goal\": \"accuracy_max\", \"run_name\": \"MaxAbsScaler, XGBoostClassifier\", \"run_properties\": \"copy=True\", \"primary_metric\": 0.85307018, \"best_metric\": 0.85769981}, {\"run_id\": \"AutoML_756df04b-5af5-4597-9a92-cb4d8f8c6019_2\", \"run_number\": 7, \"metric\": null, \"status\": \"Completed\", \"run_type\": \"azureml.scriptrun\", \"training_percent\": \"100\", \"start_time\": \"2021-04-02T22:25:24.521144Z\", \"end_time\": \"2021-04-02T22:26:54.260227Z\", \"created_time\": \"2021-04-02T22:25:08.264437Z\", \"created_time_dt\": \"2021-04-02T22:25:08.264437Z\", \"duration\": \"0:01:45\", \"iteration\": \"2\", \"goal\": \"accuracy_max\", \"run_name\": \"MaxAbsScaler, RandomForest\", \"run_properties\": \"copy=True\", \"primary_metric\": 0.82443957, \"best_metric\": 0.85769981}, {\"run_id\": \"AutoML_756df04b-5af5-4597-9a92-cb4d8f8c6019_3\", \"run_number\": 8, \"metric\": null, \"status\": \"Completed\", \"run_type\": \"azureml.scriptrun\", \"training_percent\": \"100\", \"start_time\": \"2021-04-02T22:27:09.007586Z\", \"end_time\": \"2021-04-02T22:28:44.307749Z\", \"created_time\": \"2021-04-02T22:26:58.359074Z\", \"created_time_dt\": \"2021-04-02T22:26:58.359074Z\", \"duration\": \"0:01:45\", \"iteration\": \"3\", \"goal\": \"accuracy_max\", \"run_name\": \"MaxAbsScaler, RandomForest\", \"run_properties\": \"copy=True\", \"primary_metric\": 0.74890351, \"best_metric\": 0.85769981}, {\"run_id\": \"AutoML_756df04b-5af5-4597-9a92-cb4d8f8c6019_4\", \"run_number\": 9, \"metric\": null, \"status\": \"Completed\", \"run_type\": \"azureml.scriptrun\", \"training_percent\": \"100\", \"start_time\": \"2021-04-02T22:29:01.443712Z\", \"end_time\": \"2021-04-02T22:30:28.744597Z\", \"created_time\": \"2021-04-02T22:28:47.082218Z\", \"created_time_dt\": \"2021-04-02T22:28:47.082218Z\", \"duration\": \"0:01:41\", \"iteration\": \"4\", \"goal\": \"accuracy_max\", \"run_name\": \"MaxAbsScaler, RandomForest\", \"run_properties\": \"copy=True\", \"primary_metric\": 0.74573587, \"best_metric\": 0.85769981}, {\"run_id\": \"AutoML_756df04b-5af5-4597-9a92-cb4d8f8c6019_5\", \"run_number\": 10, \"metric\": null, \"status\": \"Completed\", \"run_type\": \"azureml.scriptrun\", \"training_percent\": \"100\", \"start_time\": \"2021-04-02T22:30:53.676484Z\", \"end_time\": \"2021-04-02T22:32:07.586558Z\", \"created_time\": \"2021-04-02T22:30:33.018365Z\", \"created_time_dt\": \"2021-04-02T22:30:33.018365Z\", \"duration\": \"0:01:34\", \"iteration\": \"5\", \"goal\": \"accuracy_max\", \"run_name\": \"MaxAbsScaler, RandomForest\", \"run_properties\": \"copy=True\", \"primary_metric\": 0.73172515, \"best_metric\": 0.85769981}, {\"run_id\": \"AutoML_756df04b-5af5-4597-9a92-cb4d8f8c6019_6\", \"run_number\": 11, \"metric\": null, \"status\": \"Completed\", \"run_type\": \"azureml.scriptrun\", \"training_percent\": \"100\", \"start_time\": \"2021-04-02T22:32:27.137044Z\", \"end_time\": \"2021-04-02T22:33:46.600631Z\", \"created_time\": \"2021-04-02T22:32:09.619941Z\", \"created_time_dt\": \"2021-04-02T22:32:09.619941Z\", \"duration\": \"0:01:36\", \"iteration\": \"6\", \"goal\": \"accuracy_max\", \"run_name\": \"SparseNormalizer, XGBoostClassifier\", \"run_properties\": \"<azureml.automl.runtime.shared.model_wrappers.SparseNormalizer object at 0x7f5f70083898\", \"primary_metric\": 0.83528265, \"best_metric\": 0.85769981}, {\"run_id\": \"AutoML_756df04b-5af5-4597-9a92-cb4d8f8c6019_7\", \"run_number\": 12, \"metric\": null, \"status\": \"Completed\", \"run_type\": \"azureml.scriptrun\", \"training_percent\": \"100\", \"start_time\": \"2021-04-02T22:34:02.875246Z\", \"end_time\": \"2021-04-02T22:35:54.401873Z\", \"created_time\": \"2021-04-02T22:33:48.915248Z\", \"created_time_dt\": \"2021-04-02T22:33:48.915248Z\", \"duration\": \"0:02:05\", \"iteration\": \"7\", \"goal\": \"accuracy_max\", \"run_name\": \"MaxAbsScaler, RandomForest\", \"run_properties\": \"copy=True\", \"primary_metric\": 0.76023392, \"best_metric\": 0.85769981}, {\"run_id\": \"AutoML_756df04b-5af5-4597-9a92-cb4d8f8c6019_8\", \"run_number\": 13, \"metric\": null, \"status\": \"Completed\", \"run_type\": \"azureml.scriptrun\", \"training_percent\": \"100\", \"start_time\": \"2021-04-02T22:36:14.070003Z\", \"end_time\": \"2021-04-02T22:37:23.966056Z\", \"created_time\": \"2021-04-02T22:35:57.940631Z\", \"created_time_dt\": \"2021-04-02T22:35:57.940631Z\", \"duration\": \"0:01:26\", \"iteration\": \"8\", \"goal\": \"accuracy_max\", \"run_name\": \"SparseNormalizer, LightGBM\", \"run_properties\": \"<azureml.automl.runtime.shared.model_wrappers.SparseNormalizer object at 0x7ffae03a8860\", \"primary_metric\": 0.79495614, \"best_metric\": 0.85769981}, {\"run_id\": \"AutoML_756df04b-5af5-4597-9a92-cb4d8f8c6019_9\", \"run_number\": 14, \"metric\": null, \"status\": \"Completed\", \"run_type\": \"azureml.scriptrun\", \"training_percent\": \"100\", \"start_time\": \"2021-04-02T22:37:38.439933Z\", \"end_time\": \"2021-04-02T22:39:07.103253Z\", \"created_time\": \"2021-04-02T22:37:25.171696Z\", \"created_time_dt\": \"2021-04-02T22:37:25.171696Z\", \"duration\": \"0:01:41\", \"iteration\": \"9\", \"goal\": \"accuracy_max\", \"run_name\": \"VotingEnsemble\", \"run_properties\": \"classification_labels=None,\\n                              estimators=[('0',\\n                                           Pipeline(memory=None,\\n                                                    steps=[('maxabsscaler',\\n                                                            MaxAbsScaler(copy=True\", \"primary_metric\": 0.85855263, \"best_metric\": 0.85855263}], \"children_metrics\": {\"categories\": [0], \"series\": {\"matthews_correlation\": [{\"categories\": [\"0\", \"1\", \"2\", \"3\", \"4\", \"5\", \"6\", \"7\", \"8\", \"9\"], \"mode\": \"markers\", \"name\": \"matthews_correlation\", \"stepped\": false, \"type\": \"scatter\", \"data\": [0.6080228404494435, 0.5885765500658866, 0.4922139927401174, 0.09026755644994655, 0.49613552609832384, 0.4647597829131033, 0.5403356229128766, 0.21696756048287755, 0.4041574184747896, 0.6053172479099813]}, {\"categories\": [\"0\", \"1\", \"2\", \"3\", \"4\", \"5\", \"6\", \"7\", \"8\", \"9\"], \"mode\": \"lines\", \"name\": \"matthews_correlation_max\", \"stepped\": true, \"type\": \"scatter\", \"data\": [0.6080228404494435, 0.6080228404494435, 0.6080228404494435, 0.6080228404494435, 0.6080228404494435, 0.6080228404494435, 0.6080228404494435, 0.6080228404494435, 0.6080228404494435, 0.6080228404494435]}], \"norm_macro_recall\": [{\"categories\": [\"0\", \"1\", \"2\", \"3\", \"4\", \"5\", \"6\", \"7\", \"8\", \"9\"], \"mode\": \"markers\", \"name\": \"norm_macro_recall\", \"stepped\": false, \"type\": \"scatter\", \"data\": [0.5661088414303131, 0.5229575165312951, 0.39510086094650726, 0.022244182855365224, 0.5637164917372991, 0.528485367239823, 0.4926982715358263, 0.06772246093652574, 0.34004888363459607, 0.541883280191788]}, {\"categories\": [\"0\", \"1\", \"2\", \"3\", \"4\", \"5\", \"6\", \"7\", \"8\", \"9\"], \"mode\": \"lines\", \"name\": \"norm_macro_recall_max\", \"stepped\": true, \"type\": \"scatter\", \"data\": [0.5661088414303131, 0.5661088414303131, 0.5661088414303131, 0.5661088414303131, 0.5661088414303131, 0.5661088414303131, 0.5661088414303131, 0.5661088414303131, 0.5661088414303131, 0.5661088414303131]}], \"AUC_macro\": [{\"categories\": [\"0\", \"1\", \"2\", \"3\", \"4\", \"5\", \"6\", \"7\", \"8\", \"9\"], \"mode\": \"markers\", \"name\": \"AUC_macro\", \"stepped\": false, \"type\": \"scatter\", \"data\": [0.9164655822240008, 0.9119531775197566, 0.8853572853189612, 0.8529708340522105, 0.8733044632389708, 0.8596833901995079, 0.8876740814572154, 0.8611198397310881, 0.8468182200875946, 0.9150593109469275]}, {\"categories\": [\"0\", \"1\", \"2\", \"3\", \"4\", \"5\", \"6\", \"7\", \"8\", \"9\"], \"mode\": \"lines\", \"name\": \"AUC_macro_max\", \"stepped\": true, \"type\": \"scatter\", \"data\": [0.9164655822240008, 0.9164655822240008, 0.9164655822240008, 0.9164655822240008, 0.9164655822240008, 0.9164655822240008, 0.9164655822240008, 0.9164655822240008, 0.9164655822240008, 0.9164655822240008]}], \"AUC_weighted\": [{\"categories\": [\"0\", \"1\", \"2\", \"3\", \"4\", \"5\", \"6\", \"7\", \"8\", \"9\"], \"mode\": \"markers\", \"name\": \"AUC_weighted\", \"stepped\": false, \"type\": \"scatter\", \"data\": [0.9164655822240007, 0.9119531775197567, 0.8853572853189612, 0.8529708340522105, 0.8733044632389707, 0.8596833901995079, 0.8876740814572154, 0.8611198397310881, 0.8468182200875946, 0.9150593109469273]}, {\"categories\": [\"0\", \"1\", \"2\", \"3\", \"4\", \"5\", \"6\", \"7\", \"8\", \"9\"], \"mode\": \"lines\", \"name\": \"AUC_weighted_max\", \"stepped\": true, \"type\": \"scatter\", \"data\": [0.9164655822240007, 0.9164655822240007, 0.9164655822240007, 0.9164655822240007, 0.9164655822240007, 0.9164655822240007, 0.9164655822240007, 0.9164655822240007, 0.9164655822240007, 0.9164655822240007]}], \"precision_score_micro\": [{\"categories\": [\"0\", \"1\", \"2\", \"3\", \"4\", \"5\", \"6\", \"7\", \"8\", \"9\"], \"mode\": \"markers\", \"name\": \"precision_score_micro\", \"stepped\": false, \"type\": \"scatter\", \"data\": [0.8576998050682262, 0.8530701754385964, 0.8244395711500975, 0.7489035087719298, 0.7457358674463936, 0.7317251461988304, 0.8352826510721248, 0.7602339181286549, 0.7949561403508772, 0.8585526315789475]}, {\"categories\": [\"0\", \"1\", \"2\", \"3\", \"4\", \"5\", \"6\", \"7\", \"8\", \"9\"], \"mode\": \"lines\", \"name\": \"precision_score_micro_max\", \"stepped\": true, \"type\": \"scatter\", \"data\": [0.8576998050682262, 0.8576998050682262, 0.8576998050682262, 0.8576998050682262, 0.8576998050682262, 0.8576998050682262, 0.8576998050682262, 0.8576998050682262, 0.8576998050682262, 0.8585526315789475]}], \"recall_score_macro\": [{\"categories\": [\"0\", \"1\", \"2\", \"3\", \"4\", \"5\", \"6\", \"7\", \"8\", \"9\"], \"mode\": \"markers\", \"name\": \"recall_score_macro\", \"stepped\": false, \"type\": \"scatter\", \"data\": [0.7830544207151565, 0.7614787582656476, 0.6975504304732537, 0.5111220914276826, 0.7818582458686496, 0.7642426836199115, 0.7463491357679132, 0.533861230468263, 0.670024441817298, 0.7709416400958938]}, {\"categories\": [\"0\", \"1\", \"2\", \"3\", \"4\", \"5\", \"6\", \"7\", \"8\", \"9\"], \"mode\": \"lines\", \"name\": \"recall_score_macro_max\", \"stepped\": true, \"type\": \"scatter\", \"data\": [0.7830544207151565, 0.7830544207151565, 0.7830544207151565, 0.7830544207151565, 0.7830544207151565, 0.7830544207151565, 0.7830544207151565, 0.7830544207151565, 0.7830544207151565, 0.7830544207151565]}], \"log_loss\": [{\"categories\": [\"0\", \"1\", \"2\", \"3\", \"4\", \"5\", \"6\", \"7\", \"8\", \"9\"], \"mode\": \"markers\", \"name\": \"log_loss\", \"stepped\": false, \"type\": \"scatter\", \"data\": [0.3076335884227355, 0.3183356558021852, 0.38254372051752394, 0.44905571686044876, 0.5099199595065316, 0.5151831965275457, 0.3608845408945298, 0.43612624521506244, 0.4129337169135055, 0.3238739397676635]}, {\"categories\": [\"0\", \"1\", \"2\", \"3\", \"4\", \"5\", \"6\", \"7\", \"8\", \"9\"], \"mode\": \"lines\", \"name\": \"log_loss_min\", \"stepped\": true, \"type\": \"scatter\", \"data\": [0.3076335884227355, 0.3076335884227355, 0.3076335884227355, 0.3076335884227355, 0.3076335884227355, 0.3076335884227355, 0.3076335884227355, 0.3076335884227355, 0.3076335884227355, 0.3076335884227355]}], \"recall_score_weighted\": [{\"categories\": [\"0\", \"1\", \"2\", \"3\", \"4\", \"5\", \"6\", \"7\", \"8\", \"9\"], \"mode\": \"markers\", \"name\": \"recall_score_weighted\", \"stepped\": false, \"type\": \"scatter\", \"data\": [0.8576998050682262, 0.8530701754385964, 0.8244395711500975, 0.7489035087719298, 0.7457358674463936, 0.7317251461988304, 0.8352826510721248, 0.7602339181286549, 0.7949561403508772, 0.8585526315789475]}, {\"categories\": [\"0\", \"1\", \"2\", \"3\", \"4\", \"5\", \"6\", \"7\", \"8\", \"9\"], \"mode\": \"lines\", \"name\": \"recall_score_weighted_max\", \"stepped\": true, \"type\": \"scatter\", \"data\": [0.8576998050682262, 0.8576998050682262, 0.8576998050682262, 0.8576998050682262, 0.8576998050682262, 0.8576998050682262, 0.8576998050682262, 0.8576998050682262, 0.8576998050682262, 0.8585526315789475]}], \"average_precision_score_macro\": [{\"categories\": [\"0\", \"1\", \"2\", \"3\", \"4\", \"5\", \"6\", \"7\", \"8\", \"9\"], \"mode\": \"markers\", \"name\": \"average_precision_score_macro\", \"stepped\": false, \"type\": \"scatter\", \"data\": [0.8915977203642074, 0.8857092197747839, 0.8496364678999587, 0.7940631336474095, 0.832309125532782, 0.8138208884687795, 0.8539033839292203, 0.8140175796511357, 0.7929410328006578, 0.8899641950617586]}, {\"categories\": [\"0\", \"1\", \"2\", \"3\", \"4\", \"5\", \"6\", \"7\", \"8\", \"9\"], \"mode\": \"lines\", \"name\": \"average_precision_score_macro_max\", \"stepped\": true, \"type\": \"scatter\", \"data\": [0.8915977203642074, 0.8915977203642074, 0.8915977203642074, 0.8915977203642074, 0.8915977203642074, 0.8915977203642074, 0.8915977203642074, 0.8915977203642074, 0.8915977203642074, 0.8915977203642074]}], \"accuracy\": [{\"categories\": [\"0\", \"1\", \"2\", \"3\", \"4\", \"5\", \"6\", \"7\", \"8\", \"9\"], \"mode\": \"markers\", \"name\": \"accuracy\", \"stepped\": false, \"type\": \"scatter\", \"data\": [0.8576998050682262, 0.8530701754385964, 0.8244395711500975, 0.7489035087719298, 0.7457358674463936, 0.7317251461988304, 0.8352826510721248, 0.7602339181286549, 0.7949561403508772, 0.8585526315789475]}, {\"categories\": [\"0\", \"1\", \"2\", \"3\", \"4\", \"5\", \"6\", \"7\", \"8\", \"9\"], \"mode\": \"lines\", \"name\": \"accuracy_max\", \"stepped\": true, \"type\": \"scatter\", \"data\": [0.8576998050682262, 0.8576998050682262, 0.8576998050682262, 0.8576998050682262, 0.8576998050682262, 0.8576998050682262, 0.8576998050682262, 0.8576998050682262, 0.8576998050682262, 0.8585526315789475]}], \"precision_score_weighted\": [{\"categories\": [\"0\", \"1\", \"2\", \"3\", \"4\", \"5\", \"6\", \"7\", \"8\", \"9\"], \"mode\": \"markers\", \"name\": \"precision_score_weighted\", \"stepped\": false, \"type\": \"scatter\", \"data\": [0.8526846122798574, 0.8482209249699947, 0.8193634699633652, 0.7156704619081721, 0.823688855914563, 0.8107860071714267, 0.8278064649498372, 0.8067489190171132, 0.7797507977765806, 0.8541802118856364]}, {\"categories\": [\"0\", \"1\", \"2\", \"3\", \"4\", \"5\", \"6\", \"7\", \"8\", \"9\"], \"mode\": \"lines\", \"name\": \"precision_score_weighted_max\", \"stepped\": true, \"type\": \"scatter\", \"data\": [0.8526846122798574, 0.8526846122798574, 0.8526846122798574, 0.8526846122798574, 0.8526846122798574, 0.8526846122798574, 0.8526846122798574, 0.8526846122798574, 0.8526846122798574, 0.8541802118856364]}], \"f1_score_micro\": [{\"categories\": [\"0\", \"1\", \"2\", \"3\", \"4\", \"5\", \"6\", \"7\", \"8\", \"9\"], \"mode\": \"markers\", \"name\": \"f1_score_micro\", \"stepped\": false, \"type\": \"scatter\", \"data\": [0.8576998050682262, 0.8530701754385964, 0.8244395711500975, 0.7489035087719298, 0.7457358674463936, 0.7317251461988303, 0.8352826510721248, 0.7602339181286549, 0.7949561403508772, 0.8585526315789475]}, {\"categories\": [\"0\", \"1\", \"2\", \"3\", \"4\", \"5\", \"6\", \"7\", \"8\", \"9\"], \"mode\": \"lines\", \"name\": \"f1_score_micro_max\", \"stepped\": true, \"type\": \"scatter\", \"data\": [0.8576998050682262, 0.8576998050682262, 0.8576998050682262, 0.8576998050682262, 0.8576998050682262, 0.8576998050682262, 0.8576998050682262, 0.8576998050682262, 0.8576998050682262, 0.8585526315789475]}], \"average_precision_score_micro\": [{\"categories\": [\"0\", \"1\", \"2\", \"3\", \"4\", \"5\", \"6\", \"7\", \"8\", \"9\"], \"mode\": \"markers\", \"name\": \"average_precision_score_micro\", \"stepped\": false, \"type\": \"scatter\", \"data\": [0.9434003593005187, 0.9397177106081305, 0.9154405655727634, 0.8847603097582737, 0.8684420940915127, 0.8578292703037995, 0.9225465063460173, 0.8899182221106301, 0.895813526331389, 0.9402276679164729]}, {\"categories\": [\"0\", \"1\", \"2\", \"3\", \"4\", \"5\", \"6\", \"7\", \"8\", \"9\"], \"mode\": \"lines\", \"name\": \"average_precision_score_micro_max\", \"stepped\": true, \"type\": \"scatter\", \"data\": [0.9434003593005187, 0.9434003593005187, 0.9434003593005187, 0.9434003593005187, 0.9434003593005187, 0.9434003593005187, 0.9434003593005187, 0.9434003593005187, 0.9434003593005187, 0.9434003593005187]}], \"precision_score_macro\": [{\"categories\": [\"0\", \"1\", \"2\", \"3\", \"4\", \"5\", \"6\", \"7\", \"8\", \"9\"], \"mode\": \"markers\", \"name\": \"precision_score_macro\", \"stepped\": false, \"type\": \"scatter\", \"data\": [0.8265342645590921, 0.8312564265396261, 0.8073876869292619, 0.6896053337802165, 0.7183514436151547, 0.7043750346245429, 0.7963186034880626, 0.853320103282381, 0.7402177332313503, 0.8381331975190719]}, {\"categories\": [\"0\", \"1\", \"2\", \"3\", \"4\", \"5\", \"6\", \"7\", \"8\", \"9\"], \"mode\": \"lines\", \"name\": \"precision_score_macro_max\", \"stepped\": true, \"type\": \"scatter\", \"data\": [0.8265342645590921, 0.8312564265396261, 0.8312564265396261, 0.8312564265396261, 0.8312564265396261, 0.8312564265396261, 0.8312564265396261, 0.853320103282381, 0.853320103282381, 0.853320103282381]}], \"weighted_accuracy\": [{\"categories\": [\"0\", \"1\", \"2\", \"3\", \"4\", \"5\", \"6\", \"7\", \"8\", \"9\"], \"mode\": \"markers\", \"name\": \"weighted_accuracy\", \"stepped\": false, \"type\": \"scatter\", \"data\": [0.9036667288189468, 0.9094943627731754, 0.9025500963823244, 0.8953259282693553, 0.7236155321616266, 0.7118194944864499, 0.8900566982519501, 0.8995901300415445, 0.8718430505822763, 0.9125327168584842]}, {\"categories\": [\"0\", \"1\", \"2\", \"3\", \"4\", \"5\", \"6\", \"7\", \"8\", \"9\"], \"mode\": \"lines\", \"name\": \"weighted_accuracy_max\", \"stepped\": true, \"type\": \"scatter\", \"data\": [0.9036667288189468, 0.9094943627731754, 0.9094943627731754, 0.9094943627731754, 0.9094943627731754, 0.9094943627731754, 0.9094943627731754, 0.9094943627731754, 0.9094943627731754, 0.9125327168584842]}], \"average_precision_score_weighted\": [{\"categories\": [\"0\", \"1\", \"2\", \"3\", \"4\", \"5\", \"6\", \"7\", \"8\", \"9\"], \"mode\": \"markers\", \"name\": \"average_precision_score_weighted\", \"stepped\": false, \"type\": \"scatter\", \"data\": [0.9293011651377022, 0.9256329514367744, 0.901899787958484, 0.8674572097314778, 0.891148267764018, 0.8786760910756751, 0.9035621535401476, 0.880232876538437, 0.8662763224226816, 0.928270335961637]}, {\"categories\": [\"0\", \"1\", \"2\", \"3\", \"4\", \"5\", \"6\", \"7\", \"8\", \"9\"], \"mode\": \"lines\", \"name\": \"average_precision_score_weighted_max\", \"stepped\": true, \"type\": \"scatter\", \"data\": [0.9293011651377022, 0.9293011651377022, 0.9293011651377022, 0.9293011651377022, 0.9293011651377022, 0.9293011651377022, 0.9293011651377022, 0.9293011651377022, 0.9293011651377022, 0.9293011651377022]}], \"recall_score_micro\": [{\"categories\": [\"0\", \"1\", \"2\", \"3\", \"4\", \"5\", \"6\", \"7\", \"8\", \"9\"], \"mode\": \"markers\", \"name\": \"recall_score_micro\", \"stepped\": false, \"type\": \"scatter\", \"data\": [0.8576998050682262, 0.8530701754385964, 0.8244395711500975, 0.7489035087719298, 0.7457358674463936, 0.7317251461988304, 0.8352826510721248, 0.7602339181286549, 0.7949561403508772, 0.8585526315789475]}, {\"categories\": [\"0\", \"1\", \"2\", \"3\", \"4\", \"5\", \"6\", \"7\", \"8\", \"9\"], \"mode\": \"lines\", \"name\": \"recall_score_micro_max\", \"stepped\": true, \"type\": \"scatter\", \"data\": [0.8576998050682262, 0.8576998050682262, 0.8576998050682262, 0.8576998050682262, 0.8576998050682262, 0.8576998050682262, 0.8576998050682262, 0.8576998050682262, 0.8576998050682262, 0.8585526315789475]}], \"balanced_accuracy\": [{\"categories\": [\"0\", \"1\", \"2\", \"3\", \"4\", \"5\", \"6\", \"7\", \"8\", \"9\"], \"mode\": \"markers\", \"name\": \"balanced_accuracy\", \"stepped\": false, \"type\": \"scatter\", \"data\": [0.7830544207151565, 0.7614787582656476, 0.6975504304732537, 0.5111220914276826, 0.7818582458686496, 0.7642426836199115, 0.7463491357679132, 0.533861230468263, 0.670024441817298, 0.7709416400958938]}, {\"categories\": [\"0\", \"1\", \"2\", \"3\", \"4\", \"5\", \"6\", \"7\", \"8\", \"9\"], \"mode\": \"lines\", \"name\": \"balanced_accuracy_max\", \"stepped\": true, \"type\": \"scatter\", \"data\": [0.7830544207151565, 0.7830544207151565, 0.7830544207151565, 0.7830544207151565, 0.7830544207151565, 0.7830544207151565, 0.7830544207151565, 0.7830544207151565, 0.7830544207151565, 0.7830544207151565]}], \"f1_score_weighted\": [{\"categories\": [\"0\", \"1\", \"2\", \"3\", \"4\", \"5\", \"6\", \"7\", \"8\", \"9\"], \"mode\": \"markers\", \"name\": \"f1_score_weighted\", \"stepped\": false, \"type\": \"scatter\", \"data\": [0.852636731537812, 0.844466570424944, 0.8054772939076996, 0.6471263031442954, 0.7612553764637248, 0.7481241360008527, 0.827713013915193, 0.6732123478401605, 0.7777039264147002, 0.8507542770696367]}, {\"categories\": [\"0\", \"1\", \"2\", \"3\", \"4\", \"5\", \"6\", \"7\", \"8\", \"9\"], \"mode\": \"lines\", \"name\": \"f1_score_weighted_max\", \"stepped\": true, \"type\": \"scatter\", \"data\": [0.852636731537812, 0.852636731537812, 0.852636731537812, 0.852636731537812, 0.852636731537812, 0.852636731537812, 0.852636731537812, 0.852636731537812, 0.852636731537812, 0.852636731537812]}], \"AUC_micro\": [{\"categories\": [\"0\", \"1\", \"2\", \"3\", \"4\", \"5\", \"6\", \"7\", \"8\", \"9\"], \"mode\": \"markers\", \"name\": \"AUC_micro\", \"stepped\": false, \"type\": \"scatter\", \"data\": [0.9411466437678829, 0.937154496611493, 0.9126430372450782, 0.8784455045997058, 0.860475009048368, 0.8482938215319814, 0.9215080779841092, 0.8822968053560638, 0.8915271650536347, 0.9381512420488356]}, {\"categories\": [\"0\", \"1\", \"2\", \"3\", \"4\", \"5\", \"6\", \"7\", \"8\", \"9\"], \"mode\": \"lines\", \"name\": \"AUC_micro_max\", \"stepped\": true, \"type\": \"scatter\", \"data\": [0.9411466437678829, 0.9411466437678829, 0.9411466437678829, 0.9411466437678829, 0.9411466437678829, 0.9411466437678829, 0.9411466437678829, 0.9411466437678829, 0.9411466437678829, 0.9411466437678829]}], \"f1_score_macro\": [{\"categories\": [\"0\", \"1\", \"2\", \"3\", \"4\", \"5\", \"6\", \"7\", \"8\", \"9\"], \"mode\": \"markers\", \"name\": \"f1_score_macro\", \"stepped\": false, \"type\": \"scatter\", \"data\": [0.8006623171142401, 0.7862084718337692, 0.7247684158907511, 0.4494354325769918, 0.7191844521242645, 0.7039489341948664, 0.7651448942665361, 0.49480098103510284, 0.6893776681501973, 0.7953212869179835]}, {\"categories\": [\"0\", \"1\", \"2\", \"3\", \"4\", \"5\", \"6\", \"7\", \"8\", \"9\"], \"mode\": \"lines\", \"name\": \"f1_score_macro_max\", \"stepped\": true, \"type\": \"scatter\", \"data\": [0.8006623171142401, 0.8006623171142401, 0.8006623171142401, 0.8006623171142401, 0.8006623171142401, 0.8006623171142401, 0.8006623171142401, 0.8006623171142401, 0.8006623171142401, 0.8006623171142401]}]}, \"metricName\": null, \"primaryMetricName\": \"accuracy\", \"showLegend\": false}, \"run_metrics\": [{\"name\": \"experiment_status\", \"run_id\": \"AutoML_756df04b-5af5-4597-9a92-cb4d8f8c6019\", \"categories\": [0, 1, 2, 3, 4, 5, 6, 7, 8, 9, 10, 11, 12, 13], \"series\": [{\"data\": [\"DatasetEvaluation\", \"FeaturesGeneration\", \"DatasetFeaturization\", \"DatasetFeaturizationCompleted\", \"DatasetCrossValidationSplit\", \"ModelSelection\", \"BestRunExplainModel\", \"ModelExplanationDataSetSetup\", \"PickSurrogateModel\", \"EngineeredFeatureExplanations\", \"EngineeredFeatureExplanations\", \"RawFeaturesExplanations\", \"RawFeaturesExplanations\", \"BestRunExplainModel\"]}]}, {\"name\": \"experiment_status_description\", \"run_id\": \"AutoML_756df04b-5af5-4597-9a92-cb4d8f8c6019\", \"categories\": [0, 1, 2, 3, 4, 5, 6, 7, 8, 9, 10, 11, 12, 13], \"series\": [{\"data\": [\"Gathering dataset statistics.\", \"Generating features for the dataset.\", \"Beginning to fit featurizers and featurize the dataset.\", \"Completed fit featurizers and featurizing the dataset.\", \"Generating individually featurized CV splits.\", \"Beginning model selection.\", \"Best run model explanations started\", \"Model explanations data setup completed\", \"Choosing LightGBM as the surrogate model for explanations\", \"Computation of engineered features started\", \"Computation of engineered features completed\", \"Computation of raw features started\", \"Computation of raw features completed\", \"Best run model explanations completed\"]}]}, {\"name\": \"recall_score_macro\", \"run_id\": \"AutoML_756df04b-5af5-4597-9a92-cb4d8f8c6019\", \"categories\": [0], \"series\": [{\"data\": [0.7709416400958938]}]}, {\"name\": \"average_precision_score_macro\", \"run_id\": \"AutoML_756df04b-5af5-4597-9a92-cb4d8f8c6019\", \"categories\": [0], \"series\": [{\"data\": [0.8899641950617586]}]}, {\"name\": \"recall_score_weighted\", \"run_id\": \"AutoML_756df04b-5af5-4597-9a92-cb4d8f8c6019\", \"categories\": [0], \"series\": [{\"data\": [0.8585526315789475]}]}, {\"name\": \"AUC_micro\", \"run_id\": \"AutoML_756df04b-5af5-4597-9a92-cb4d8f8c6019\", \"categories\": [0], \"series\": [{\"data\": [0.9381512420488356]}]}, {\"name\": \"f1_score_micro\", \"run_id\": \"AutoML_756df04b-5af5-4597-9a92-cb4d8f8c6019\", \"categories\": [0], \"series\": [{\"data\": [0.8585526315789475]}]}, {\"name\": \"average_precision_score_micro\", \"run_id\": \"AutoML_756df04b-5af5-4597-9a92-cb4d8f8c6019\", \"categories\": [0], \"series\": [{\"data\": [0.9402276679164729]}]}, {\"name\": \"f1_score_macro\", \"run_id\": \"AutoML_756df04b-5af5-4597-9a92-cb4d8f8c6019\", \"categories\": [0], \"series\": [{\"data\": [0.7953212869179835]}]}, {\"name\": \"norm_macro_recall\", \"run_id\": \"AutoML_756df04b-5af5-4597-9a92-cb4d8f8c6019\", \"categories\": [0], \"series\": [{\"data\": [0.541883280191788]}]}, {\"name\": \"average_precision_score_weighted\", \"run_id\": \"AutoML_756df04b-5af5-4597-9a92-cb4d8f8c6019\", \"categories\": [0], \"series\": [{\"data\": [0.928270335961637]}]}, {\"name\": \"recall_score_micro\", \"run_id\": \"AutoML_756df04b-5af5-4597-9a92-cb4d8f8c6019\", \"categories\": [0], \"series\": [{\"data\": [0.8585526315789475]}]}, {\"name\": \"matthews_correlation\", \"run_id\": \"AutoML_756df04b-5af5-4597-9a92-cb4d8f8c6019\", \"categories\": [0], \"series\": [{\"data\": [0.6053172479099813]}]}, {\"name\": \"weighted_accuracy\", \"run_id\": \"AutoML_756df04b-5af5-4597-9a92-cb4d8f8c6019\", \"categories\": [0], \"series\": [{\"data\": [0.9125327168584842]}]}, {\"name\": \"f1_score_weighted\", \"run_id\": \"AutoML_756df04b-5af5-4597-9a92-cb4d8f8c6019\", \"categories\": [0], \"series\": [{\"data\": [0.8507542770696367]}]}, {\"name\": \"AUC_macro\", \"run_id\": \"AutoML_756df04b-5af5-4597-9a92-cb4d8f8c6019\", \"categories\": [0], \"series\": [{\"data\": [0.9150593109469275]}]}, {\"name\": \"accuracy\", \"run_id\": \"AutoML_756df04b-5af5-4597-9a92-cb4d8f8c6019\", \"categories\": [0], \"series\": [{\"data\": [0.8585526315789475]}]}, {\"name\": \"precision_score_macro\", \"run_id\": \"AutoML_756df04b-5af5-4597-9a92-cb4d8f8c6019\", \"categories\": [0], \"series\": [{\"data\": [0.8381331975190719]}]}, {\"name\": \"balanced_accuracy\", \"run_id\": \"AutoML_756df04b-5af5-4597-9a92-cb4d8f8c6019\", \"categories\": [0], \"series\": [{\"data\": [0.7709416400958938]}]}, {\"name\": \"precision_score_weighted\", \"run_id\": \"AutoML_756df04b-5af5-4597-9a92-cb4d8f8c6019\", \"categories\": [0], \"series\": [{\"data\": [0.8541802118856364]}]}, {\"name\": \"AUC_weighted\", \"run_id\": \"AutoML_756df04b-5af5-4597-9a92-cb4d8f8c6019\", \"categories\": [0], \"series\": [{\"data\": [0.9150593109469273]}]}, {\"name\": \"precision_score_micro\", \"run_id\": \"AutoML_756df04b-5af5-4597-9a92-cb4d8f8c6019\", \"categories\": [0], \"series\": [{\"data\": [0.8585526315789475]}]}, {\"name\": \"log_loss\", \"run_id\": \"AutoML_756df04b-5af5-4597-9a92-cb4d8f8c6019\", \"categories\": [0], \"series\": [{\"data\": [0.3238739397676635]}]}], \"run_logs\": \"\\nRun is completed.\", \"graph\": {}, \"widget_settings\": {\"childWidgetDisplay\": \"popup\", \"send_telemetry\": false, \"log_level\": \"INFO\", \"sdk_version\": \"1.25.0\"}, \"loading\": false}"
     },
     "metadata": {},
     "output_type": "display_data"
    },
    {
     "data": {
      "text/html": [
       "<table style=\"width:100%\"><tr><th>Experiment</th><th>Id</th><th>Type</th><th>Status</th><th>Details Page</th><th>Docs Page</th></tr><tr><td>project-automl-1</td><td>AutoML_756df04b-5af5-4597-9a92-cb4d8f8c6019</td><td>automl</td><td>NotStarted</td><td><a href=\"https://ml.azure.com/runs/AutoML_756df04b-5af5-4597-9a92-cb4d8f8c6019?wsid=/subscriptions/c8eb054b-91b3-425d-acbc-fe49c970c7c4/resourcegroups/udacityProject/workspaces/azProject3&amp;tid=3c3cb7bb-3b39-461c-a638-72ab2edec2c9\" target=\"_blank\" rel=\"noopener\">Link to Azure Machine Learning studio</a></td><td><a href=\"https://docs.microsoft.com/en-us/python/api/overview/azure/ml/intro?view=azure-ml-py\" target=\"_blank\" rel=\"noopener\">Link to Documentation</a></td></tr></table>"
      ],
      "text/plain": [
       "<IPython.core.display.HTML object>"
      ]
     },
     "metadata": {},
     "output_type": "display_data"
    },
    {
     "name": "stdout",
     "output_type": "stream",
     "text": [
      "\n",
      "Current status: FeaturesGeneration. Generating features for the dataset.\n",
      "Current status: DatasetCrossValidationSplit. Generating individually featurized CV splits.\n",
      "Current status: ModelSelection. Beginning model selection.\n",
      "\n",
      "****************************************************************************************************\n",
      "DATA GUARDRAILS: \n",
      "\n",
      "TYPE:         Class balancing detection\n",
      "STATUS:       PASSED\n",
      "DESCRIPTION:  Your inputs were analyzed, and all classes are balanced in your training data.\n",
      "              Learn more about imbalanced data: https://aka.ms/AutomatedMLImbalancedData\n",
      "\n",
      "****************************************************************************************************\n",
      "\n",
      "TYPE:         Missing feature values imputation\n",
      "STATUS:       PASSED\n",
      "DESCRIPTION:  No feature missing values were detected in the training data.\n",
      "              Learn more about missing value imputation: https://aka.ms/AutomatedMLFeaturization\n",
      "\n",
      "****************************************************************************************************\n",
      "\n",
      "TYPE:         High cardinality feature detection\n",
      "STATUS:       PASSED\n",
      "DESCRIPTION:  Your inputs were analyzed, and no high cardinality features were detected.\n",
      "              Learn more about high cardinality feature handling: https://aka.ms/AutomatedMLFeaturization\n",
      "\n",
      "****************************************************************************************************\n",
      "\n",
      "****************************************************************************************************\n",
      "ITERATION: The iteration being evaluated.\n",
      "PIPELINE: A summary description of the pipeline being evaluated.\n",
      "DURATION: Time taken for the current iteration.\n",
      "METRIC: The result of computing score on the fitted pipeline.\n",
      "BEST: The best observed score thus far.\n",
      "****************************************************************************************************\n",
      "\n",
      " ITERATION   PIPELINE                                       DURATION      METRIC      BEST\n",
      "         0   MaxAbsScaler LightGBM                          0:01:20       0.8577    0.8577\n",
      "         1   MaxAbsScaler XGBoostClassifier                 0:01:25       0.8531    0.8577\n",
      "         2   MaxAbsScaler RandomForest                      0:01:30       0.8244    0.8577\n",
      "         3   MaxAbsScaler RandomForest                      0:01:35       0.7489    0.8577\n",
      "         4   MaxAbsScaler RandomForest                      0:01:27       0.7457    0.8577\n",
      "         5   MaxAbsScaler RandomForest                      0:01:14       0.7317    0.8577\n",
      "         6   SparseNormalizer XGBoostClassifier             0:01:19       0.8353    0.8577\n",
      "         7   MaxAbsScaler RandomForest                      0:01:52       0.7602    0.8577\n",
      "         8   SparseNormalizer LightGBM                      0:01:10       0.7950    0.8577\n",
      "         9    VotingEnsemble                                0:01:29       0.8586    0.8586\n"
     ]
    },
    {
     "data": {
      "text/plain": [
       "{'runId': 'AutoML_756df04b-5af5-4597-9a92-cb4d8f8c6019',\n",
       " 'target': 'cpu-cluster-1',\n",
       " 'status': 'Completed',\n",
       " 'startTimeUtc': '2021-04-02T22:08:25.856265Z',\n",
       " 'endTimeUtc': '2021-04-02T22:39:09.777584Z',\n",
       " 'properties': {'num_iterations': '10',\n",
       "  'training_type': 'TrainFull',\n",
       "  'acquisition_function': 'EI',\n",
       "  'primary_metric': 'accuracy',\n",
       "  'train_split': '0.2',\n",
       "  'acquisition_parameter': '0',\n",
       "  'num_cross_validation': '3',\n",
       "  'target': 'cpu-cluster-1',\n",
       "  'AMLSettingsJsonString': '{\"path\":null,\"name\":\"project-automl-1\",\"subscription_id\":\"c8eb054b-91b3-425d-acbc-fe49c970c7c4\",\"resource_group\":\"udacityProject\",\"workspace_name\":\"azProject3\",\"region\":\"eastus\",\"compute_target\":\"cpu-cluster-1\",\"spark_service\":null,\"azure_service\":\"remote\",\"many_models\":false,\"pipeline_fetch_max_batch_size\":1,\"enable_batch_run\":false,\"enable_run_restructure\":false,\"iterations\":10,\"primary_metric\":\"accuracy\",\"task_type\":\"classification\",\"data_script\":null,\"test_size\":0.0,\"validation_size\":0.2,\"n_cross_validations\":3,\"y_min\":null,\"y_max\":null,\"num_classes\":null,\"featurization\":\"auto\",\"_ignore_package_version_incompatibilities\":false,\"is_timeseries\":false,\"max_cores_per_iteration\":1,\"max_concurrent_iterations\":1,\"iteration_timeout_minutes\":null,\"mem_in_mb\":null,\"enforce_time_on_windows\":true,\"experiment_timeout_minutes\":30,\"experiment_exit_score\":null,\"whitelist_models\":null,\"blacklist_algos\":[\"TensorFlowLinearClassifier\",\"TensorFlowDNN\"],\"supported_models\":[\"XGBoostClassifier\",\"RandomForest\",\"DecisionTree\",\"LogisticRegression\",\"SVM\",\"TensorFlowDNN\",\"BernoulliNaiveBayes\",\"ExtremeRandomTrees\",\"MultinomialNaiveBayes\",\"LinearSVM\",\"AveragedPerceptronClassifier\",\"SGD\",\"KNN\",\"LightGBM\",\"GradientBoosting\",\"TensorFlowLinearClassifier\"],\"private_models\":[],\"auto_blacklist\":true,\"blacklist_samples_reached\":false,\"exclude_nan_labels\":true,\"verbosity\":20,\"_debug_log\":\"azureml_automl.log\",\"show_warnings\":false,\"model_explainability\":true,\"service_url\":null,\"sdk_url\":null,\"sdk_packages\":null,\"enable_onnx_compatible_models\":true,\"enable_split_onnx_featurizer_estimator_models\":false,\"vm_type\":\"STANDARD_D2_V2\",\"telemetry_verbosity\":20,\"send_telemetry\":true,\"enable_dnn\":false,\"scenario\":\"SDK-1.13.0\",\"environment_label\":null,\"save_mlflow\":false,\"force_text_dnn\":false,\"enable_feature_sweeping\":false,\"enable_early_stopping\":false,\"early_stopping_n_iters\":10,\"metrics\":null,\"enable_metric_confidence\":false,\"enable_ensembling\":true,\"enable_stack_ensembling\":false,\"ensemble_iterations\":10,\"enable_tf\":false,\"enable_subsampling\":false,\"subsample_seed\":null,\"enable_nimbusml\":false,\"enable_streaming\":false,\"force_streaming\":false,\"track_child_runs\":true,\"allowed_private_models\":[],\"label_column_name\":\"class-label\",\"weight_column_name\":null,\"cv_split_column_names\":null,\"enable_local_managed\":false,\"_local_managed_run_id\":null,\"cost_mode\":1,\"lag_length\":0,\"metric_operation\":\"maximize\",\"preprocess\":true}',\n",
       "  'DataPrepJsonString': '{\\\\\"training_data\\\\\": \\\\\"{\\\\\\\\\\\\\"blocks\\\\\\\\\\\\\": [{\\\\\\\\\\\\\"id\\\\\\\\\\\\\": \\\\\\\\\\\\\"21f8d2d3-f0d3-43bf-8550-73836fb578e6\\\\\\\\\\\\\", \\\\\\\\\\\\\"type\\\\\\\\\\\\\": \\\\\\\\\\\\\"Microsoft.DPrep.GetDatastoreFilesBlock\\\\\\\\\\\\\", \\\\\\\\\\\\\"arguments\\\\\\\\\\\\\": {\\\\\\\\\\\\\"datastores\\\\\\\\\\\\\": [{\\\\\\\\\\\\\"datastoreName\\\\\\\\\\\\\": \\\\\\\\\\\\\"workspaceblobstore\\\\\\\\\\\\\", \\\\\\\\\\\\\"path\\\\\\\\\\\\\": \\\\\\\\\\\\\"UI/04-02-2021_123341_UTC/Adult_Data_Set.csv\\\\\\\\\\\\\", \\\\\\\\\\\\\"resourceGroup\\\\\\\\\\\\\": \\\\\\\\\\\\\"udacityProject\\\\\\\\\\\\\", \\\\\\\\\\\\\"subscription\\\\\\\\\\\\\": \\\\\\\\\\\\\"c8eb054b-91b3-425d-acbc-fe49c970c7c4\\\\\\\\\\\\\", \\\\\\\\\\\\\"workspaceName\\\\\\\\\\\\\": \\\\\\\\\\\\\"azProject3\\\\\\\\\\\\\"}]}, \\\\\\\\\\\\\"localData\\\\\\\\\\\\\": {}, \\\\\\\\\\\\\"isEnabled\\\\\\\\\\\\\": true, \\\\\\\\\\\\\"name\\\\\\\\\\\\\": null, \\\\\\\\\\\\\"annotation\\\\\\\\\\\\\": null}, {\\\\\\\\\\\\\"id\\\\\\\\\\\\\": \\\\\\\\\\\\\"51df2d5d-5744-4e15-9461-0ace3d5dd9ef\\\\\\\\\\\\\", \\\\\\\\\\\\\"type\\\\\\\\\\\\\": \\\\\\\\\\\\\"Microsoft.DPrep.ParseDelimitedBlock\\\\\\\\\\\\\", \\\\\\\\\\\\\"arguments\\\\\\\\\\\\\": {\\\\\\\\\\\\\"columnHeadersMode\\\\\\\\\\\\\": 1, \\\\\\\\\\\\\"fileEncoding\\\\\\\\\\\\\": 0, \\\\\\\\\\\\\"handleQuotedLineBreaks\\\\\\\\\\\\\": false, \\\\\\\\\\\\\"preview\\\\\\\\\\\\\": false, \\\\\\\\\\\\\"separator\\\\\\\\\\\\\": \\\\\\\\\\\\\",\\\\\\\\\\\\\", \\\\\\\\\\\\\"skipRows\\\\\\\\\\\\\": 0, \\\\\\\\\\\\\"skipRowsMode\\\\\\\\\\\\\": 0}, \\\\\\\\\\\\\"localData\\\\\\\\\\\\\": {}, \\\\\\\\\\\\\"isEnabled\\\\\\\\\\\\\": true, \\\\\\\\\\\\\"name\\\\\\\\\\\\\": null, \\\\\\\\\\\\\"annotation\\\\\\\\\\\\\": null}, {\\\\\\\\\\\\\"id\\\\\\\\\\\\\": \\\\\\\\\\\\\"2d186138-f97c-4518-a5ae-bfa607477e1e\\\\\\\\\\\\\", \\\\\\\\\\\\\"type\\\\\\\\\\\\\": \\\\\\\\\\\\\"Microsoft.DPrep.DropColumnsBlock\\\\\\\\\\\\\", \\\\\\\\\\\\\"arguments\\\\\\\\\\\\\": {\\\\\\\\\\\\\"columns\\\\\\\\\\\\\": {\\\\\\\\\\\\\"type\\\\\\\\\\\\\": 0, \\\\\\\\\\\\\"details\\\\\\\\\\\\\": {\\\\\\\\\\\\\"selectedColumns\\\\\\\\\\\\\": [\\\\\\\\\\\\\"Path\\\\\\\\\\\\\"]}}}, \\\\\\\\\\\\\"localData\\\\\\\\\\\\\": {}, \\\\\\\\\\\\\"isEnabled\\\\\\\\\\\\\": true, \\\\\\\\\\\\\"name\\\\\\\\\\\\\": null, \\\\\\\\\\\\\"annotation\\\\\\\\\\\\\": null}, {\\\\\\\\\\\\\"id\\\\\\\\\\\\\": \\\\\\\\\\\\\"05124936-b902-4fce-9e40-a3c3e7f5bced\\\\\\\\\\\\\", \\\\\\\\\\\\\"type\\\\\\\\\\\\\": \\\\\\\\\\\\\"Microsoft.DPrep.SetColumnTypesBlock\\\\\\\\\\\\\", \\\\\\\\\\\\\"arguments\\\\\\\\\\\\\": {\\\\\\\\\\\\\"columnConversion\\\\\\\\\\\\\": [{\\\\\\\\\\\\\"column\\\\\\\\\\\\\": {\\\\\\\\\\\\\"type\\\\\\\\\\\\\": 2, \\\\\\\\\\\\\"details\\\\\\\\\\\\\": {\\\\\\\\\\\\\"selectedColumn\\\\\\\\\\\\\": \\\\\\\\\\\\\"Path\\\\\\\\\\\\\"}}, \\\\\\\\\\\\\"typeProperty\\\\\\\\\\\\\": 0}, {\\\\\\\\\\\\\"column\\\\\\\\\\\\\": {\\\\\\\\\\\\\"type\\\\\\\\\\\\\": 2, \\\\\\\\\\\\\"details\\\\\\\\\\\\\": {\\\\\\\\\\\\\"selectedColumn\\\\\\\\\\\\\": \\\\\\\\\\\\\"age\\\\\\\\\\\\\"}}, \\\\\\\\\\\\\"typeProperty\\\\\\\\\\\\\": 2}, {\\\\\\\\\\\\\"column\\\\\\\\\\\\\": {\\\\\\\\\\\\\"type\\\\\\\\\\\\\": 2, \\\\\\\\\\\\\"details\\\\\\\\\\\\\": {\\\\\\\\\\\\\"selectedColumn\\\\\\\\\\\\\": \\\\\\\\\\\\\"workclass\\\\\\\\\\\\\"}}, \\\\\\\\\\\\\"typeProperty\\\\\\\\\\\\\": 0}, {\\\\\\\\\\\\\"column\\\\\\\\\\\\\": {\\\\\\\\\\\\\"type\\\\\\\\\\\\\": 2, \\\\\\\\\\\\\"details\\\\\\\\\\\\\": {\\\\\\\\\\\\\"selectedColumn\\\\\\\\\\\\\": \\\\\\\\\\\\\"fnlwgt\\\\\\\\\\\\\"}}, \\\\\\\\\\\\\"typeProperty\\\\\\\\\\\\\": 2}, {\\\\\\\\\\\\\"column\\\\\\\\\\\\\": {\\\\\\\\\\\\\"type\\\\\\\\\\\\\": 2, \\\\\\\\\\\\\"details\\\\\\\\\\\\\": {\\\\\\\\\\\\\"selectedColumn\\\\\\\\\\\\\": \\\\\\\\\\\\\"education\\\\\\\\\\\\\"}}, \\\\\\\\\\\\\"typeProperty\\\\\\\\\\\\\": 0}, {\\\\\\\\\\\\\"column\\\\\\\\\\\\\": {\\\\\\\\\\\\\"type\\\\\\\\\\\\\": 2, \\\\\\\\\\\\\"details\\\\\\\\\\\\\": {\\\\\\\\\\\\\"selectedColumn\\\\\\\\\\\\\": \\\\\\\\\\\\\"education-num\\\\\\\\\\\\\"}}, \\\\\\\\\\\\\"typeProperty\\\\\\\\\\\\\": 2}, {\\\\\\\\\\\\\"column\\\\\\\\\\\\\": {\\\\\\\\\\\\\"type\\\\\\\\\\\\\": 2, \\\\\\\\\\\\\"details\\\\\\\\\\\\\": {\\\\\\\\\\\\\"selectedColumn\\\\\\\\\\\\\": \\\\\\\\\\\\\"marital-status\\\\\\\\\\\\\"}}, \\\\\\\\\\\\\"typeProperty\\\\\\\\\\\\\": 0}, {\\\\\\\\\\\\\"column\\\\\\\\\\\\\": {\\\\\\\\\\\\\"type\\\\\\\\\\\\\": 2, \\\\\\\\\\\\\"details\\\\\\\\\\\\\": {\\\\\\\\\\\\\"selectedColumn\\\\\\\\\\\\\": \\\\\\\\\\\\\"occupation\\\\\\\\\\\\\"}}, \\\\\\\\\\\\\"typeProperty\\\\\\\\\\\\\": 0}, {\\\\\\\\\\\\\"column\\\\\\\\\\\\\": {\\\\\\\\\\\\\"type\\\\\\\\\\\\\": 2, \\\\\\\\\\\\\"details\\\\\\\\\\\\\": {\\\\\\\\\\\\\"selectedColumn\\\\\\\\\\\\\": \\\\\\\\\\\\\"relationship\\\\\\\\\\\\\"}}, \\\\\\\\\\\\\"typeProperty\\\\\\\\\\\\\": 0}, {\\\\\\\\\\\\\"column\\\\\\\\\\\\\": {\\\\\\\\\\\\\"type\\\\\\\\\\\\\": 2, \\\\\\\\\\\\\"details\\\\\\\\\\\\\": {\\\\\\\\\\\\\"selectedColumn\\\\\\\\\\\\\": \\\\\\\\\\\\\"race\\\\\\\\\\\\\"}}, \\\\\\\\\\\\\"typeProperty\\\\\\\\\\\\\": 0}, {\\\\\\\\\\\\\"column\\\\\\\\\\\\\": {\\\\\\\\\\\\\"type\\\\\\\\\\\\\": 2, \\\\\\\\\\\\\"details\\\\\\\\\\\\\": {\\\\\\\\\\\\\"selectedColumn\\\\\\\\\\\\\": \\\\\\\\\\\\\"sex\\\\\\\\\\\\\"}}, \\\\\\\\\\\\\"typeProperty\\\\\\\\\\\\\": 0}, {\\\\\\\\\\\\\"column\\\\\\\\\\\\\": {\\\\\\\\\\\\\"type\\\\\\\\\\\\\": 2, \\\\\\\\\\\\\"details\\\\\\\\\\\\\": {\\\\\\\\\\\\\"selectedColumn\\\\\\\\\\\\\": \\\\\\\\\\\\\"capital-gain\\\\\\\\\\\\\"}}, \\\\\\\\\\\\\"typeProperty\\\\\\\\\\\\\": 2}, {\\\\\\\\\\\\\"column\\\\\\\\\\\\\": {\\\\\\\\\\\\\"type\\\\\\\\\\\\\": 2, \\\\\\\\\\\\\"details\\\\\\\\\\\\\": {\\\\\\\\\\\\\"selectedColumn\\\\\\\\\\\\\": \\\\\\\\\\\\\"capital-loss\\\\\\\\\\\\\"}}, \\\\\\\\\\\\\"typeProperty\\\\\\\\\\\\\": 2}, {\\\\\\\\\\\\\"column\\\\\\\\\\\\\": {\\\\\\\\\\\\\"type\\\\\\\\\\\\\": 2, \\\\\\\\\\\\\"details\\\\\\\\\\\\\": {\\\\\\\\\\\\\"selectedColumn\\\\\\\\\\\\\": \\\\\\\\\\\\\"hours-per-week\\\\\\\\\\\\\"}}, \\\\\\\\\\\\\"typeProperty\\\\\\\\\\\\\": 2}, {\\\\\\\\\\\\\"column\\\\\\\\\\\\\": {\\\\\\\\\\\\\"type\\\\\\\\\\\\\": 2, \\\\\\\\\\\\\"details\\\\\\\\\\\\\": {\\\\\\\\\\\\\"selectedColumn\\\\\\\\\\\\\": \\\\\\\\\\\\\"native-country\\\\\\\\\\\\\"}}, \\\\\\\\\\\\\"typeProperty\\\\\\\\\\\\\": 0}, {\\\\\\\\\\\\\"column\\\\\\\\\\\\\": {\\\\\\\\\\\\\"type\\\\\\\\\\\\\": 2, \\\\\\\\\\\\\"details\\\\\\\\\\\\\": {\\\\\\\\\\\\\"selectedColumn\\\\\\\\\\\\\": \\\\\\\\\\\\\"class-label\\\\\\\\\\\\\"}}, \\\\\\\\\\\\\"typeProperty\\\\\\\\\\\\\": 0}]}, \\\\\\\\\\\\\"localData\\\\\\\\\\\\\": {}, \\\\\\\\\\\\\"isEnabled\\\\\\\\\\\\\": true, \\\\\\\\\\\\\"name\\\\\\\\\\\\\": null, \\\\\\\\\\\\\"annotation\\\\\\\\\\\\\": null}], \\\\\\\\\\\\\"inspectors\\\\\\\\\\\\\": [], \\\\\\\\\\\\\"meta\\\\\\\\\\\\\": {\\\\\\\\\\\\\"savedDatasetId\\\\\\\\\\\\\": \\\\\\\\\\\\\"e447788c-91b9-4e7e-aeac-7f9712814a3c\\\\\\\\\\\\\", \\\\\\\\\\\\\"datasetType\\\\\\\\\\\\\": \\\\\\\\\\\\\"tabular\\\\\\\\\\\\\", \\\\\\\\\\\\\"subscriptionId\\\\\\\\\\\\\": \\\\\\\\\\\\\"c8eb054b-91b3-425d-acbc-fe49c970c7c4\\\\\\\\\\\\\", \\\\\\\\\\\\\"workspaceId\\\\\\\\\\\\\": \\\\\\\\\\\\\"7a4724ad-aa7f-4974-909c-4782a918f841\\\\\\\\\\\\\", \\\\\\\\\\\\\"workspaceLocation\\\\\\\\\\\\\": \\\\\\\\\\\\\"eastus\\\\\\\\\\\\\"}}\\\\\", \\\\\"activities\\\\\": 0}',\n",
       "  'EnableSubsampling': 'False',\n",
       "  'runTemplate': 'AutoML',\n",
       "  'azureml.runsource': 'automl',\n",
       "  'display_task_type': 'classification',\n",
       "  'dependencies_versions': '{\"azureml\": \"0.2.7\", \"azureml-widgets\": \"1.25.0\", \"azureml-train\": \"1.25.0\", \"azureml-train-restclients-hyperdrive\": \"1.25.0\", \"azureml-train-core\": \"1.25.0\", \"azureml-train-automl-client\": \"1.25.0\", \"azureml-telemetry\": \"1.25.0\", \"azureml-sdk\": \"1.25.0\", \"azureml-pipeline\": \"1.25.0\", \"azureml-pipeline-steps\": \"1.25.0\", \"azureml-pipeline-core\": \"1.25.0\", \"azureml-dataset-runtime\": \"1.25.0\", \"azureml-dataprep\": \"2.11.2\", \"azureml-dataprep-rslex\": \"1.2.3\", \"azureml-dataprep-native\": \"24.0.0\", \"azureml-core\": \"1.25.0\", \"azureml-automl-core\": \"1.25.0\"}',\n",
       "  '_aml_system_scenario_identification': 'Remote.Parent',\n",
       "  'ClientType': 'SDK',\n",
       "  'environment_cpu_name': 'AzureML-AutoML',\n",
       "  'environment_cpu_label': 'prod',\n",
       "  'environment_gpu_name': 'AzureML-AutoML-GPU',\n",
       "  'environment_gpu_label': 'prod',\n",
       "  'root_attribution': 'automl',\n",
       "  'attribution': 'AutoML',\n",
       "  'Orchestrator': 'AutoML',\n",
       "  'CancelUri': 'https://eastus.experiments.azureml.net/jasmine/v1.0/subscriptions/c8eb054b-91b3-425d-acbc-fe49c970c7c4/resourceGroups/udacityProject/providers/Microsoft.MachineLearningServices/workspaces/azProject3/experimentids/ee46afb5-f2d6-4d44-a70f-d8263fed4913/cancel/AutoML_756df04b-5af5-4597-9a92-cb4d8f8c6019',\n",
       "  'ClientSdkVersion': '1.25.0',\n",
       "  'snapshotId': '00000000-0000-0000-0000-000000000000',\n",
       "  'SetupRunId': 'AutoML_756df04b-5af5-4597-9a92-cb4d8f8c6019_setup',\n",
       "  'SetupRunContainerId': 'dcid.AutoML_756df04b-5af5-4597-9a92-cb4d8f8c6019_setup',\n",
       "  'FeaturizationRunJsonPath': 'featurizer_container.json',\n",
       "  'FeaturizationRunId': 'AutoML_756df04b-5af5-4597-9a92-cb4d8f8c6019_featurize',\n",
       "  'ProblemInfoJsonString': '{\"dataset_num_categorical\": 0, \"is_sparse\": true, \"subsampling\": false, \"dataset_classes\": 2, \"dataset_features\": 117, \"dataset_samples\": 13678, \"single_frequency_class_detected\": false}',\n",
       "  'ModelExplainRunId': 'AutoML_756df04b-5af5-4597-9a92-cb4d8f8c6019_ModelExplain'},\n",
       " 'inputDatasets': [{'dataset': {'id': 'e447788c-91b9-4e7e-aeac-7f9712814a3c'}, 'consumptionDetails': {'type': 'RunInput', 'inputName': 'training_data', 'mechanism': 'Direct'}}],\n",
       " 'outputDatasets': [],\n",
       " 'logFiles': {},\n",
       " 'submittedBy': 'Larry Jiang'}"
      ]
     },
     "execution_count": 7,
     "metadata": {},
     "output_type": "execute_result"
    },
    {
     "data": {
      "application/vnd.jupyter.widget-view+json": {
       "model_id": "",
       "version_major": 2,
       "version_minor": 0
      },
      "text/plain": [
       "_UserRunWidget(widget_settings={'childWidgetDisplay': 'popup', 'send_telemetry': False, 'log_level': 'INFO', '…"
      ]
     },
     "metadata": {},
     "output_type": "display_data"
    },
    {
     "data": {
      "application/aml.mini.widget.v1": "{\"loading\": true}"
     },
     "metadata": {},
     "output_type": "display_data"
    },
    {
     "data": {
      "application/vnd.jupyter.widget-view+json": {
       "model_id": "c3a7391e90d94c34af314f8321515b93",
       "version_major": 2,
       "version_minor": 0
      },
      "text/plain": [
       "_UserRunWidget(widget_settings={'childWidgetDisplay': 'popup', 'send_telemetry': False, 'log_level': 'INFO', '…"
      ]
     },
     "metadata": {},
     "output_type": "display_data"
    },
    {
     "data": {
      "application/aml.mini.widget.v1": "{\"loading\": true}"
     },
     "metadata": {},
     "output_type": "display_data"
    }
   ],
   "source": [
    "RunDetails(remote_run).show()\n",
    "remote_run.wait_for_completion(show_output=True)"
   ]
  },
  {
   "cell_type": "markdown",
   "metadata": {},
   "source": [
    "## Best Model\n",
    "\n",
    "TODO: In the cell below, get the best model from the automl experiments and display all the properties of the model.\n",
    "\n"
   ]
  },
  {
   "cell_type": "code",
   "execution_count": 24,
   "metadata": {
    "gather": {
     "logged": 1598431426111
    },
    "jupyter": {
     "outputs_hidden": false,
     "source_hidden": false
    },
    "nteract": {
     "transient": {
      "deleting": false
     }
    }
   },
   "outputs": [
    {
     "name": "stderr",
     "output_type": "stream",
     "text": [
      "WARNING:root:The model you attempted to retrieve requires 'azureml-train-automl-runtime' to be installed at '==1.25.0'. Please install 'azureml-train-automl-runtime==1.25.0' (e.g. `pip install azureml-train-automl-runtime==1.25.0`) and then rerun the previous command.\n"
     ]
    },
    {
     "name": "stdout",
     "output_type": "stream",
     "text": [
      "Run ID: AutoML_756df04b-5af5-4597-9a92-cb4d8f8c6019_9\n",
      "Metrics: 0.8585526315789475\n",
      "{'weighted_accuracy': 0.9125327168584842, 'f1_score_weighted': 0.8507542770696367, 'precision_score_macro': 0.8381331975190719, 'AUC_micro': 0.9381512420488356, 'balanced_accuracy': 0.7709416400958938, 'average_precision_score_weighted': 0.928270335961637, 'precision_score_weighted': 0.8541802118856364, 'recall_score_micro': 0.8585526315789475, 'recall_score_macro': 0.7709416400958938, 'precision_score_micro': 0.8585526315789475, 'recall_score_weighted': 0.8585526315789475, 'average_precision_score_macro': 0.8899641950617586, 'AUC_weighted': 0.9150593109469273, 'log_loss': 0.3238739397676635, 'accuracy': 0.8585526315789475, 'f1_score_macro': 0.7953212869179835, 'matthews_correlation': 0.6053172479099813, 'average_precision_score_micro': 0.9402276679164729, 'f1_score_micro': 0.8585526315789475, 'AUC_macro': 0.9150593109469275, 'norm_macro_recall': 0.541883280191788, 'confusion_matrix': 'aml://artifactId/ExperimentRun/dcid.AutoML_756df04b-5af5-4597-9a92-cb4d8f8c6019_9/confusion_matrix', 'accuracy_table': 'aml://artifactId/ExperimentRun/dcid.AutoML_756df04b-5af5-4597-9a92-cb4d8f8c6019_9/accuracy_table'}\n",
      "weighted_accuracy 0.9125327168584842\n",
      "f1_score_weighted 0.8507542770696367\n",
      "precision_score_macro 0.8381331975190719\n",
      "AUC_micro 0.9381512420488356\n",
      "balanced_accuracy 0.7709416400958938\n",
      "average_precision_score_weighted 0.928270335961637\n",
      "precision_score_weighted 0.8541802118856364\n",
      "recall_score_micro 0.8585526315789475\n",
      "recall_score_macro 0.7709416400958938\n",
      "precision_score_micro 0.8585526315789475\n",
      "recall_score_weighted 0.8585526315789475\n",
      "average_precision_score_macro 0.8899641950617586\n",
      "AUC_weighted 0.9150593109469273\n",
      "log_loss 0.3238739397676635\n",
      "accuracy 0.8585526315789475\n",
      "f1_score_macro 0.7953212869179835\n",
      "matthews_correlation 0.6053172479099813\n",
      "average_precision_score_micro 0.9402276679164729\n",
      "f1_score_micro 0.8585526315789475\n",
      "AUC_macro 0.9150593109469275\n",
      "norm_macro_recall 0.541883280191788\n",
      "confusion_matrix aml://artifactId/ExperimentRun/dcid.AutoML_756df04b-5af5-4597-9a92-cb4d8f8c6019_9/confusion_matrix\n",
      "accuracy_table aml://artifactId/ExperimentRun/dcid.AutoML_756df04b-5af5-4597-9a92-cb4d8f8c6019_9/accuracy_table\n"
     ]
    },
    {
     "data": {
      "text/plain": [
       "Model(workspace=Workspace.create(name='azProject3', subscription_id='c8eb054b-91b3-425d-acbc-fe49c970c7c4', resource_group='udacityProject'), name=model, id=model:5, version=5, tags={}, properties={})"
      ]
     },
     "execution_count": 24,
     "metadata": {},
     "output_type": "execute_result"
    }
   ],
   "source": [
    "#TODO: Save the best model\n",
    "best_run, model = remote_run.get_output()\n",
    "best_run_metrics = best_run.get_metrics()\n",
    "parameter_values = best_run.get_details()['runDefinition']\n",
    "print(\"Run ID:\",best_run.id)\n",
    "print('Metrics:',best_run_metrics['accuracy'])\n",
    "print(best_run_metrics)\n",
    "\n",
    "for metric_name in best_run_metrics:\n",
    "    metric = best_run_metrics[metric_name]\n",
    "    print(metric_name, metric)\n",
    "    \n",
    "model_name = 'model'\n",
    "best_run.register_model(model_path='outputs/model.pkl', model_name=model_name)"
   ]
  },
  {
   "cell_type": "markdown",
   "metadata": {},
   "source": [
    "## Model Deployment\n",
    "\n",
    "Remember you have to deploy only one of the two models you trained.. Perform the steps in the rest of this notebook only if you wish to deploy this model.\n",
    "\n",
    "TODO: In the cell below, register the model, create an inference config and deploy the model as a web service."
   ]
  },
  {
   "cell_type": "code",
   "execution_count": 26,
   "metadata": {
    "gather": {
     "logged": 1598431435189
    },
    "jupyter": {
     "outputs_hidden": false,
     "source_hidden": false
    },
    "nteract": {
     "transient": {
      "deleting": false
     }
    },
    "scrolled": false
   },
   "outputs": [
    {
     "name": "stdout",
     "output_type": "stream",
     "text": [
      "Tips: You can try get_logs(): https://aka.ms/debugimage#dockerlog or local deployment: https://aka.ms/debugimage#debug-locally to debug if deployment takes longer than 10 minutes.\n",
      "Running\n",
      "2021-04-03 11:36:43+11:00 Creating Container Registry if not exists.\n",
      "2021-04-03 11:36:45+11:00 Use the existing image.\n",
      "2021-04-03 11:36:45+11:00 Generating deployment configuration.\n",
      "2021-04-03 11:36:48+11:00 Submitting deployment to compute..\n",
      "2021-04-03 11:36:52+11:00 Checking the status of deployment automl-classifier..\n",
      "2021-04-03 11:41:09+11:00 Checking the status of inference endpoint automl-classifier.\n",
      "Succeeded\n",
      "ACI service creation operation finished, operation \"Succeeded\"\n"
     ]
    }
   ],
   "source": [
    "from azureml.core.conda_dependencies import CondaDependencies\n",
    "from azureml.core.compute import ComputeTarget\n",
    "from azureml.core.webservice import AciWebservice\n",
    "from azureml.core.model import InferenceConfig\n",
    "from azureml.core.model import Model\n",
    "from azureml.core import Environment\n",
    "import sklearn\n",
    "inference_config = InferenceConfig(entry_script='score.py')\n",
    "aci_config = AciWebservice.deploy_configuration(cpu_cores=1, memory_gb=1,auth_enabled=True)\n",
    "model = ws.models[model_name]\n",
    "service = Model.deploy(workspace=ws,\n",
    "                       name='automl-classifier',\n",
    "                       models=[model],\n",
    "                       inference_config=inference_config,\n",
    "                       deployment_config=aci_config)\n",
    "service.wait_for_deployment(show_output = True)"
   ]
  },
  {
   "cell_type": "markdown",
   "metadata": {
    "collapsed": true,
    "gather": {
     "logged": 1598431657736
    },
    "jupyter": {
     "outputs_hidden": false,
     "source_hidden": false
    },
    "nteract": {
     "transient": {
      "deleting": false
     }
    }
   },
   "source": [
    "TODO: In the cell below, send a request to the web service you deployed to test it."
   ]
  },
  {
   "cell_type": "code",
   "execution_count": 42,
   "metadata": {
    "gather": {
     "logged": 1598432707604
    },
    "jupyter": {
     "outputs_hidden": false,
     "source_hidden": false
    },
    "nteract": {
     "transient": {
      "deleting": false
     }
    }
   },
   "outputs": [
    {
     "name": "stdout",
     "output_type": "stream",
     "text": [
      "b'\"{\\\\\"result\\\\\": [\\\\\"Low\\\\\"]}\"'\n"
     ]
    }
   ],
   "source": [
    "import urllib.request\n",
    "import json\n",
    "import os\n",
    "import ssl\n",
    "\n",
    "def allowSelfSignedHttps(allowed):\n",
    "    # bypass the server certificate verification on client side\n",
    "    if allowed and not os.environ.get('PYTHONHTTPSVERIFY', '') and getattr(ssl, '_create_unverified_context', None):\n",
    "        ssl._create_default_https_context = ssl._create_unverified_context\n",
    "\n",
    "allowSelfSignedHttps(True) # this line is needed if you use self-signed certificate in your scoring service.\n",
    "\n",
    "data = {\n",
    "    \"data\":\n",
    "    [\n",
    "        {\n",
    "            'age': \"21\",\n",
    "            'workclass': \"Private\",\n",
    "            'fnlwgt': \"287436\",\n",
    "            'education': \" HS-grad\",\n",
    "            'education-num': \"9\",\n",
    "            'marital-status': \" Never-married\",\n",
    "            'occupation': \" Machine-op-inspct\",\n",
    "            'relationship': \" Husband\",\n",
    "            'race': \" Black\",\n",
    "            'sex': \" Male\",\n",
    "            'capital-gain': \"0\",\n",
    "            'capital-loss': \"0\",\n",
    "            'hours-per-week': \"38\",\n",
    "            'native-country': \"United-States\",\n",
    "        },\n",
    "    ],\n",
    "}\n",
    "\n",
    "body = str.encode(json.dumps(data))\n",
    "\n",
    "url = 'http://8aac64d4-9cc5-4e46-af34-f1dfba961bac.eastus.azurecontainer.io/score'\n",
    "api_key = 'ZD0Q7HVdqMQpU5JPMxiAGoXLqOClfryJ' # Replace this with the API key for the web service\n",
    "headers = {'Content-Type':'application/json', 'Authorization':('Bearer '+ api_key)}\n",
    "\n",
    "req = urllib.request.Request(url, body, headers)\n",
    "\n",
    "try:\n",
    "    response = urllib.request.urlopen(req)\n",
    "\n",
    "    result = response.read()\n",
    "    print(result)\n",
    "except urllib.error.HTTPError as error:\n",
    "    print(\"The request failed with status code: \" + str(error.code))\n",
    "\n",
    "    # Print the headers - they include the requert ID and the timestamp, which are useful for debugging the failure\n",
    "    print(error.info())\n",
    "    print(json.loads(error.read().decode(\"utf8\", 'ignore')))"
   ]
  },
  {
   "cell_type": "markdown",
   "metadata": {
    "collapsed": true,
    "gather": {
     "logged": 1598432765711
    },
    "jupyter": {
     "outputs_hidden": false,
     "source_hidden": false
    },
    "nteract": {
     "transient": {
      "deleting": false
     }
    }
   },
   "source": [
    "TODO: In the cell below, print the logs of the web service and delete the service"
   ]
  },
  {
   "cell_type": "code",
   "execution_count": 43,
   "metadata": {
    "jupyter": {
     "outputs_hidden": false,
     "source_hidden": false
    },
    "nteract": {
     "transient": {
      "deleting": false
     }
    }
   },
   "outputs": [
    {
     "name": "stdout",
     "output_type": "stream",
     "text": [
      "2021-04-03T01:01:26,137661900+00:00 - rsyslog/run \n",
      "2021-04-03T01:01:26,141375000+00:00 - iot-server/run \n",
      "2021-04-03T01:01:26,143054700+00:00 - gunicorn/run \n",
      "2021-04-03T01:01:26,197769600+00:00 - nginx/run \n",
      "/usr/sbin/nginx: /azureml-envs/azureml_8e5a5a51349877e7d47c6a2872e0ebfd/lib/libcrypto.so.1.0.0: no version information available (required by /usr/sbin/nginx)\n",
      "/usr/sbin/nginx: /azureml-envs/azureml_8e5a5a51349877e7d47c6a2872e0ebfd/lib/libcrypto.so.1.0.0: no version information available (required by /usr/sbin/nginx)\n",
      "/usr/sbin/nginx: /azureml-envs/azureml_8e5a5a51349877e7d47c6a2872e0ebfd/lib/libssl.so.1.0.0: no version information available (required by /usr/sbin/nginx)\n",
      "/usr/sbin/nginx: /azureml-envs/azureml_8e5a5a51349877e7d47c6a2872e0ebfd/lib/libssl.so.1.0.0: no version information available (required by /usr/sbin/nginx)\n",
      "/usr/sbin/nginx: /azureml-envs/azureml_8e5a5a51349877e7d47c6a2872e0ebfd/lib/libssl.so.1.0.0: no version information available (required by /usr/sbin/nginx)\n",
      "rsyslogd: /azureml-envs/azureml_8e5a5a51349877e7d47c6a2872e0ebfd/lib/libuuid.so.1: no version information available (required by rsyslogd)\n",
      "EdgeHubConnectionString and IOTEDGE_IOTHUBHOSTNAME are not set. Exiting...\n",
      "2021-04-03T01:01:26,467251400+00:00 - iot-server/finish 1 0\n",
      "2021-04-03T01:01:26,468798900+00:00 - Exit code 1 is normal. Not restarting iot-server.\n",
      "Starting gunicorn 19.9.0\n",
      "Listening at: http://127.0.0.1:31311 (67)\n",
      "Using worker: sync\n",
      "worker timeout is set to 300\n",
      "Booting worker with pid: 94\n",
      "SPARK_HOME not set. Skipping PySpark Initialization.\n",
      "Generating new fontManager, this may take some time...\n",
      "Initializing logger\n",
      "2021-04-03 01:01:28,194 | root | INFO | Starting up app insights client\n",
      "2021-04-03 01:01:28,194 | root | INFO | Starting up request id generator\n",
      "2021-04-03 01:01:28,195 | root | INFO | Starting up app insight hooks\n",
      "2021-04-03 01:01:28,195 | root | INFO | Invoking user's init function\n",
      "2021-04-03 01:01:31,192 | azureml.core | WARNING | Failure while loading azureml_run_type_providers. Failed to load entrypoint automl = azureml.train.automl.run:AutoMLRun._from_run_dto with exception cannot import name 'RunType'.\n",
      "Failure while loading azureml_run_type_providers. Failed to load entrypoint automl = azureml.train.automl.run:AutoMLRun._from_run_dto with exception cannot import name 'RunType'.\n",
      "2021-04-03 01:01:31,662 | root | INFO | Users's init has completed successfully\n",
      "2021-04-03 01:01:31,674 | root | INFO | Skipping middleware: dbg_model_info as it's not enabled.\n",
      "2021-04-03 01:01:31,675 | root | INFO | Skipping middleware: dbg_resource_usage as it's not enabled.\n",
      "2021-04-03 01:01:31,677 | root | INFO | Scoring timeout is found from os.environ: 60000 ms\n",
      "2021-04-03 01:01:53,788 | root | INFO | 200\n",
      "127.0.0.1 - - [03/Apr/2021:01:01:53 +0000] \"GET /swagger.json HTTP/1.0\" 200 2906 \"-\" \"Go-http-client/1.1\"\n",
      "2021-04-03 01:03:52,769 | root | INFO | 200\n",
      "127.0.0.1 - - [03/Apr/2021:01:03:52 +0000] \"GET /swagger.json HTTP/1.0\" 200 2906 \"-\" \"Go-http-client/1.1\"\n",
      "2021-04-03 01:03:55,267 | root | INFO | 200\n",
      "127.0.0.1 - - [03/Apr/2021:01:03:55 +0000] \"GET /swagger.json HTTP/1.0\" 200 2906 \"-\" \"Go-http-client/1.1\"\n",
      "2021-04-03 01:06:29,707 | root | INFO | Validation Request Content-Type\n",
      "2021-04-03 01:06:29,708 | root | INFO | Scoring Timer is set to 60.0 seconds\n",
      "2021-04-03 01:06:29,843 | root | INFO | 200\n",
      "127.0.0.1 - - [03/Apr/2021:01:06:29 +0000] \"POST /score HTTP/1.0\" 200 25 \"-\" \"Python-urllib/3.8\"\n",
      "\n"
     ]
    }
   ],
   "source": [
    "print(service.get_logs())"
   ]
  },
  {
   "cell_type": "code",
   "execution_count": 44,
   "metadata": {},
   "outputs": [],
   "source": [
    "compute_target.delete()"
   ]
  },
  {
   "cell_type": "code",
   "execution_count": null,
   "metadata": {},
   "outputs": [],
   "source": []
  }
 ],
 "metadata": {
  "kernel_info": {
   "name": "python3-azureml"
  },
  "kernelspec": {
   "display_name": "Python 3",
   "language": "python",
   "name": "python3"
  },
  "language_info": {
   "codemirror_mode": {
    "name": "ipython",
    "version": 3
   },
   "file_extension": ".py",
   "mimetype": "text/x-python",
   "name": "python",
   "nbconvert_exporter": "python",
   "pygments_lexer": "ipython3",
   "version": "3.8.5"
  },
  "nteract": {
   "version": "nteract-front-end@1.0.0"
  }
 },
 "nbformat": 4,
 "nbformat_minor": 2
}
